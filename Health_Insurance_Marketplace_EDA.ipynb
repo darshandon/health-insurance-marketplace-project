{
 "cells": [
  {
   "cell_type": "markdown",
   "metadata": {},
   "source": [
    "Link: https://www.kaggle.com/hhs/health-insurance-marketplace\n",
    "\n",
    "The Health Insurance Marketplace Public Use Files contain data on health and dental plans offered to individuals and small businesses through the US Health Insurance Marketplace.\n",
    "\n",
    "This data was originally prepared and released by the Centers for Medicare & Medicaid Services (CMS)."
   ]
  },
  {
   "cell_type": "markdown",
   "metadata": {},
   "source": [
    "Data Dictionaries:\n",
    "\n",
    "https://www.cms.gov/cciio/resources/data-resources/marketplace-puf\n",
    "\n",
    "save all 2020 datasets -- *done* <br>\n",
    "save all 2020 data dictionaries -- *done*\n",
    "\n",
    "don't use the bundle_archive folder datasets (is for years 2014-2016)"
   ]
  },
  {
   "cell_type": "code",
   "execution_count": 1,
   "metadata": {},
   "outputs": [],
   "source": [
    "import numpy as np\n",
    "import pandas as pd\n",
    "import matplotlib.pyplot as plt\n",
    "import seaborn as sns"
   ]
  },
  {
   "cell_type": "code",
   "execution_count": 45,
   "metadata": {},
   "outputs": [
    {
     "name": "stderr",
     "output_type": "stream",
     "text": [
      "D:\\Anaconda\\lib\\site-packages\\IPython\\core\\interactiveshell.py:3063: DtypeWarning: Columns (9,12,19) have mixed types.Specify dtype option on import or set low_memory=False.\n",
      "  interactivity=interactivity, compiler=compiler, result=result)\n"
     ]
    }
   ],
   "source": [
    "#Read in all datasets for 2020.\n",
    "\n",
    "benefitscostsharing = pd.read_csv(\"D:/Datasets/CMS_healthinsurance_bundle_2020/Benefits_Cost_Sharing_PUF.csv\", encoding='cp1252');\n",
    "#Windows-1252 or CP-1252 (code page 1252) is a single-byte character encoding of the Latin alphabet, \n",
    "#used by default in the legacy components of Microsoft Windows for English \n",
    "#and many European languages such as Spanish, French, and German.\n",
    "#    has /t for a lot of column headers** -- is there a way to account for this with read_csv? (TBD)\n",
    "\n",
    "\n",
    "#bizrules = pd.read_csv(\"D:/Datasets/21_2159_bundle_archive/BusinessRules.csv\");\n",
    "#network = pd.read_csv(\"D:/Datasets/21_2159_bundle_archive/Network.csv\");\n",
    "#planattributes = pd.read_csv(\"D:/Datasets/21_2159_bundle_archive/PlanAttributes.csv\");\n",
    "#rate = pd.read_csv(\"D:/Datasets/21_2159_bundle_archive/Rate.csv\");\n",
    "#servicearea = pd.read_csv(\"D:/Datasets/21_2159_bundle_archive/ServiceArea.csv\");\n"
   ]
  },
  {
   "cell_type": "code",
   "execution_count": 26,
   "metadata": {},
   "outputs": [
    {
     "data": {
      "text/html": [
       "<div>\n",
       "<style scoped>\n",
       "    .dataframe tbody tr th:only-of-type {\n",
       "        vertical-align: middle;\n",
       "    }\n",
       "\n",
       "    .dataframe tbody tr th {\n",
       "        vertical-align: top;\n",
       "    }\n",
       "\n",
       "    .dataframe thead th {\n",
       "        text-align: right;\n",
       "    }\n",
       "</style>\n",
       "<table border=\"1\" class=\"dataframe\">\n",
       "  <thead>\n",
       "    <tr style=\"text-align: right;\">\n",
       "      <th></th>\n",
       "      <th>BusinessYear</th>\n",
       "      <th>StateCode</th>\n",
       "      <th>IssuerId</th>\n",
       "      <th>SourceName</th>\n",
       "      <th>ImportDate</th>\n",
       "      <th>StandardComponentId</th>\n",
       "      <th>PlanId</th>\n",
       "      <th>BenefitName</th>\n",
       "      <th>CopayInnTier1</th>\n",
       "      <th>CopayInnTier2</th>\n",
       "      <th>...</th>\n",
       "      <th>IsEHB</th>\n",
       "      <th>IsCovered</th>\n",
       "      <th>QuantLimitOnSvc</th>\n",
       "      <th>LimitQty</th>\n",
       "      <th>LimitUnit</th>\n",
       "      <th>Exclusions</th>\n",
       "      <th>Explanation</th>\n",
       "      <th>EHBVarReason</th>\n",
       "      <th>IsExclFromInnMOOP</th>\n",
       "      <th>IsExclFromOonMOOP</th>\n",
       "    </tr>\n",
       "  </thead>\n",
       "  <tbody>\n",
       "    <tr>\n",
       "      <th>0</th>\n",
       "      <td>2020</td>\n",
       "      <td>AK</td>\n",
       "      <td>21989</td>\n",
       "      <td>HIOS</td>\n",
       "      <td>2019-08-09 03:20:19</td>\n",
       "      <td>21989AK0030001</td>\n",
       "      <td>21989AK0030001-00</td>\n",
       "      <td>Routine Dental Services (Adult)</td>\n",
       "      <td>Not Applicable</td>\n",
       "      <td>NaN</td>\n",
       "      <td>...</td>\n",
       "      <td>NaN</td>\n",
       "      <td>Covered</td>\n",
       "      <td>Yes</td>\n",
       "      <td>1000.0</td>\n",
       "      <td>Dollars per Year</td>\n",
       "      <td>NaN</td>\n",
       "      <td>$1000 annual maximum plan payment limit combin...</td>\n",
       "      <td>Not EHB</td>\n",
       "      <td>Yes</td>\n",
       "      <td>Yes</td>\n",
       "    </tr>\n",
       "    <tr>\n",
       "      <th>1</th>\n",
       "      <td>2020</td>\n",
       "      <td>AK</td>\n",
       "      <td>21989</td>\n",
       "      <td>HIOS</td>\n",
       "      <td>2019-08-09 03:20:19</td>\n",
       "      <td>21989AK0030001</td>\n",
       "      <td>21989AK0030001-00</td>\n",
       "      <td>Dental Check-Up for Children</td>\n",
       "      <td>Not Applicable</td>\n",
       "      <td>NaN</td>\n",
       "      <td>...</td>\n",
       "      <td>Yes</td>\n",
       "      <td>Covered</td>\n",
       "      <td>NaN</td>\n",
       "      <td>NaN</td>\n",
       "      <td>NaN</td>\n",
       "      <td>NaN</td>\n",
       "      <td>See policy for additional limitations</td>\n",
       "      <td>Substantially Equal</td>\n",
       "      <td>No</td>\n",
       "      <td>No</td>\n",
       "    </tr>\n",
       "    <tr>\n",
       "      <th>2</th>\n",
       "      <td>2020</td>\n",
       "      <td>AK</td>\n",
       "      <td>21989</td>\n",
       "      <td>HIOS</td>\n",
       "      <td>2019-08-09 03:20:19</td>\n",
       "      <td>21989AK0030001</td>\n",
       "      <td>21989AK0030001-00</td>\n",
       "      <td>Basic Dental Care - Child</td>\n",
       "      <td>Not Applicable</td>\n",
       "      <td>NaN</td>\n",
       "      <td>...</td>\n",
       "      <td>Yes</td>\n",
       "      <td>Covered</td>\n",
       "      <td>NaN</td>\n",
       "      <td>NaN</td>\n",
       "      <td>NaN</td>\n",
       "      <td>NaN</td>\n",
       "      <td>NaN</td>\n",
       "      <td>NaN</td>\n",
       "      <td>No</td>\n",
       "      <td>No</td>\n",
       "    </tr>\n",
       "    <tr>\n",
       "      <th>3</th>\n",
       "      <td>2020</td>\n",
       "      <td>AK</td>\n",
       "      <td>21989</td>\n",
       "      <td>HIOS</td>\n",
       "      <td>2019-08-09 03:20:19</td>\n",
       "      <td>21989AK0030001</td>\n",
       "      <td>21989AK0030001-00</td>\n",
       "      <td>Orthodontia - Child</td>\n",
       "      <td>Not Applicable</td>\n",
       "      <td>NaN</td>\n",
       "      <td>...</td>\n",
       "      <td>Yes</td>\n",
       "      <td>Covered</td>\n",
       "      <td>NaN</td>\n",
       "      <td>NaN</td>\n",
       "      <td>NaN</td>\n",
       "      <td>NaN</td>\n",
       "      <td>Only medically necessary orthodontia is covered</td>\n",
       "      <td>Substantially Equal</td>\n",
       "      <td>No</td>\n",
       "      <td>No</td>\n",
       "    </tr>\n",
       "    <tr>\n",
       "      <th>4</th>\n",
       "      <td>2020</td>\n",
       "      <td>AK</td>\n",
       "      <td>21989</td>\n",
       "      <td>HIOS</td>\n",
       "      <td>2019-08-09 03:20:19</td>\n",
       "      <td>21989AK0030001</td>\n",
       "      <td>21989AK0030001-00</td>\n",
       "      <td>Major Dental Care - Child</td>\n",
       "      <td>Not Applicable</td>\n",
       "      <td>NaN</td>\n",
       "      <td>...</td>\n",
       "      <td>Yes</td>\n",
       "      <td>Covered</td>\n",
       "      <td>NaN</td>\n",
       "      <td>NaN</td>\n",
       "      <td>NaN</td>\n",
       "      <td>NaN</td>\n",
       "      <td>NaN</td>\n",
       "      <td>NaN</td>\n",
       "      <td>No</td>\n",
       "      <td>No</td>\n",
       "    </tr>\n",
       "  </tbody>\n",
       "</table>\n",
       "<p>5 rows × 24 columns</p>\n",
       "</div>"
      ],
      "text/plain": [
       "   BusinessYear StateCode  IssuerId SourceName           ImportDate  \\\n",
       "0          2020        AK     21989       HIOS  2019-08-09 03:20:19   \n",
       "1          2020        AK     21989       HIOS  2019-08-09 03:20:19   \n",
       "2          2020        AK     21989       HIOS  2019-08-09 03:20:19   \n",
       "3          2020        AK     21989       HIOS  2019-08-09 03:20:19   \n",
       "4          2020        AK     21989       HIOS  2019-08-09 03:20:19   \n",
       "\n",
       "  StandardComponentId             PlanId                      BenefitName  \\\n",
       "0      21989AK0030001  21989AK0030001-00  Routine Dental Services (Adult)   \n",
       "1      21989AK0030001  21989AK0030001-00     Dental Check-Up for Children   \n",
       "2      21989AK0030001  21989AK0030001-00        Basic Dental Care - Child   \n",
       "3      21989AK0030001  21989AK0030001-00              Orthodontia - Child   \n",
       "4      21989AK0030001  21989AK0030001-00        Major Dental Care - Child   \n",
       "\n",
       "    CopayInnTier1 CopayInnTier2  ... IsEHB IsCovered QuantLimitOnSvc LimitQty  \\\n",
       "0  Not Applicable           NaN  ...   NaN   Covered             Yes   1000.0   \n",
       "1  Not Applicable           NaN  ...   Yes   Covered             NaN      NaN   \n",
       "2  Not Applicable           NaN  ...   Yes   Covered             NaN      NaN   \n",
       "3  Not Applicable           NaN  ...   Yes   Covered             NaN      NaN   \n",
       "4  Not Applicable           NaN  ...   Yes   Covered             NaN      NaN   \n",
       "\n",
       "          LimitUnit Exclusions  \\\n",
       "0  Dollars per Year        NaN   \n",
       "1               NaN        NaN   \n",
       "2               NaN        NaN   \n",
       "3               NaN        NaN   \n",
       "4               NaN        NaN   \n",
       "\n",
       "                                         Explanation         EHBVarReason  \\\n",
       "0  $1000 annual maximum plan payment limit combin...              Not EHB   \n",
       "1              See policy for additional limitations  Substantially Equal   \n",
       "2                                                NaN                  NaN   \n",
       "3    Only medically necessary orthodontia is covered  Substantially Equal   \n",
       "4                                                NaN                  NaN   \n",
       "\n",
       "  IsExclFromInnMOOP IsExclFromOonMOOP  \n",
       "0               Yes               Yes  \n",
       "1                No                No  \n",
       "2                No                No  \n",
       "3                No                No  \n",
       "4                No                No  \n",
       "\n",
       "[5 rows x 24 columns]"
      ]
     },
     "metadata": {},
     "output_type": "display_data"
    },
    {
     "data": {
      "text/plain": [
       "(1182666, 24)"
      ]
     },
     "metadata": {},
     "output_type": "display_data"
    }
   ],
   "source": [
    "display(benefitscostsharing.head())\n",
    "display(benefitscostsharing.shape)"
   ]
  },
  {
   "cell_type": "code",
   "execution_count": 27,
   "metadata": {},
   "outputs": [
    {
     "data": {
      "text/plain": [
       "Index(['BusinessYear', 'StateCode', 'IssuerId', 'SourceName', 'ImportDate',\n",
       "       'StandardComponentId', 'PlanId', 'BenefitName', 'CopayInnTier1',\n",
       "       'CopayInnTier2', 'CopayOutofNet', 'CoinsInnTier1', 'CoinsInnTier2',\n",
       "       'CoinsOutofNet', 'IsEHB', 'IsCovered', 'QuantLimitOnSvc', 'LimitQty',\n",
       "       'LimitUnit', 'Exclusions', 'Explanation', 'EHBVarReason',\n",
       "       'IsExclFromInnMOOP', 'IsExclFromOonMOOP'],\n",
       "      dtype='object')"
      ]
     },
     "execution_count": 27,
     "metadata": {},
     "output_type": "execute_result"
    }
   ],
   "source": [
    "benefitscostsharing.columns"
   ]
  },
  {
   "cell_type": "code",
   "execution_count": 20,
   "metadata": {
    "scrolled": true
   },
   "outputs": [
    {
     "name": "stdout",
     "output_type": "stream",
     "text": [
      "['Orthodontia - Adult' 'Dental Check-Up for Children'\n",
      " 'Routine Dental Services (Adult)' 'Accidental Dental'\n",
      " 'Basic Dental Care - Adult' 'Major Dental Care - Adult'\n",
      " 'Orthodontia - Child' 'Major Dental Care - Child'\n",
      " 'Basic Dental Care - Child' 'Infusion Therapy'\n",
      " 'Laboratory Outpatient and Professional Services' 'Radiation'\n",
      " 'Specialty Drugs' 'Bariatric Surgery'\n",
      " 'Preventive Care/Screening/Immunization'\n",
      " 'Outpatient Facility Fee (e.g., Ambulatory Surgery Center)'\n",
      " 'X-rays and Diagnostic Imaging' 'Hearing Aids'\n",
      " 'Imaging (CT/PET Scans, MRIs)' 'Urgent Care Centers or Facilities'\n",
      " 'Prenatal and Postnatal Care' 'Transplant' 'Well Baby Visits and Care'\n",
      " 'Allergy Testing' 'Routine Foot Care' 'Reconstructive Surgery'\n",
      " 'Abortion for Which Public Funding is Prohibited'\n",
      " 'Inpatient Hospital Services (e.g., Hospital Stay)'\n",
      " 'Outpatient Surgery Physician/Surgical Services' 'Diabetes Education'\n",
      " 'Long-Term/Custodial Nursing Home Care' 'Emergency Room Services'\n",
      " 'Generic Drugs' 'Mental/Behavioral Health Outpatient Services'\n",
      " 'Mental/Behavioral Health Inpatient Services' 'Non-Preferred Brand Drugs'\n",
      " 'Durable Medical Equipment' 'Rehabilitative Speech Therapy'\n",
      " 'Nutritional Counseling' 'Chiropractic Care' 'Acupuncture'\n",
      " 'Skilled Nursing Facility' 'Emergency Transportation/Ambulance'\n",
      " 'Substance Abuse Disorder Inpatient Services' 'Private-Duty Nursing'\n",
      " 'Routine Eye Exam (Adult)' 'Prosthetic Devices' 'Hospice Services'\n",
      " 'Infertility Treatment' 'Dialysis' 'Habilitation Services'\n",
      " 'Routine Eye Exam for Children'\n",
      " 'Treatment for Temporomandibular Joint Disorders'\n",
      " 'Substance Abuse Disorder Outpatient Services' 'Cosmetic Surgery'\n",
      " 'Other Practitioner Office Visit (Nurse, Physician Assistant)'\n",
      " 'Home Health Care Services'\n",
      " 'Delivery and All Inpatient Services for Maternity Care'\n",
      " 'Outpatient Rehabilitation Services' 'Weight Loss Programs'\n",
      " 'Eye Glasses for Children' 'Preferred Brand Drugs' 'Chemotherapy'\n",
      " 'Inpatient Physician and Surgical Services' 'Specialist Visit'\n",
      " 'Rehabilitative Occupational and Rehabilitative Physical Therapy'\n",
      " 'Primary Care Visit to Treat an Injury or Illness'\n",
      " 'Diabetes Care Management' 'Dental Anesthesia' 'Prescription Drugs Other'\n",
      " 'Inherited Metabolic Disorder - PKU' 'Clinical Trials'\n",
      " 'Off Label Prescription Drugs' 'Autism Spectrum Disorders'\n",
      " 'Congenital Anomaly, including Cleft Lip/Palate' 'Bone Marrow Transplant'\n",
      " 'Mental Health Other' 'Applied Behavior Analysis Based Therapies'\n",
      " 'Cardiac Rehabilitation' 'Well Child Care' 'Eye Glasses for Adults'\n",
      " 'Osteoporosis' 'Tier 2 Generic Drugs' 'Nutrition/Formulas' 'Brain Injury'\n",
      " 'Heart Transplant' 'Tier 6 Rx'\n",
      " 'Non-Emergency Care When Traveling Outside of the U.S.' 'Tier 2 Rx'\n",
      " 'Prenatal and Postnatal Care - Non-Global Maternity'\n",
      " 'Off-label Prescription Drugs' 'Newborn Hearing Screening'\n",
      " 'Primary Care E-Visit' 'Pediatric Services Other' 'Post-Mastectomy Care'\n",
      " 'Transplant Donor Coverage' 'Non-Preferred Specialty Drugs' 'Wigs'\n",
      " 'Attention Deficit Disorder' 'Telehealth' 'Eyeglasses for Adults'\n",
      " 'Substance Abuse Office Visit' 'Outpatient Observation'\n",
      " 'Osteoporosis Treatment' 'Mental Health Office Visit'\n",
      " 'Cardiac and Pulmonary Rehabilitation' 'Preferred Generic Drugs'\n",
      " 'Genetic Testing Lab Services'\n",
      " 'Enteral/Parenteral and Oral Nutrition Therapy'\n",
      " 'Hyperbaric Oxygen Therapy' 'Partial Hospitalization'\n",
      " 'Allergy Injections' 'Anesthesia Services for Dental Care'\n",
      " 'Cochlear Implants' 'Early Intervention Services'\n",
      " 'Newborn Services Other'\n",
      " 'Non-Emergency Care When Traveling Outside the U.S.'\n",
      " 'Gastric Electrical Stimulation' 'Craniofacial Surgery'\n",
      " 'Fitness Center Membership' 'Gym Access'\n",
      " 'Human Leukocyte Antigen Testing' 'Adult Vision Frames or Lenses'\n",
      " 'Vision Rehabilitation Therapy' 'Complementary Medicine'\n",
      " 'Post-Cochlear Implant Aural Rehabilitation Therapy' 'Preventative Drugs'\n",
      " 'Non Preferred Specialty Drugs' 'Massage Therapy' 'Bones/Joints'\n",
      " 'Organ Transplants' 'Breast Implant Removal' 'Adult Frames and Lenses'\n",
      " 'Bone Marrow Testing' 'Naprapathic Service' 'Multiple Sclerosis'\n",
      " 'Low Protein Foods' 'Inpatient Rehabilitation Services'\n",
      " 'Telemedicine Services' 'Mental Health - Intermediate'\n",
      " 'Gender Reassignment Treatment' 'Substance Use Disorders - Intermediate'\n",
      " 'Contraceptive Services' 'Infant Formulas' 'Anesthetics'\n",
      " 'Blood and Blood Services' 'Inpatient Rehabilitation' 'Preventive Drugs'\n",
      " 'Telemedicine' 'Non Preferred Generic Drugs' 'Second Opinion'\n",
      " 'Chronic Pain Treatment' 'E-Visit' 'Habilitation - Autism'\n",
      " 'Tier 2-Generic Drugs' 'Eyeglasses For Adults'\n",
      " 'Applied Behavior Analysis Based Therapies\\t' 'Convenience Care Clinic'\n",
      " 'Retail Health Clinics' 'Autism Spectrum Disorders\\t'\n",
      " 'Specialty Laboratory Services' 'Generic Drugs Other' 'Testing Services'\n",
      " 'Active & Fit' 'Autism Spectrum Disorder - Non-Intensive Level Services'\n",
      " 'Ostomy Supplies' 'Autism Spectrum Disorder - Intensive Level Services'\n",
      " 'Specialty Drugs Tier 2' 'Telehealth\\t' 'Rehabilitative Devices'\n",
      " 'Massage' 'Habilitative Devices' 'Mammography' 'Cardiovascular Disease'\n",
      " 'Orthodontic Services for the Treatment of Orofacial Anomalies\\t'\n",
      " 'Gender Identity Services \\t' 'Cosmetic Orthodontia' 'Implants'\n",
      " 'Non Preferred Speciality Drug' 'Dental X-rays'\n",
      " 'Gender Identity Services\\t' 'Immediate Dentures'\n",
      " 'Recementation of Space Maintainers' 'Root Canal Therapy and Retreatment'\n",
      " 'Vital Pulpotomy' 'Partial Pulpotomy' 'Complex Oral Surgery'\n",
      " 'Occlusal Adjustments' 'Extractions' 'Periodontal Maintenance' 'Sealants'\n",
      " 'Fillings' 'Periodontal Root Scaling and Planing' 'Topical Flouride'\n",
      " 'Post-cochlear implant and aural therapy'\n",
      " 'Post-cochlear implant aural therapy' 'Denture Adjustments'\n",
      " 'Periradicular Surgical Procedures'\n",
      " 'Initial Placement of Bridges and Dentures'\n",
      " 'Periodontal and Osseous Surgery' 'Denture Reline and Rebase'\n",
      " 'Post and Core Build-up' 'Tissue Conditioning'\n",
      " 'Removal of Fixed Space Maintainers' 'Post-cochlear aural therapy'\n",
      " 'Dental Anesthesia - Child' 'Accidental Dental - Child'\n",
      " 'Posterior Composites - Child' 'Implants - Child'\n",
      " 'Orthodontic Services for the Treatment of Orofacial Anomalies'\n",
      " 'Restorative Services' 'Gender Identity Services'\n",
      " 'Orthodontic Services for the Treatment of OrofacialAnomalies\\t'\n",
      " 'Immediate Dentures \\t' 'Periodontal Maintenance\\t' 'Implants - Adult'\n",
      " 'Orthodontic Services for the Treatment of Orofacial Anomalies \\t'\n",
      " 'Telehealth \\t' 'Sealants \\t' 'Complex Oral Surgery\\t' 'Extractions \\t'\n",
      " 'Root Canal Therapy and Retreatment\\t' 'Posterior Composites'\n",
      " 'Adult Optical (hardware)' 'Major Dental Care - Adult High Plan'\n",
      " 'Fillings\\t' 'Recementation of Space Maintainers\\t' 'Topical Flouride \\t'\n",
      " 'Occlusal Adjustments\\t' 'Tissue Conditioning \\t'\n",
      " 'Periradicular Surgical Procedures\\t' 'Vital Pulpotomy\\t'\n",
      " 'Post and Core Build-up\\t' 'Denture Reline and Rebase \\t'\n",
      " 'Posterior Composites - Adult' 'Removal of Fixed Space Maintainers\\t'\n",
      " 'Periodontal Root Scaling and Planing \\t'\n",
      " 'Periodontal and Osseous Surgery \\t' 'Corrective Orthodontia to Age 19'\n",
      " 'Denture Adjustments \\t' 'Dental X-rays\\t' 'Partial Pulpotomy\\t'\n",
      " 'Major Dental Care - Adult High Plan \\t'\n",
      " 'Periodontal and Osseous Surgery\\t' 'Partial Pulpotomy \\t'\n",
      " 'Denture Adjustments\\t' 'Accidental Dental Adult'\n",
      " 'Periodontal Root Scaling and Planing\\t'\n",
      " 'Initial Placement of Bridges and Dentures\\t'\n",
      " 'Removal of Fixed Space Maintainers \\t' 'Denture Reline and Rebase\\t'\n",
      " 'Fillings \\t' 'Complete and Partial Dentures \\t'\n",
      " 'Complete and Partial Dentures' 'Posterior Composite - Child'\n",
      " 'Removal of Fixed Space Miantainers'\n",
      " 'Recementation of Space Maintainers \\t' 'Major Restorative Services'\n",
      " 'Posterior Composite - Adult'\n",
      " 'Initial Placement of Bridges and Dentures \\t'\n",
      " 'Major Dental care - Adult HIGH Plan' 'Topical Fluoride'\n",
      " 'Occlusal Adjustments \\t' 'Periradicular Surgical Procedures \\t'\n",
      " 'Vital Pulpotomy \\t' 'Major Dental Care - Adult, High Plan'\n",
      " 'Root Canal Therapy and Retreatment \\t' 'Sealants\\t' 'Implants\\t'\n",
      " '\"Periradicular Surgical Procedures\\t\"\\t' 'Extractions\\t'\n",
      " 'Complex Oral Surgery \\t' 'Topical Flouride\\t'\n",
      " 'Removal of Space Maintainers\\t']\n"
     ]
    }
   ],
   "source": [
    "#list of unique benefit names\n",
    "\n",
    "print(benefitscostsharing.BenefitName.value_counts().index.values)"
   ]
  },
  {
   "cell_type": "code",
   "execution_count": 28,
   "metadata": {},
   "outputs": [
    {
     "data": {
      "text/plain": [
       "BusinessYear                 0\n",
       "StateCode                    0\n",
       "IssuerId                     0\n",
       "SourceName                   0\n",
       "ImportDate                   0\n",
       "StandardComponentId          0\n",
       "PlanId                       0\n",
       "BenefitName                  0\n",
       "CopayInnTier1           265331\n",
       "CopayInnTier2          1005693\n",
       "CopayOutofNet           265331\n",
       "CoinsInnTier1           265331\n",
       "CoinsInnTier2          1005693\n",
       "CoinsOutofNet           265331\n",
       "IsEHB                   287892\n",
       "IsCovered                46971\n",
       "QuantLimitOnSvc         882990\n",
       "LimitQty               1016550\n",
       "LimitUnit              1016595\n",
       "Exclusions             1120302\n",
       "Explanation             827842\n",
       "EHBVarReason            903276\n",
       "IsExclFromInnMOOP       200741\n",
       "IsExclFromOonMOOP       201385\n",
       "dtype: int64"
      ]
     },
     "execution_count": 28,
     "metadata": {},
     "output_type": "execute_result"
    }
   ],
   "source": [
    "benefitscostsharing.isnull().sum()"
   ]
  },
  {
   "cell_type": "code",
   "execution_count": 34,
   "metadata": {},
   "outputs": [
    {
     "data": {
      "text/plain": [
       "SourceName\n",
       "HIOS     674807\n",
       "SERFF    507859\n",
       "Name: BenefitName, dtype: int64"
      ]
     },
     "execution_count": 34,
     "metadata": {},
     "output_type": "execute_result"
    }
   ],
   "source": [
    "#Group number of benefits available per source name (data reporting source)\n",
    "\n",
    "benefitscostsharing.groupby('SourceName').count()['BenefitName']\n",
    "\n",
    "#HIOS = Health Insurance and Oversight System\n",
    "#SERFF = System For Electronic Rates and Forms Filing"
   ]
  },
  {
   "cell_type": "code",
   "execution_count": 46,
   "metadata": {},
   "outputs": [
    {
     "data": {
      "text/plain": [
       "Yes    894774\n",
       "Name: IsEHB, dtype: int64"
      ]
     },
     "metadata": {},
     "output_type": "display_data"
    },
    {
     "data": {
      "text/plain": [
       "Yes    894774\n",
       "No     287892\n",
       "Name: IsEHB, dtype: int64"
      ]
     },
     "metadata": {},
     "output_type": "display_data"
    }
   ],
   "source": [
    "#Determine number of available plans deemed essential health benefits (EHB)\n",
    "\n",
    "display(benefitscostsharing.IsEHB.value_counts())\n",
    "\n",
    "#NULLs represent \"No\" (according to data dict), fill them accordingly\n",
    "\n",
    "benefitscostsharing.IsEHB.fillna('No',inplace = True);\n",
    "display(benefitscostsharing.IsEHB.value_counts())"
   ]
  },
  {
   "cell_type": "code",
   "execution_count": 50,
   "metadata": {},
   "outputs": [
    {
     "data": {
      "text/plain": [
       "['Covered', 'Not Covered']"
      ]
     },
     "execution_count": 50,
     "metadata": {},
     "output_type": "execute_result"
    }
   ],
   "source": [
    "#Fill NULLs with \"Not Covered\" for IsCovered\n",
    "\n",
    "benefitscostsharing.IsCovered.value_counts().index.to_list()"
   ]
  }
 ],
 "metadata": {
  "kernelspec": {
   "display_name": "Python 3",
   "language": "python",
   "name": "python3"
  },
  "language_info": {
   "codemirror_mode": {
    "name": "ipython",
    "version": 3
   },
   "file_extension": ".py",
   "mimetype": "text/x-python",
   "name": "python",
   "nbconvert_exporter": "python",
   "pygments_lexer": "ipython3",
   "version": "3.7.6"
  }
 },
 "nbformat": 4,
 "nbformat_minor": 4
}

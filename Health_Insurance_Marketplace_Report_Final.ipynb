{
 "cells": [
  {
   "cell_type": "markdown",
   "metadata": {},
   "source": [
    "# Technical Report: \n",
    "## Predicting the Quality of Care of US Health Insurance Providers in Year 2020"
   ]
  },
  {
   "cell_type": "markdown",
   "metadata": {},
   "source": [
    "## Published By: Darshan Donthi"
   ]
  },
  {
   "cell_type": "markdown",
   "metadata": {},
   "source": [
    "### Background:\n",
    "\n",
    "The Health Insurance Marketplace Public Use Files (PUFs) contain data on health and dental plans offered to individuals and small businesses through the US Health Insurance Marketplace. The dataset includes plan and issuer level information for certified Qualified Health Plans (QHPs) and stand-alone dental plans (SADPs).\n",
    "\n",
    "This data was originally prepared and released by the Centers for Medicare & Medicaid Services (CMS) [1].\n",
    "\n",
    "*I originally found an older dataset on Kaggle [2], however I used the 2020 dataset available directly on the CMS website instead [1].*"
   ]
  },
  {
   "cell_type": "markdown",
   "metadata": {},
   "source": [
    "### Objectives:\n",
    "\n",
    "**1) Conduct Exploratory Data Analysis (EDA) of the dataset:**<br>\n",
    "-- Look at Benefits Cost Sharing and Rate PUFs <br>\n",
    "-- Engineer new columns from existing data <br>\n",
    "\n",
    "**2) Predict the Quality of Care of a Health Insurance Provider (Issuer):**<br>\n",
    "-- Create K-Nearest Neighbor (KNN) Classifier models <br>\n",
    "-- Determine optimal model and its viability through Cross Validation <br>"
   ]
  },
  {
   "cell_type": "markdown",
   "metadata": {},
   "source": [
    "### Table of Contents:\n",
    "\n",
    "**Section 1:** Read, Clean, and Explore the Data<br>\n",
    "**Section 2:** Feature Engineering from Existing Data<br>\n",
    "**Section 3:** Predictive KNN Classifier Models and Analysis<br>\n",
    "**Section 4:** References"
   ]
  },
  {
   "cell_type": "markdown",
   "metadata": {},
   "source": [
    "### Data Dictionaries:\n",
    "\n",
    "Data Dictionary PDFs for 2020 Benefits Cost Sharing and Rate PUFs available in the Data_Dictionaries folder.<br>\n",
    "These were obtained from the CMS website [1].<br>\n",
    "\n",
    "Benefits Cost Sharing PUF: Plan variant-level data on essential health benefits, coverage limits, and cost\n",
    "sharing for each QHP and SADP. <br>\n",
    "Rate PUF: Plan-level data on individual rates based on an eligible subscriber’s age, tobacco use, and geographic location, and family-tier rates."
   ]
  },
  {
   "cell_type": "markdown",
   "metadata": {},
   "source": [
    "## Section 1: Read, Clean, and Explore the Data"
   ]
  },
  {
   "cell_type": "code",
   "execution_count": 1,
   "metadata": {},
   "outputs": [],
   "source": [
    "#Import all relevant libraries.\n",
    "\n",
    "import numpy as np\n",
    "import pandas as pd\n",
    "import matplotlib.pyplot as plt\n",
    "import seaborn as sns"
   ]
  },
  {
   "cell_type": "markdown",
   "metadata": {},
   "source": [
    "### Benefits Cost Sharing PUF"
   ]
  },
  {
   "cell_type": "code",
   "execution_count": 2,
   "metadata": {},
   "outputs": [
    {
     "name": "stderr",
     "output_type": "stream",
     "text": [
      "D:\\Anaconda\\lib\\site-packages\\IPython\\core\\interactiveshell.py:3063: DtypeWarning: Columns (9,12,19) have mixed types.Specify dtype option on import or set low_memory=False.\n",
      "  interactivity=interactivity, compiler=compiler, result=result)\n"
     ]
    }
   ],
   "source": [
    "#Read in the benefits cost sharing PUF dataset for 2020.\n",
    "\n",
    "benefitscostsharing = pd.read_csv(\"D:/Datasets/CMS_healthinsurance_bundle_2020/Benefits_Cost_Sharing_PUF.csv\", encoding='cp1252');\n",
    "\n",
    "#Windows-1252 or CP-1252 (code page 1252) is a single-byte character encoding of the Latin alphabet, \n",
    "#used by default in the legacy components of Microsoft Windows for English \n",
    "#and many European languages such as Spanish, French, and German."
   ]
  },
  {
   "cell_type": "code",
   "execution_count": 3,
   "metadata": {
    "scrolled": true
   },
   "outputs": [
    {
     "data": {
      "text/html": [
       "<div>\n",
       "<style scoped>\n",
       "    .dataframe tbody tr th:only-of-type {\n",
       "        vertical-align: middle;\n",
       "    }\n",
       "\n",
       "    .dataframe tbody tr th {\n",
       "        vertical-align: top;\n",
       "    }\n",
       "\n",
       "    .dataframe thead th {\n",
       "        text-align: right;\n",
       "    }\n",
       "</style>\n",
       "<table border=\"1\" class=\"dataframe\">\n",
       "  <thead>\n",
       "    <tr style=\"text-align: right;\">\n",
       "      <th></th>\n",
       "      <th>BusinessYear</th>\n",
       "      <th>StateCode</th>\n",
       "      <th>IssuerId</th>\n",
       "      <th>SourceName</th>\n",
       "      <th>ImportDate</th>\n",
       "      <th>StandardComponentId</th>\n",
       "      <th>PlanId</th>\n",
       "      <th>BenefitName</th>\n",
       "      <th>CopayInnTier1</th>\n",
       "      <th>CopayInnTier2</th>\n",
       "      <th>...</th>\n",
       "      <th>IsEHB</th>\n",
       "      <th>IsCovered</th>\n",
       "      <th>QuantLimitOnSvc</th>\n",
       "      <th>LimitQty</th>\n",
       "      <th>LimitUnit</th>\n",
       "      <th>Exclusions</th>\n",
       "      <th>Explanation</th>\n",
       "      <th>EHBVarReason</th>\n",
       "      <th>IsExclFromInnMOOP</th>\n",
       "      <th>IsExclFromOonMOOP</th>\n",
       "    </tr>\n",
       "  </thead>\n",
       "  <tbody>\n",
       "    <tr>\n",
       "      <th>0</th>\n",
       "      <td>2020</td>\n",
       "      <td>AK</td>\n",
       "      <td>21989</td>\n",
       "      <td>HIOS</td>\n",
       "      <td>2019-08-09 03:20:19</td>\n",
       "      <td>21989AK0030001</td>\n",
       "      <td>21989AK0030001-00</td>\n",
       "      <td>Routine Dental Services (Adult)</td>\n",
       "      <td>Not Applicable</td>\n",
       "      <td>NaN</td>\n",
       "      <td>...</td>\n",
       "      <td>NaN</td>\n",
       "      <td>Covered</td>\n",
       "      <td>Yes</td>\n",
       "      <td>1000.0</td>\n",
       "      <td>Dollars per Year</td>\n",
       "      <td>NaN</td>\n",
       "      <td>$1000 annual maximum plan payment limit combin...</td>\n",
       "      <td>Not EHB</td>\n",
       "      <td>Yes</td>\n",
       "      <td>Yes</td>\n",
       "    </tr>\n",
       "    <tr>\n",
       "      <th>1</th>\n",
       "      <td>2020</td>\n",
       "      <td>AK</td>\n",
       "      <td>21989</td>\n",
       "      <td>HIOS</td>\n",
       "      <td>2019-08-09 03:20:19</td>\n",
       "      <td>21989AK0030001</td>\n",
       "      <td>21989AK0030001-00</td>\n",
       "      <td>Dental Check-Up for Children</td>\n",
       "      <td>Not Applicable</td>\n",
       "      <td>NaN</td>\n",
       "      <td>...</td>\n",
       "      <td>Yes</td>\n",
       "      <td>Covered</td>\n",
       "      <td>NaN</td>\n",
       "      <td>NaN</td>\n",
       "      <td>NaN</td>\n",
       "      <td>NaN</td>\n",
       "      <td>See policy for additional limitations</td>\n",
       "      <td>Substantially Equal</td>\n",
       "      <td>No</td>\n",
       "      <td>No</td>\n",
       "    </tr>\n",
       "    <tr>\n",
       "      <th>2</th>\n",
       "      <td>2020</td>\n",
       "      <td>AK</td>\n",
       "      <td>21989</td>\n",
       "      <td>HIOS</td>\n",
       "      <td>2019-08-09 03:20:19</td>\n",
       "      <td>21989AK0030001</td>\n",
       "      <td>21989AK0030001-00</td>\n",
       "      <td>Basic Dental Care - Child</td>\n",
       "      <td>Not Applicable</td>\n",
       "      <td>NaN</td>\n",
       "      <td>...</td>\n",
       "      <td>Yes</td>\n",
       "      <td>Covered</td>\n",
       "      <td>NaN</td>\n",
       "      <td>NaN</td>\n",
       "      <td>NaN</td>\n",
       "      <td>NaN</td>\n",
       "      <td>NaN</td>\n",
       "      <td>NaN</td>\n",
       "      <td>No</td>\n",
       "      <td>No</td>\n",
       "    </tr>\n",
       "    <tr>\n",
       "      <th>3</th>\n",
       "      <td>2020</td>\n",
       "      <td>AK</td>\n",
       "      <td>21989</td>\n",
       "      <td>HIOS</td>\n",
       "      <td>2019-08-09 03:20:19</td>\n",
       "      <td>21989AK0030001</td>\n",
       "      <td>21989AK0030001-00</td>\n",
       "      <td>Orthodontia - Child</td>\n",
       "      <td>Not Applicable</td>\n",
       "      <td>NaN</td>\n",
       "      <td>...</td>\n",
       "      <td>Yes</td>\n",
       "      <td>Covered</td>\n",
       "      <td>NaN</td>\n",
       "      <td>NaN</td>\n",
       "      <td>NaN</td>\n",
       "      <td>NaN</td>\n",
       "      <td>Only medically necessary orthodontia is covered</td>\n",
       "      <td>Substantially Equal</td>\n",
       "      <td>No</td>\n",
       "      <td>No</td>\n",
       "    </tr>\n",
       "    <tr>\n",
       "      <th>4</th>\n",
       "      <td>2020</td>\n",
       "      <td>AK</td>\n",
       "      <td>21989</td>\n",
       "      <td>HIOS</td>\n",
       "      <td>2019-08-09 03:20:19</td>\n",
       "      <td>21989AK0030001</td>\n",
       "      <td>21989AK0030001-00</td>\n",
       "      <td>Major Dental Care - Child</td>\n",
       "      <td>Not Applicable</td>\n",
       "      <td>NaN</td>\n",
       "      <td>...</td>\n",
       "      <td>Yes</td>\n",
       "      <td>Covered</td>\n",
       "      <td>NaN</td>\n",
       "      <td>NaN</td>\n",
       "      <td>NaN</td>\n",
       "      <td>NaN</td>\n",
       "      <td>NaN</td>\n",
       "      <td>NaN</td>\n",
       "      <td>No</td>\n",
       "      <td>No</td>\n",
       "    </tr>\n",
       "  </tbody>\n",
       "</table>\n",
       "<p>5 rows × 24 columns</p>\n",
       "</div>"
      ],
      "text/plain": [
       "   BusinessYear StateCode  IssuerId SourceName           ImportDate  \\\n",
       "0          2020        AK     21989       HIOS  2019-08-09 03:20:19   \n",
       "1          2020        AK     21989       HIOS  2019-08-09 03:20:19   \n",
       "2          2020        AK     21989       HIOS  2019-08-09 03:20:19   \n",
       "3          2020        AK     21989       HIOS  2019-08-09 03:20:19   \n",
       "4          2020        AK     21989       HIOS  2019-08-09 03:20:19   \n",
       "\n",
       "  StandardComponentId             PlanId                      BenefitName  \\\n",
       "0      21989AK0030001  21989AK0030001-00  Routine Dental Services (Adult)   \n",
       "1      21989AK0030001  21989AK0030001-00     Dental Check-Up for Children   \n",
       "2      21989AK0030001  21989AK0030001-00        Basic Dental Care - Child   \n",
       "3      21989AK0030001  21989AK0030001-00              Orthodontia - Child   \n",
       "4      21989AK0030001  21989AK0030001-00        Major Dental Care - Child   \n",
       "\n",
       "    CopayInnTier1 CopayInnTier2  ... IsEHB IsCovered QuantLimitOnSvc LimitQty  \\\n",
       "0  Not Applicable           NaN  ...   NaN   Covered             Yes   1000.0   \n",
       "1  Not Applicable           NaN  ...   Yes   Covered             NaN      NaN   \n",
       "2  Not Applicable           NaN  ...   Yes   Covered             NaN      NaN   \n",
       "3  Not Applicable           NaN  ...   Yes   Covered             NaN      NaN   \n",
       "4  Not Applicable           NaN  ...   Yes   Covered             NaN      NaN   \n",
       "\n",
       "          LimitUnit Exclusions  \\\n",
       "0  Dollars per Year        NaN   \n",
       "1               NaN        NaN   \n",
       "2               NaN        NaN   \n",
       "3               NaN        NaN   \n",
       "4               NaN        NaN   \n",
       "\n",
       "                                         Explanation         EHBVarReason  \\\n",
       "0  $1000 annual maximum plan payment limit combin...              Not EHB   \n",
       "1              See policy for additional limitations  Substantially Equal   \n",
       "2                                                NaN                  NaN   \n",
       "3    Only medically necessary orthodontia is covered  Substantially Equal   \n",
       "4                                                NaN                  NaN   \n",
       "\n",
       "  IsExclFromInnMOOP IsExclFromOonMOOP  \n",
       "0               Yes               Yes  \n",
       "1                No                No  \n",
       "2                No                No  \n",
       "3                No                No  \n",
       "4                No                No  \n",
       "\n",
       "[5 rows x 24 columns]"
      ]
     },
     "metadata": {},
     "output_type": "display_data"
    },
    {
     "data": {
      "text/plain": [
       "(1182666, 24)"
      ]
     },
     "metadata": {},
     "output_type": "display_data"
    }
   ],
   "source": [
    "#Display a few rows of benefitscostsharing DF and its shape.\n",
    "\n",
    "display(benefitscostsharing.head())\n",
    "display(benefitscostsharing.shape)"
   ]
  },
  {
   "cell_type": "code",
   "execution_count": 4,
   "metadata": {},
   "outputs": [
    {
     "name": "stdout",
     "output_type": "stream",
     "text": [
      "Index(['BusinessYear', 'StateCode', 'IssuerId', 'SourceName', 'ImportDate',\n",
      "       'StandardComponentId', 'PlanId', 'BenefitName', 'CopayInnTier1',\n",
      "       'CopayInnTier2', 'CopayOutofNet', 'CoinsInnTier1', 'CoinsInnTier2',\n",
      "       'CoinsOutofNet', 'IsEHB', 'IsCovered', 'QuantLimitOnSvc', 'LimitQty',\n",
      "       'LimitUnit', 'Exclusions', 'Explanation', 'EHBVarReason',\n",
      "       'IsExclFromInnMOOP', 'IsExclFromOonMOOP'],\n",
      "      dtype='object')\n"
     ]
    }
   ],
   "source": [
    "#Look at the DF column names.\n",
    "\n",
    "print(benefitscostsharing.columns)"
   ]
  },
  {
   "cell_type": "code",
   "execution_count": 5,
   "metadata": {
    "scrolled": true
   },
   "outputs": [
    {
     "name": "stdout",
     "output_type": "stream",
     "text": [
      "['Orthodontia - Adult' 'Major Dental Care - Child'\n",
      " 'Major Dental Care - Adult' 'Orthodontia - Child'\n",
      " 'Basic Dental Care - Child' 'Basic Dental Care - Adult'\n",
      " 'Dental Check-Up for Children' 'Accidental Dental'\n",
      " 'Routine Dental Services (Adult)' 'Specialty Drugs']\n"
     ]
    }
   ],
   "source": [
    "#Print a few benefit names.\n",
    "\n",
    "print(benefitscostsharing.BenefitName.value_counts().index.values[:10])  #first 10"
   ]
  },
  {
   "cell_type": "code",
   "execution_count": 6,
   "metadata": {},
   "outputs": [
    {
     "data": {
      "text/plain": [
       "BusinessYear                 0\n",
       "StateCode                    0\n",
       "IssuerId                     0\n",
       "SourceName                   0\n",
       "ImportDate                   0\n",
       "StandardComponentId          0\n",
       "PlanId                       0\n",
       "BenefitName                  0\n",
       "CopayInnTier1           265331\n",
       "CopayInnTier2          1005693\n",
       "CopayOutofNet           265331\n",
       "CoinsInnTier1           265331\n",
       "CoinsInnTier2          1005693\n",
       "CoinsOutofNet           265331\n",
       "IsEHB                   287892\n",
       "IsCovered                46971\n",
       "QuantLimitOnSvc         882990\n",
       "LimitQty               1016550\n",
       "LimitUnit              1016595\n",
       "Exclusions             1120302\n",
       "Explanation             827842\n",
       "EHBVarReason            903276\n",
       "IsExclFromInnMOOP       200741\n",
       "IsExclFromOonMOOP       201385\n",
       "dtype: int64"
      ]
     },
     "execution_count": 6,
     "metadata": {},
     "output_type": "execute_result"
    }
   ],
   "source": [
    "#Look at the null counts per column in the DF.\n",
    "\n",
    "benefitscostsharing.isnull().sum()"
   ]
  },
  {
   "cell_type": "code",
   "execution_count": 7,
   "metadata": {},
   "outputs": [
    {
     "data": {
      "text/plain": [
       "SourceName\n",
       "HIOS     674807\n",
       "SERFF    507859\n",
       "Name: BenefitName, dtype: int64"
      ]
     },
     "metadata": {},
     "output_type": "display_data"
    }
   ],
   "source": [
    "#Group number of benefits available per source name (data reporting source).\n",
    "\n",
    "display(benefitscostsharing.groupby('SourceName').count()['BenefitName'])\n",
    "\n",
    "#HIOS = Health Insurance and Oversight System\n",
    "#SERFF = System For Electronic Rates and Forms Filing"
   ]
  },
  {
   "cell_type": "code",
   "execution_count": 8,
   "metadata": {},
   "outputs": [
    {
     "data": {
      "text/plain": [
       "Yes    894774\n",
       "Name: IsEHB, dtype: int64"
      ]
     },
     "metadata": {},
     "output_type": "display_data"
    },
    {
     "data": {
      "text/plain": [
       "Yes    894774\n",
       "No     287892\n",
       "Name: IsEHB, dtype: int64"
      ]
     },
     "metadata": {},
     "output_type": "display_data"
    }
   ],
   "source": [
    "#Fill NULLs with \"No\" for IsEHB column.\n",
    "\n",
    "#Determine number of available plans deemed essential health benefits (EHB).\n",
    "\n",
    "display(benefitscostsharing.IsEHB.value_counts())\n",
    "\n",
    "#NULLs represent \"No\" (according to data dict), fill them accordingly.\n",
    "\n",
    "benefitscostsharing.IsEHB.fillna('No',inplace = True);\n",
    "display(benefitscostsharing.IsEHB.value_counts())"
   ]
  },
  {
   "cell_type": "code",
   "execution_count": 9,
   "metadata": {},
   "outputs": [
    {
     "data": {
      "text/plain": [
       "Covered        917158\n",
       "Not Covered    218537\n",
       "Name: IsCovered, dtype: int64"
      ]
     },
     "metadata": {},
     "output_type": "display_data"
    },
    {
     "data": {
      "text/plain": [
       "Covered        917158\n",
       "Not Covered    265508\n",
       "Name: IsCovered, dtype: int64"
      ]
     },
     "metadata": {},
     "output_type": "display_data"
    }
   ],
   "source": [
    "#Fill NULLs with \"Not Covered\" for IsCovered column.\n",
    "\n",
    "#benefitscostsharing.IsCovered.value_counts().index.to_list()\n",
    "\n",
    "display(benefitscostsharing.IsCovered.value_counts())\n",
    "\n",
    "#NULLs represent \"No\" (according to data dict), fill them accordingly\n",
    "\n",
    "benefitscostsharing.IsCovered.fillna('Not Covered',inplace = True);\n",
    "display(benefitscostsharing.IsCovered.value_counts())"
   ]
  },
  {
   "cell_type": "code",
   "execution_count": 10,
   "metadata": {},
   "outputs": [
    {
     "name": "stdout",
     "output_type": "stream",
     "text": [
      "38\n"
     ]
    }
   ],
   "source": [
    "#Print the number of states in DF. (All listed offer only federal insurance benefits)\n",
    "\n",
    "print(len(benefitscostsharing.StateCode.value_counts().index))\n",
    "\n",
    "#PUFs do not include data from SBEs (State-based exchanges) that do\n",
    "#not rely on the federal platform for QHP (Qualified health plans) eligibility and enrollment functionality."
   ]
  },
  {
   "cell_type": "code",
   "execution_count": 11,
   "metadata": {
    "scrolled": true
   },
   "outputs": [
    {
     "data": {
      "text/plain": [
       "StateCode\n",
       "AK      3187\n",
       "AL      5886\n",
       "AR     12681\n",
       "AZ     49178\n",
       "DE      3025\n",
       "FL     92967\n",
       "GA     88785\n",
       "HI      7197\n",
       "IA     10115\n",
       "IL     47572\n",
       "IN     12921\n",
       "KS     29698\n",
       "KY      9109\n",
       "LA     20180\n",
       "ME     21052\n",
       "MI     39738\n",
       "MO     32559\n",
       "MS      8995\n",
       "MT     24089\n",
       "NC     33111\n",
       "ND     11005\n",
       "NE     10972\n",
       "NH     11656\n",
       "NJ     10401\n",
       "NM     18110\n",
       "OH     79118\n",
       "OK     19613\n",
       "OR     21849\n",
       "PA     88042\n",
       "SC     22170\n",
       "SD      8885\n",
       "TN     45346\n",
       "TX    136160\n",
       "UT     21150\n",
       "VA     26503\n",
       "WI     89080\n",
       "WV      6897\n",
       "WY      3664\n",
       "Name: BenefitName, dtype: int64"
      ]
     },
     "metadata": {},
     "output_type": "display_data"
    }
   ],
   "source": [
    "#Print total number of benefits per available State (includes duplicates).\n",
    "\n",
    "display(benefitscostsharing.groupby('StateCode')['BenefitName'].count())"
   ]
  },
  {
   "cell_type": "code",
   "execution_count": 12,
   "metadata": {
    "scrolled": true
   },
   "outputs": [
    {
     "data": {
      "text/plain": [
       "StateCode\n",
       "AK     67\n",
       "AL     92\n",
       "AR     81\n",
       "AZ    101\n",
       "DE     70\n",
       "FL    116\n",
       "GA    101\n",
       "HI     87\n",
       "IA     76\n",
       "IL    104\n",
       "IN     70\n",
       "KS     69\n",
       "KY     95\n",
       "LA     99\n",
       "ME     85\n",
       "MI    107\n",
       "MO    100\n",
       "MS     91\n",
       "MT     72\n",
       "NC     77\n",
       "ND     68\n",
       "NE     67\n",
       "NH     79\n",
       "NJ     67\n",
       "NM     68\n",
       "OH     67\n",
       "OK     68\n",
       "OR     67\n",
       "PA     95\n",
       "SC     68\n",
       "SD     67\n",
       "TN     93\n",
       "TX    107\n",
       "UT     70\n",
       "VA     69\n",
       "WI    112\n",
       "WV     73\n",
       "WY     67\n",
       "Name: BenefitName, dtype: int64"
      ]
     },
     "metadata": {},
     "output_type": "display_data"
    }
   ],
   "source": [
    "#Print distinct number of benefits per available State.\n",
    "\n",
    "distinctbenefits_perstate = benefitscostsharing.groupby('StateCode')['BenefitName'].nunique();\n",
    "display(distinctbenefits_perstate)"
   ]
  },
  {
   "cell_type": "code",
   "execution_count": 13,
   "metadata": {},
   "outputs": [
    {
     "data": {
      "image/png": "[encoded data removed]",
      "text/plain": [
       "<Figure size 864x576 with 1 Axes>"
      ]
     },
     "metadata": {
      "needs_background": "light"
     },
     "output_type": "display_data"
    }
   ],
   "source": [
    "#Plot the distinct number of health insurance benefits offered by QHPs/issuers in listed states.\n",
    "\n",
    "plt.figure(figsize = (12,8));\n",
    "distinctbenefits_perstate.plot(kind = 'bar', rot = 45, color = 'skyblue');\n",
    "\n",
    "plt.xlabel('State', fontsize = 14);\n",
    "plt.ylabel('Number of health insurance benefits available', fontsize = 14);\n",
    "plt.title('Distinct number of benefits available across all QHP plans per listed State', fontsize = 18);"
   ]
  },
  {
   "cell_type": "markdown",
   "metadata": {},
   "source": [
    "### Rate PUF"
   ]
  },
  {
   "cell_type": "code",
   "execution_count": 14,
   "metadata": {},
   "outputs": [],
   "source": [
    "#Read in the rate PUF dataset for 2020.\n",
    "\n",
    "rate = pd.read_csv(\"D:/Datasets/CMS_healthinsurance_bundle_2020/Rate_PUF.csv\");  #, encoding='cp1252');"
   ]
  },
  {
   "cell_type": "code",
   "execution_count": 15,
   "metadata": {},
   "outputs": [],
   "source": [
    "#Manually set display options.\n",
    "\n",
    "pd.options.display.max_rows = 30\n",
    "pd.options.display.max_columns = 30"
   ]
  },
  {
   "cell_type": "code",
   "execution_count": 16,
   "metadata": {},
   "outputs": [
    {
     "data": {
      "text/html": [
       "<div>\n",
       "<style scoped>\n",
       "    .dataframe tbody tr th:only-of-type {\n",
       "        vertical-align: middle;\n",
       "    }\n",
       "\n",
       "    .dataframe tbody tr th {\n",
       "        vertical-align: top;\n",
       "    }\n",
       "\n",
       "    .dataframe thead th {\n",
       "        text-align: right;\n",
       "    }\n",
       "</style>\n",
       "<table border=\"1\" class=\"dataframe\">\n",
       "  <thead>\n",
       "    <tr style=\"text-align: right;\">\n",
       "      <th></th>\n",
       "      <th>BusinessYear</th>\n",
       "      <th>StateCode</th>\n",
       "      <th>IssuerId</th>\n",
       "      <th>SourceName</th>\n",
       "      <th>ImportDate</th>\n",
       "      <th>FederalTIN</th>\n",
       "      <th>RateEffectiveDate</th>\n",
       "      <th>RateExpirationDate</th>\n",
       "      <th>PlanId</th>\n",
       "      <th>RatingAreaId</th>\n",
       "      <th>Tobacco</th>\n",
       "      <th>Age</th>\n",
       "      <th>IndividualRate</th>\n",
       "      <th>IndividualTobaccoRate</th>\n",
       "      <th>Couple</th>\n",
       "      <th>PrimarySubscriberAndOneDependent</th>\n",
       "      <th>PrimarySubscriberAndTwoDependents</th>\n",
       "      <th>PrimarySubscriberAndThreeOrMoreDependents</th>\n",
       "      <th>CoupleAndOneDependent</th>\n",
       "      <th>CoupleAndTwoDependents</th>\n",
       "      <th>CoupleAndThreeOrMoreDependents</th>\n",
       "    </tr>\n",
       "  </thead>\n",
       "  <tbody>\n",
       "    <tr>\n",
       "      <th>0</th>\n",
       "      <td>2020</td>\n",
       "      <td>AK</td>\n",
       "      <td>21989</td>\n",
       "      <td>HIOS</td>\n",
       "      <td>2019-08-09 03:20:19</td>\n",
       "      <td>93-0438772</td>\n",
       "      <td>2020-01-01</td>\n",
       "      <td>2020-03-31</td>\n",
       "      <td>21989AK0080001</td>\n",
       "      <td>Rating Area 1</td>\n",
       "      <td>NaN</td>\n",
       "      <td>Family Option</td>\n",
       "      <td>51.23</td>\n",
       "      <td>NaN</td>\n",
       "      <td>106.56</td>\n",
       "      <td>122.95</td>\n",
       "      <td>122.95</td>\n",
       "      <td>122.95</td>\n",
       "      <td>183.41</td>\n",
       "      <td>183.41</td>\n",
       "      <td>183.41</td>\n",
       "    </tr>\n",
       "    <tr>\n",
       "      <th>1</th>\n",
       "      <td>2020</td>\n",
       "      <td>AK</td>\n",
       "      <td>21989</td>\n",
       "      <td>HIOS</td>\n",
       "      <td>2019-08-09 03:20:19</td>\n",
       "      <td>93-0438772</td>\n",
       "      <td>2020-01-01</td>\n",
       "      <td>2020-03-31</td>\n",
       "      <td>21989AK0080001</td>\n",
       "      <td>Rating Area 2</td>\n",
       "      <td>NaN</td>\n",
       "      <td>Family Option</td>\n",
       "      <td>51.23</td>\n",
       "      <td>NaN</td>\n",
       "      <td>106.56</td>\n",
       "      <td>122.95</td>\n",
       "      <td>122.95</td>\n",
       "      <td>122.95</td>\n",
       "      <td>183.41</td>\n",
       "      <td>183.41</td>\n",
       "      <td>183.41</td>\n",
       "    </tr>\n",
       "    <tr>\n",
       "      <th>2</th>\n",
       "      <td>2020</td>\n",
       "      <td>AK</td>\n",
       "      <td>21989</td>\n",
       "      <td>HIOS</td>\n",
       "      <td>2019-08-09 03:20:19</td>\n",
       "      <td>93-0438772</td>\n",
       "      <td>2020-01-01</td>\n",
       "      <td>2020-03-31</td>\n",
       "      <td>21989AK0080001</td>\n",
       "      <td>Rating Area 3</td>\n",
       "      <td>NaN</td>\n",
       "      <td>Family Option</td>\n",
       "      <td>51.23</td>\n",
       "      <td>NaN</td>\n",
       "      <td>106.56</td>\n",
       "      <td>122.95</td>\n",
       "      <td>122.95</td>\n",
       "      <td>122.95</td>\n",
       "      <td>183.41</td>\n",
       "      <td>183.41</td>\n",
       "      <td>183.41</td>\n",
       "    </tr>\n",
       "    <tr>\n",
       "      <th>3</th>\n",
       "      <td>2020</td>\n",
       "      <td>AK</td>\n",
       "      <td>21989</td>\n",
       "      <td>HIOS</td>\n",
       "      <td>2019-08-09 03:20:19</td>\n",
       "      <td>93-0438772</td>\n",
       "      <td>2020-01-01</td>\n",
       "      <td>2020-03-31</td>\n",
       "      <td>21989AK0080002</td>\n",
       "      <td>Rating Area 1</td>\n",
       "      <td>NaN</td>\n",
       "      <td>Family Option</td>\n",
       "      <td>59.24</td>\n",
       "      <td>NaN</td>\n",
       "      <td>123.22</td>\n",
       "      <td>142.18</td>\n",
       "      <td>142.18</td>\n",
       "      <td>142.18</td>\n",
       "      <td>212.08</td>\n",
       "      <td>212.08</td>\n",
       "      <td>212.08</td>\n",
       "    </tr>\n",
       "    <tr>\n",
       "      <th>4</th>\n",
       "      <td>2020</td>\n",
       "      <td>AK</td>\n",
       "      <td>21989</td>\n",
       "      <td>HIOS</td>\n",
       "      <td>2019-08-09 03:20:19</td>\n",
       "      <td>93-0438772</td>\n",
       "      <td>2020-01-01</td>\n",
       "      <td>2020-03-31</td>\n",
       "      <td>21989AK0080002</td>\n",
       "      <td>Rating Area 2</td>\n",
       "      <td>NaN</td>\n",
       "      <td>Family Option</td>\n",
       "      <td>59.24</td>\n",
       "      <td>NaN</td>\n",
       "      <td>123.22</td>\n",
       "      <td>142.18</td>\n",
       "      <td>142.18</td>\n",
       "      <td>142.18</td>\n",
       "      <td>212.08</td>\n",
       "      <td>212.08</td>\n",
       "      <td>212.08</td>\n",
       "    </tr>\n",
       "  </tbody>\n",
       "</table>\n",
       "</div>"
      ],
      "text/plain": [
       "   BusinessYear StateCode  IssuerId SourceName           ImportDate  \\\n",
       "0          2020        AK     21989       HIOS  2019-08-09 03:20:19   \n",
       "1          2020        AK     21989       HIOS  2019-08-09 03:20:19   \n",
       "2          2020        AK     21989       HIOS  2019-08-09 03:20:19   \n",
       "3          2020        AK     21989       HIOS  2019-08-09 03:20:19   \n",
       "4          2020        AK     21989       HIOS  2019-08-09 03:20:19   \n",
       "\n",
       "   FederalTIN RateEffectiveDate RateExpirationDate          PlanId  \\\n",
       "0  93-0438772        2020-01-01         2020-03-31  21989AK0080001   \n",
       "1  93-0438772        2020-01-01         2020-03-31  21989AK0080001   \n",
       "2  93-0438772        2020-01-01         2020-03-31  21989AK0080001   \n",
       "3  93-0438772        2020-01-01         2020-03-31  21989AK0080002   \n",
       "4  93-0438772        2020-01-01         2020-03-31  21989AK0080002   \n",
       "\n",
       "    RatingAreaId Tobacco            Age  IndividualRate  \\\n",
       "0  Rating Area 1     NaN  Family Option           51.23   \n",
       "1  Rating Area 2     NaN  Family Option           51.23   \n",
       "2  Rating Area 3     NaN  Family Option           51.23   \n",
       "3  Rating Area 1     NaN  Family Option           59.24   \n",
       "4  Rating Area 2     NaN  Family Option           59.24   \n",
       "\n",
       "   IndividualTobaccoRate  Couple  PrimarySubscriberAndOneDependent  \\\n",
       "0                    NaN  106.56                            122.95   \n",
       "1                    NaN  106.56                            122.95   \n",
       "2                    NaN  106.56                            122.95   \n",
       "3                    NaN  123.22                            142.18   \n",
       "4                    NaN  123.22                            142.18   \n",
       "\n",
       "   PrimarySubscriberAndTwoDependents  \\\n",
       "0                             122.95   \n",
       "1                             122.95   \n",
       "2                             122.95   \n",
       "3                             142.18   \n",
       "4                             142.18   \n",
       "\n",
       "   PrimarySubscriberAndThreeOrMoreDependents  CoupleAndOneDependent  \\\n",
       "0                                     122.95                 183.41   \n",
       "1                                     122.95                 183.41   \n",
       "2                                     122.95                 183.41   \n",
       "3                                     142.18                 212.08   \n",
       "4                                     142.18                 212.08   \n",
       "\n",
       "   CoupleAndTwoDependents  CoupleAndThreeOrMoreDependents  \n",
       "0                  183.41                          183.41  \n",
       "1                  183.41                          183.41  \n",
       "2                  183.41                          183.41  \n",
       "3                  212.08                          212.08  \n",
       "4                  212.08                          212.08  "
      ]
     },
     "metadata": {},
     "output_type": "display_data"
    },
    {
     "data": {
      "text/plain": [
       "(1886351, 21)"
      ]
     },
     "metadata": {},
     "output_type": "display_data"
    }
   ],
   "source": [
    "#Display a few rows of rate DF and its shape.\n",
    "\n",
    "display(rate.head())\n",
    "display(rate.shape)"
   ]
  },
  {
   "cell_type": "code",
   "execution_count": 17,
   "metadata": {},
   "outputs": [
    {
     "data": {
      "text/plain": [
       "BusinessYear                                   int64\n",
       "StateCode                                     object\n",
       "IssuerId                                       int64\n",
       "SourceName                                    object\n",
       "ImportDate                                    object\n",
       "FederalTIN                                    object\n",
       "RateEffectiveDate                             object\n",
       "RateExpirationDate                            object\n",
       "PlanId                                        object\n",
       "RatingAreaId                                  object\n",
       "Tobacco                                       object\n",
       "Age                                           object\n",
       "IndividualRate                               float64\n",
       "IndividualTobaccoRate                        float64\n",
       "Couple                                       float64\n",
       "PrimarySubscriberAndOneDependent             float64\n",
       "PrimarySubscriberAndTwoDependents            float64\n",
       "PrimarySubscriberAndThreeOrMoreDependents    float64\n",
       "CoupleAndOneDependent                        float64\n",
       "CoupleAndTwoDependents                       float64\n",
       "CoupleAndThreeOrMoreDependents               float64\n",
       "dtype: object"
      ]
     },
     "metadata": {},
     "output_type": "display_data"
    }
   ],
   "source": [
    "#Look at all column datatypes in rate DF.\n",
    "\n",
    "display(rate.dtypes)"
   ]
  },
  {
   "cell_type": "code",
   "execution_count": 18,
   "metadata": {},
   "outputs": [
    {
     "data": {
      "text/plain": [
       "BusinessYear                                       0\n",
       "StateCode                                          0\n",
       "IssuerId                                           0\n",
       "SourceName                                         0\n",
       "ImportDate                                         0\n",
       "FederalTIN                                         0\n",
       "RateEffectiveDate                                  0\n",
       "RateExpirationDate                                 0\n",
       "PlanId                                             0\n",
       "RatingAreaId                                       0\n",
       "Tobacco                                         1595\n",
       "Age                                                0\n",
       "IndividualRate                                     0\n",
       "IndividualTobaccoRate                        1251860\n",
       "Couple                                       1884756\n",
       "PrimarySubscriberAndOneDependent             1884756\n",
       "PrimarySubscriberAndTwoDependents            1884756\n",
       "PrimarySubscriberAndThreeOrMoreDependents    1884756\n",
       "CoupleAndOneDependent                        1884756\n",
       "CoupleAndTwoDependents                       1884756\n",
       "CoupleAndThreeOrMoreDependents               1884756\n",
       "dtype: int64"
      ]
     },
     "metadata": {},
     "output_type": "display_data"
    }
   ],
   "source": [
    "#Count of null values per column.\n",
    "\n",
    "display(rate.isnull().sum())"
   ]
  },
  {
   "cell_type": "code",
   "execution_count": 19,
   "metadata": {},
   "outputs": [
    {
     "data": {
      "text/plain": [
       "BusinessYear                                 1886351\n",
       "StateCode                                    1886351\n",
       "IssuerId                                     1886351\n",
       "SourceName                                   1886351\n",
       "ImportDate                                   1886351\n",
       "FederalTIN                                   1886351\n",
       "RateEffectiveDate                            1886351\n",
       "RateExpirationDate                           1886351\n",
       "PlanId                                       1886351\n",
       "RatingAreaId                                 1886351\n",
       "Tobacco                                      1884756\n",
       "Age                                          1886351\n",
       "IndividualRate                               1886351\n",
       "IndividualTobaccoRate                         634491\n",
       "Couple                                          1595\n",
       "PrimarySubscriberAndOneDependent                1595\n",
       "PrimarySubscriberAndTwoDependents               1595\n",
       "PrimarySubscriberAndThreeOrMoreDependents       1595\n",
       "CoupleAndOneDependent                           1595\n",
       "CoupleAndTwoDependents                          1595\n",
       "CoupleAndThreeOrMoreDependents                  1595\n",
       "dtype: int64"
      ]
     },
     "metadata": {},
     "output_type": "display_data"
    }
   ],
   "source": [
    "#Count of valid values per column.\n",
    "\n",
    "display(rate.notnull().sum())"
   ]
  },
  {
   "cell_type": "code",
   "execution_count": 20,
   "metadata": {},
   "outputs": [
    {
     "name": "stdout",
     "output_type": "stream",
     "text": [
      "38\n"
     ]
    }
   ],
   "source": [
    "#Print the number of unique states in rate DF.\n",
    "\n",
    "print(rate.StateCode.nunique() ) #matches benefitscostsharing df\n",
    "\n",
    "#print(benefitscostsharing.StateCode.nunique())   #to compare"
   ]
  },
  {
   "cell_type": "code",
   "execution_count": 21,
   "metadata": {},
   "outputs": [
    {
     "data": {
      "text/plain": [
       "No Preference                    1250265\n",
       "Tobacco User/Non-Tobacco User     634491\n",
       "Name: Tobacco, dtype: int64"
      ]
     },
     "metadata": {},
     "output_type": "display_data"
    }
   ],
   "source": [
    "#Look at value counts of Tobacco column (has usage indicators that determine rate eligibility for insurance plan)\n",
    "\n",
    "display(rate.Tobacco.value_counts())\n",
    "\n",
    "#Tobacco user: used any tobacco products four or more times a week in the past six months [3].\n",
    "#Non-tobacco user: smoke cigars infrequently, such as one or less per month [4].\n"
   ]
  },
  {
   "cell_type": "code",
   "execution_count": 22,
   "metadata": {},
   "outputs": [
    {
     "name": "stdout",
     "output_type": "stream",
     "text": [
      "1884756\n"
     ]
    }
   ],
   "source": [
    "#Count of all valid responses to tobacco column (excludes NULLs).\n",
    "\n",
    "validtobaccocount = rate.Tobacco.value_counts().values.sum();\n",
    "print(validtobaccocount)"
   ]
  },
  {
   "cell_type": "code",
   "execution_count": 23,
   "metadata": {},
   "outputs": [
    {
     "name": "stdout",
     "output_type": "stream",
     "text": [
      "0.08455478328264464\n"
     ]
    }
   ],
   "source": [
    "#Percentage of null tobacco values compared to all tobacco values.\n",
    "\n",
    "nulltobaccocount = rate.Tobacco.isnull().sum();\n",
    "\n",
    "#percentage of null responses in entire column\n",
    "print(100 * (nulltobaccocount/ (nulltobaccocount + validtobaccocount)  ))"
   ]
  },
  {
   "cell_type": "code",
   "execution_count": 24,
   "metadata": {},
   "outputs": [
    {
     "name": "stdout",
     "output_type": "stream",
     "text": [
      "Count of rows with NULL in Tobacco column: 1595\n",
      "Unique Age values present in subset where Tobacco is NULL: ['Family Option'] \n",
      "Count of rows with \"Family Option\" in Age column: 1595\n",
      "\n",
      "Therefore, the rows with NULL in Tobacco column cannot be dropped since they represent all rows with Age as \"Family Option\". \n"
     ]
    }
   ],
   "source": [
    "#Check if all rows with NULL for Tobacco column can be dropped (since is small proportion of DF).\n",
    "\n",
    "#View count of rows with NULL values for Tobacco column.\n",
    "print(f'Count of rows with NULL in Tobacco column: {rate[rate[\"Tobacco\"].isnull()].shape[0]}')\n",
    "\n",
    "#View the unique Age values present in subset where Tobacco is NULL.\n",
    "print(f'Unique Age values present in subset where Tobacco is NULL: {rate[rate[\"Tobacco\"].isnull()].Age.unique()} ')\n",
    "\n",
    "#Check the count of all rows with 'Family Option' as age in the full DF.\n",
    "print(f'Count of rows with \"Family Option\" in Age column: {rate[rate[\"Age\"] == \"Family Option\"].shape[0]}')\n",
    "\n",
    "print(f'\\nTherefore, the rows with NULL in Tobacco column cannot be dropped since they represent all rows with Age as \"Family Option\". ')\n"
   ]
  },
  {
   "cell_type": "code",
   "execution_count": 25,
   "metadata": {},
   "outputs": [
    {
     "data": {
      "text/plain": [
       "Index(['BusinessYear', 'StateCode', 'IssuerId', 'SourceName', 'ImportDate',\n",
       "       'FederalTIN', 'RateEffectiveDate', 'RateExpirationDate', 'PlanId',\n",
       "       'RatingAreaId', 'Tobacco', 'Age', 'IndividualRate',\n",
       "       'IndividualTobaccoRate', 'Couple', 'PrimarySubscriberAndOneDependent',\n",
       "       'PrimarySubscriberAndTwoDependents',\n",
       "       'PrimarySubscriberAndThreeOrMoreDependents', 'CoupleAndOneDependent',\n",
       "       'CoupleAndTwoDependents', 'CoupleAndThreeOrMoreDependents'],\n",
       "      dtype='object')"
      ]
     },
     "metadata": {},
     "output_type": "display_data"
    }
   ],
   "source": [
    "#Print all column names in rate DF.\n",
    "\n",
    "display(rate.columns)"
   ]
  },
  {
   "cell_type": "code",
   "execution_count": 26,
   "metadata": {},
   "outputs": [
    {
     "name": "stdout",
     "output_type": "stream",
     "text": [
      "(1251860, 21)\n"
     ]
    }
   ],
   "source": [
    "#Print count of records for non-tobacco user and no preference plans.\n",
    "#(NULL IndividualTobaccoRate and valid IndividualRate)\n",
    "\n",
    "print(rate[rate['IndividualTobaccoRate'].isnull()].shape)"
   ]
  },
  {
   "cell_type": "code",
   "execution_count": 27,
   "metadata": {},
   "outputs": [
    {
     "data": {
      "text/html": [
       "<div>\n",
       "<style scoped>\n",
       "    .dataframe tbody tr th:only-of-type {\n",
       "        vertical-align: middle;\n",
       "    }\n",
       "\n",
       "    .dataframe tbody tr th {\n",
       "        vertical-align: top;\n",
       "    }\n",
       "\n",
       "    .dataframe thead th {\n",
       "        text-align: right;\n",
       "    }\n",
       "</style>\n",
       "<table border=\"1\" class=\"dataframe\">\n",
       "  <thead>\n",
       "    <tr style=\"text-align: right;\">\n",
       "      <th></th>\n",
       "      <th>BusinessYear</th>\n",
       "      <th>StateCode</th>\n",
       "      <th>IssuerId</th>\n",
       "      <th>SourceName</th>\n",
       "      <th>ImportDate</th>\n",
       "      <th>FederalTIN</th>\n",
       "      <th>RateEffectiveDate</th>\n",
       "      <th>RateExpirationDate</th>\n",
       "      <th>PlanId</th>\n",
       "      <th>RatingAreaId</th>\n",
       "      <th>Tobacco</th>\n",
       "      <th>Age</th>\n",
       "      <th>IndividualRate</th>\n",
       "      <th>IndividualTobaccoRate</th>\n",
       "      <th>Couple</th>\n",
       "      <th>PrimarySubscriberAndOneDependent</th>\n",
       "      <th>PrimarySubscriberAndTwoDependents</th>\n",
       "      <th>PrimarySubscriberAndThreeOrMoreDependents</th>\n",
       "      <th>CoupleAndOneDependent</th>\n",
       "      <th>CoupleAndTwoDependents</th>\n",
       "      <th>CoupleAndThreeOrMoreDependents</th>\n",
       "    </tr>\n",
       "  </thead>\n",
       "  <tbody>\n",
       "    <tr>\n",
       "      <th>52</th>\n",
       "      <td>2020</td>\n",
       "      <td>AK</td>\n",
       "      <td>21989</td>\n",
       "      <td>HIOS</td>\n",
       "      <td>2019-08-09 03:20:19</td>\n",
       "      <td>93-0438772</td>\n",
       "      <td>2020-01-01</td>\n",
       "      <td>2020-12-31</td>\n",
       "      <td>21989AK0030001</td>\n",
       "      <td>Rating Area 1</td>\n",
       "      <td>No Preference</td>\n",
       "      <td>0-14</td>\n",
       "      <td>61.0</td>\n",
       "      <td>NaN</td>\n",
       "      <td>NaN</td>\n",
       "      <td>NaN</td>\n",
       "      <td>NaN</td>\n",
       "      <td>NaN</td>\n",
       "      <td>NaN</td>\n",
       "      <td>NaN</td>\n",
       "      <td>NaN</td>\n",
       "    </tr>\n",
       "    <tr>\n",
       "      <th>53</th>\n",
       "      <td>2020</td>\n",
       "      <td>AK</td>\n",
       "      <td>21989</td>\n",
       "      <td>HIOS</td>\n",
       "      <td>2019-08-09 03:20:19</td>\n",
       "      <td>93-0438772</td>\n",
       "      <td>2020-01-01</td>\n",
       "      <td>2020-12-31</td>\n",
       "      <td>21989AK0030001</td>\n",
       "      <td>Rating Area 1</td>\n",
       "      <td>No Preference</td>\n",
       "      <td>15</td>\n",
       "      <td>61.0</td>\n",
       "      <td>NaN</td>\n",
       "      <td>NaN</td>\n",
       "      <td>NaN</td>\n",
       "      <td>NaN</td>\n",
       "      <td>NaN</td>\n",
       "      <td>NaN</td>\n",
       "      <td>NaN</td>\n",
       "      <td>NaN</td>\n",
       "    </tr>\n",
       "    <tr>\n",
       "      <th>54</th>\n",
       "      <td>2020</td>\n",
       "      <td>AK</td>\n",
       "      <td>21989</td>\n",
       "      <td>HIOS</td>\n",
       "      <td>2019-08-09 03:20:19</td>\n",
       "      <td>93-0438772</td>\n",
       "      <td>2020-01-01</td>\n",
       "      <td>2020-12-31</td>\n",
       "      <td>21989AK0030001</td>\n",
       "      <td>Rating Area 1</td>\n",
       "      <td>No Preference</td>\n",
       "      <td>16</td>\n",
       "      <td>61.0</td>\n",
       "      <td>NaN</td>\n",
       "      <td>NaN</td>\n",
       "      <td>NaN</td>\n",
       "      <td>NaN</td>\n",
       "      <td>NaN</td>\n",
       "      <td>NaN</td>\n",
       "      <td>NaN</td>\n",
       "      <td>NaN</td>\n",
       "    </tr>\n",
       "    <tr>\n",
       "      <th>55</th>\n",
       "      <td>2020</td>\n",
       "      <td>AK</td>\n",
       "      <td>21989</td>\n",
       "      <td>HIOS</td>\n",
       "      <td>2019-08-09 03:20:19</td>\n",
       "      <td>93-0438772</td>\n",
       "      <td>2020-01-01</td>\n",
       "      <td>2020-12-31</td>\n",
       "      <td>21989AK0030001</td>\n",
       "      <td>Rating Area 1</td>\n",
       "      <td>No Preference</td>\n",
       "      <td>17</td>\n",
       "      <td>61.0</td>\n",
       "      <td>NaN</td>\n",
       "      <td>NaN</td>\n",
       "      <td>NaN</td>\n",
       "      <td>NaN</td>\n",
       "      <td>NaN</td>\n",
       "      <td>NaN</td>\n",
       "      <td>NaN</td>\n",
       "      <td>NaN</td>\n",
       "    </tr>\n",
       "    <tr>\n",
       "      <th>56</th>\n",
       "      <td>2020</td>\n",
       "      <td>AK</td>\n",
       "      <td>21989</td>\n",
       "      <td>HIOS</td>\n",
       "      <td>2019-08-09 03:20:19</td>\n",
       "      <td>93-0438772</td>\n",
       "      <td>2020-01-01</td>\n",
       "      <td>2020-12-31</td>\n",
       "      <td>21989AK0030001</td>\n",
       "      <td>Rating Area 1</td>\n",
       "      <td>No Preference</td>\n",
       "      <td>18</td>\n",
       "      <td>61.0</td>\n",
       "      <td>NaN</td>\n",
       "      <td>NaN</td>\n",
       "      <td>NaN</td>\n",
       "      <td>NaN</td>\n",
       "      <td>NaN</td>\n",
       "      <td>NaN</td>\n",
       "      <td>NaN</td>\n",
       "      <td>NaN</td>\n",
       "    </tr>\n",
       "  </tbody>\n",
       "</table>\n",
       "</div>"
      ],
      "text/plain": [
       "    BusinessYear StateCode  IssuerId SourceName           ImportDate  \\\n",
       "52          2020        AK     21989       HIOS  2019-08-09 03:20:19   \n",
       "53          2020        AK     21989       HIOS  2019-08-09 03:20:19   \n",
       "54          2020        AK     21989       HIOS  2019-08-09 03:20:19   \n",
       "55          2020        AK     21989       HIOS  2019-08-09 03:20:19   \n",
       "56          2020        AK     21989       HIOS  2019-08-09 03:20:19   \n",
       "\n",
       "    FederalTIN RateEffectiveDate RateExpirationDate          PlanId  \\\n",
       "52  93-0438772        2020-01-01         2020-12-31  21989AK0030001   \n",
       "53  93-0438772        2020-01-01         2020-12-31  21989AK0030001   \n",
       "54  93-0438772        2020-01-01         2020-12-31  21989AK0030001   \n",
       "55  93-0438772        2020-01-01         2020-12-31  21989AK0030001   \n",
       "56  93-0438772        2020-01-01         2020-12-31  21989AK0030001   \n",
       "\n",
       "     RatingAreaId        Tobacco   Age  IndividualRate  IndividualTobaccoRate  \\\n",
       "52  Rating Area 1  No Preference  0-14            61.0                    NaN   \n",
       "53  Rating Area 1  No Preference    15            61.0                    NaN   \n",
       "54  Rating Area 1  No Preference    16            61.0                    NaN   \n",
       "55  Rating Area 1  No Preference    17            61.0                    NaN   \n",
       "56  Rating Area 1  No Preference    18            61.0                    NaN   \n",
       "\n",
       "    Couple  PrimarySubscriberAndOneDependent  \\\n",
       "52     NaN                               NaN   \n",
       "53     NaN                               NaN   \n",
       "54     NaN                               NaN   \n",
       "55     NaN                               NaN   \n",
       "56     NaN                               NaN   \n",
       "\n",
       "    PrimarySubscriberAndTwoDependents  \\\n",
       "52                                NaN   \n",
       "53                                NaN   \n",
       "54                                NaN   \n",
       "55                                NaN   \n",
       "56                                NaN   \n",
       "\n",
       "    PrimarySubscriberAndThreeOrMoreDependents  CoupleAndOneDependent  \\\n",
       "52                                        NaN                    NaN   \n",
       "53                                        NaN                    NaN   \n",
       "54                                        NaN                    NaN   \n",
       "55                                        NaN                    NaN   \n",
       "56                                        NaN                    NaN   \n",
       "\n",
       "    CoupleAndTwoDependents  CoupleAndThreeOrMoreDependents  \n",
       "52                     NaN                             NaN  \n",
       "53                     NaN                             NaN  \n",
       "54                     NaN                             NaN  \n",
       "55                     NaN                             NaN  \n",
       "56                     NaN                             NaN  "
      ]
     },
     "metadata": {},
     "output_type": "display_data"
    },
    {
     "data": {
      "text/plain": [
       "Series([], Name: IndividualTobaccoRate, dtype: int64)"
      ]
     },
     "metadata": {},
     "output_type": "display_data"
    },
    {
     "name": "stdout",
     "output_type": "stream",
     "text": [
      "\n",
      "All values for IndividualTobaccoRate are NULL for this subset as expected (defined in data dict).\n"
     ]
    }
   ],
   "source": [
    "#Find valid counts of IndividualTobaccoRate values when Tobacco response is \"No Preference\".\n",
    "\n",
    "mask = (rate.Tobacco == \"No Preference\");\n",
    "display(rate[mask].head())\n",
    "display(rate[mask].IndividualTobaccoRate.value_counts())   #check counts for Tobacco-based rate (all should be NULLs)\n",
    "\n",
    "print(f'\\nAll values for IndividualTobaccoRate are NULL for this subset as expected (defined in data dict).')\n"
   ]
  },
  {
   "cell_type": "code",
   "execution_count": 28,
   "metadata": {},
   "outputs": [
    {
     "name": "stdout",
     "output_type": "stream",
     "text": [
      "(1250265, 21)\n",
      "\n",
      "All rows with Tobacco as \"No Preference\" account for all NULL values in IndividualTobaccoRate,\n",
      "so no cleaning needed for this column.\n"
     ]
    }
   ],
   "source": [
    "#View all rows with Tobacco as \"No Preference\" and IndividualTobaccoRate as NULL.\n",
    "m = ((rate.Tobacco == \"No Preference\") & (rate.IndividualTobaccoRate.isnull() ))  ;\n",
    "print(rate[m].shape)\n",
    "\n",
    "print(f'''\\nAll rows with Tobacco as \"No Preference\" account for all NULL values in IndividualTobaccoRate,\n",
    "so no cleaning needed for this column.''')"
   ]
  },
  {
   "cell_type": "code",
   "execution_count": 29,
   "metadata": {},
   "outputs": [
    {
     "name": "stdout",
     "output_type": "stream",
     "text": [
      "Value counts for rate subset with Tobacco as \"Tobacco User/Non-Tobacco User\":\n",
      "False    1251860\n",
      "True      634491\n",
      "Name: Tobacco, dtype: int64\n",
      "\n",
      "Value counts for rate subset with IndividualTobaccoRate > IndividualRate:\n",
      "False    1329932\n",
      "True      556419\n",
      "dtype: int64\n"
     ]
    }
   ],
   "source": [
    "#View rows with Tobacco as \"Tobacco User/Non-Tobacco User\", and IndividualTobaccoRate is higher than IndividualRate.\n",
    "#If so -- then I am assuming these are the Tobacco users.\n",
    "\n",
    "#Create mask for rows with Tobacco as \"Tobacco User/Non-Tobacco User\".\n",
    "mask1 = (rate['Tobacco'] == \"Tobacco User/Non-Tobacco User\");\n",
    "print(f'Value counts for rate subset with Tobacco as \"Tobacco User/Non-Tobacco User\":\\n{mask1.value_counts()}\\n')\n",
    "\n",
    "#Create mask for rows with IndividualTobaccoRate greater than IndividualRate.\n",
    "mask2 = (rate['IndividualTobaccoRate'] > rate['IndividualRate']);\n",
    "print(f'Value counts for rate subset with IndividualTobaccoRate > IndividualRate:\\n{mask2.value_counts()}')\n",
    "\n"
   ]
  },
  {
   "cell_type": "markdown",
   "metadata": {},
   "source": [
    "## Section 2: Feature Engineering from Existing Data"
   ]
  },
  {
   "cell_type": "markdown",
   "metadata": {},
   "source": [
    "### Create column \"Is_tobacco_user\" in rate DF."
   ]
  },
  {
   "cell_type": "code",
   "execution_count": 30,
   "metadata": {},
   "outputs": [],
   "source": [
    "#Create column \"Is_tobacco_user\" (T/F) based on both premiums.\n",
    "#This can be used to differentiate between users and non-users for records with \"Tobacco User/Non-Tobacco User\".\n",
    "\n",
    "is_tobacco_user = (mask1 & mask2);  #create new mask from both masks used in the last code block\n",
    "\n",
    "rate['Is_tobacco_user'] = is_tobacco_user;   #create new column (boolean datatype) in rate DF\n"
   ]
  },
  {
   "cell_type": "code",
   "execution_count": 31,
   "metadata": {},
   "outputs": [
    {
     "data": {
      "text/plain": [
       "Index(['BusinessYear', 'StateCode', 'IssuerId', 'SourceName', 'ImportDate',\n",
       "       'FederalTIN', 'RateEffectiveDate', 'RateExpirationDate', 'PlanId',\n",
       "       'RatingAreaId', 'Tobacco', 'Age', 'IndividualRate',\n",
       "       'IndividualTobaccoRate', 'Couple', 'PrimarySubscriberAndOneDependent',\n",
       "       'PrimarySubscriberAndTwoDependents',\n",
       "       'PrimarySubscriberAndThreeOrMoreDependents', 'CoupleAndOneDependent',\n",
       "       'CoupleAndTwoDependents', 'CoupleAndThreeOrMoreDependents',\n",
       "       'Is_tobacco_user'],\n",
       "      dtype='object')"
      ]
     },
     "metadata": {},
     "output_type": "display_data"
    }
   ],
   "source": [
    "#View all columns in rate DF, which now includes the \"Is_tobacco_user\" column.\n",
    "\n",
    "display(rate.columns)"
   ]
  },
  {
   "cell_type": "code",
   "execution_count": 32,
   "metadata": {},
   "outputs": [
    {
     "data": {
      "text/plain": [
       "False    1329932\n",
       "True      556419\n",
       "Name: Is_tobacco_user, dtype: int64"
      ]
     },
     "metadata": {},
     "output_type": "display_data"
    },
    {
     "data": {
      "text/plain": [
       "dtype('bool')"
      ]
     },
     "metadata": {},
     "output_type": "display_data"
    }
   ],
   "source": [
    "#View the counts and datatype of the \"Is_tobacco_user\" column.\n",
    "\n",
    "display(rate.Is_tobacco_user.value_counts())\n",
    "display(rate.Is_tobacco_user.dtype)"
   ]
  },
  {
   "cell_type": "code",
   "execution_count": 33,
   "metadata": {},
   "outputs": [
    {
     "name": "stdout",
     "output_type": "stream",
     "text": [
      "Average Individual Rate per term across all insurance plans: $341.94\n"
     ]
    }
   ],
   "source": [
    "#Average IndividualRate across all insurance plans (for a particular effective period).\n",
    "\n",
    "print(f'Average Individual Rate per term across all insurance plans: ${round(rate.IndividualRate.mean(),2)}')"
   ]
  },
  {
   "cell_type": "code",
   "execution_count": 34,
   "metadata": {},
   "outputs": [
    {
     "data": {
      "image/png": "[encoded data removed]",
      "text/plain": [
       "<Figure size 720x576 with 1 Axes>"
      ]
     },
     "metadata": {
      "needs_background": "light"
     },
     "output_type": "display_data"
    }
   ],
   "source": [
    "#Plot histogram of IndividualRate across all health insurance plans.\n",
    "#(IndividualRate is used if Tobacco specified as \"No preference\" or to a non-tobacco user)\n",
    "\n",
    "nbins = [*range(1,10250,250)];  #specify bin widths\n",
    "\n",
    "rate.IndividualRate.hist(bins = nbins, figsize = (10,8), color = 'darkorange'); #histogram with custom bins\n",
    "plt.xlabel('Individual Rate per term ($)', fontsize = 14);\n",
    "plt.ylabel('Count of plans with Individual Rate', fontsize = 14);\n",
    "plt.title('Histogram of Individual Rates across all 2020 health insurance plans', fontsize = 16);\n"
   ]
  },
  {
   "cell_type": "markdown",
   "metadata": {},
   "source": [
    "### Create \"IndividualRate_actual\" column in Rate DF."
   ]
  },
  {
   "cell_type": "code",
   "execution_count": 35,
   "metadata": {},
   "outputs": [],
   "source": [
    "#Create IndividualRate_actual column, where value equals: \n",
    "#IndividualTobaccoRate if Is_tobacco_user is True.\n",
    "#IndividualRate if Is_tobacco_user is False.\n",
    "\n",
    "actual_rate = list()  #initialize list\n",
    "\n",
    "for r in rate.index:  #iterate through DF indices\n",
    "    if rate.iloc[r].Is_tobacco_user:  #if true\n",
    "        actual_rate.append(rate.iloc[r].IndividualTobaccoRate)\n",
    "    else:\n",
    "        actual_rate.append(rate.iloc[r].IndividualRate)\n",
    "\n",
    "    "
   ]
  },
  {
   "cell_type": "code",
   "execution_count": 36,
   "metadata": {},
   "outputs": [],
   "source": [
    "#Add new \"IndividualRate_actual\" column to rate DF.\n",
    "\n",
    "rate['IndividualRate_actual'] = actual_rate;"
   ]
  },
  {
   "cell_type": "code",
   "execution_count": 37,
   "metadata": {},
   "outputs": [
    {
     "data": {
      "text/html": [
       "<div>\n",
       "<style scoped>\n",
       "    .dataframe tbody tr th:only-of-type {\n",
       "        vertical-align: middle;\n",
       "    }\n",
       "\n",
       "    .dataframe tbody tr th {\n",
       "        vertical-align: top;\n",
       "    }\n",
       "\n",
       "    .dataframe thead th {\n",
       "        text-align: right;\n",
       "    }\n",
       "</style>\n",
       "<table border=\"1\" class=\"dataframe\">\n",
       "  <thead>\n",
       "    <tr style=\"text-align: right;\">\n",
       "      <th></th>\n",
       "      <th>BusinessYear</th>\n",
       "      <th>StateCode</th>\n",
       "      <th>IssuerId</th>\n",
       "      <th>SourceName</th>\n",
       "      <th>ImportDate</th>\n",
       "      <th>FederalTIN</th>\n",
       "      <th>RateEffectiveDate</th>\n",
       "      <th>RateExpirationDate</th>\n",
       "      <th>PlanId</th>\n",
       "      <th>RatingAreaId</th>\n",
       "      <th>Tobacco</th>\n",
       "      <th>Age</th>\n",
       "      <th>IndividualRate</th>\n",
       "      <th>IndividualTobaccoRate</th>\n",
       "      <th>Couple</th>\n",
       "      <th>PrimarySubscriberAndOneDependent</th>\n",
       "      <th>PrimarySubscriberAndTwoDependents</th>\n",
       "      <th>PrimarySubscriberAndThreeOrMoreDependents</th>\n",
       "      <th>CoupleAndOneDependent</th>\n",
       "      <th>CoupleAndTwoDependents</th>\n",
       "      <th>CoupleAndThreeOrMoreDependents</th>\n",
       "      <th>Is_tobacco_user</th>\n",
       "      <th>IndividualRate_actual</th>\n",
       "    </tr>\n",
       "  </thead>\n",
       "  <tbody>\n",
       "    <tr>\n",
       "      <th>0</th>\n",
       "      <td>2020</td>\n",
       "      <td>AK</td>\n",
       "      <td>21989</td>\n",
       "      <td>HIOS</td>\n",
       "      <td>2019-08-09 03:20:19</td>\n",
       "      <td>93-0438772</td>\n",
       "      <td>2020-01-01</td>\n",
       "      <td>2020-03-31</td>\n",
       "      <td>21989AK0080001</td>\n",
       "      <td>Rating Area 1</td>\n",
       "      <td>NaN</td>\n",
       "      <td>Family Option</td>\n",
       "      <td>51.23</td>\n",
       "      <td>NaN</td>\n",
       "      <td>106.56</td>\n",
       "      <td>122.95</td>\n",
       "      <td>122.95</td>\n",
       "      <td>122.95</td>\n",
       "      <td>183.41</td>\n",
       "      <td>183.41</td>\n",
       "      <td>183.41</td>\n",
       "      <td>False</td>\n",
       "      <td>51.23</td>\n",
       "    </tr>\n",
       "    <tr>\n",
       "      <th>1</th>\n",
       "      <td>2020</td>\n",
       "      <td>AK</td>\n",
       "      <td>21989</td>\n",
       "      <td>HIOS</td>\n",
       "      <td>2019-08-09 03:20:19</td>\n",
       "      <td>93-0438772</td>\n",
       "      <td>2020-01-01</td>\n",
       "      <td>2020-03-31</td>\n",
       "      <td>21989AK0080001</td>\n",
       "      <td>Rating Area 2</td>\n",
       "      <td>NaN</td>\n",
       "      <td>Family Option</td>\n",
       "      <td>51.23</td>\n",
       "      <td>NaN</td>\n",
       "      <td>106.56</td>\n",
       "      <td>122.95</td>\n",
       "      <td>122.95</td>\n",
       "      <td>122.95</td>\n",
       "      <td>183.41</td>\n",
       "      <td>183.41</td>\n",
       "      <td>183.41</td>\n",
       "      <td>False</td>\n",
       "      <td>51.23</td>\n",
       "    </tr>\n",
       "    <tr>\n",
       "      <th>2</th>\n",
       "      <td>2020</td>\n",
       "      <td>AK</td>\n",
       "      <td>21989</td>\n",
       "      <td>HIOS</td>\n",
       "      <td>2019-08-09 03:20:19</td>\n",
       "      <td>93-0438772</td>\n",
       "      <td>2020-01-01</td>\n",
       "      <td>2020-03-31</td>\n",
       "      <td>21989AK0080001</td>\n",
       "      <td>Rating Area 3</td>\n",
       "      <td>NaN</td>\n",
       "      <td>Family Option</td>\n",
       "      <td>51.23</td>\n",
       "      <td>NaN</td>\n",
       "      <td>106.56</td>\n",
       "      <td>122.95</td>\n",
       "      <td>122.95</td>\n",
       "      <td>122.95</td>\n",
       "      <td>183.41</td>\n",
       "      <td>183.41</td>\n",
       "      <td>183.41</td>\n",
       "      <td>False</td>\n",
       "      <td>51.23</td>\n",
       "    </tr>\n",
       "    <tr>\n",
       "      <th>3</th>\n",
       "      <td>2020</td>\n",
       "      <td>AK</td>\n",
       "      <td>21989</td>\n",
       "      <td>HIOS</td>\n",
       "      <td>2019-08-09 03:20:19</td>\n",
       "      <td>93-0438772</td>\n",
       "      <td>2020-01-01</td>\n",
       "      <td>2020-03-31</td>\n",
       "      <td>21989AK0080002</td>\n",
       "      <td>Rating Area 1</td>\n",
       "      <td>NaN</td>\n",
       "      <td>Family Option</td>\n",
       "      <td>59.24</td>\n",
       "      <td>NaN</td>\n",
       "      <td>123.22</td>\n",
       "      <td>142.18</td>\n",
       "      <td>142.18</td>\n",
       "      <td>142.18</td>\n",
       "      <td>212.08</td>\n",
       "      <td>212.08</td>\n",
       "      <td>212.08</td>\n",
       "      <td>False</td>\n",
       "      <td>59.24</td>\n",
       "    </tr>\n",
       "    <tr>\n",
       "      <th>4</th>\n",
       "      <td>2020</td>\n",
       "      <td>AK</td>\n",
       "      <td>21989</td>\n",
       "      <td>HIOS</td>\n",
       "      <td>2019-08-09 03:20:19</td>\n",
       "      <td>93-0438772</td>\n",
       "      <td>2020-01-01</td>\n",
       "      <td>2020-03-31</td>\n",
       "      <td>21989AK0080002</td>\n",
       "      <td>Rating Area 2</td>\n",
       "      <td>NaN</td>\n",
       "      <td>Family Option</td>\n",
       "      <td>59.24</td>\n",
       "      <td>NaN</td>\n",
       "      <td>123.22</td>\n",
       "      <td>142.18</td>\n",
       "      <td>142.18</td>\n",
       "      <td>142.18</td>\n",
       "      <td>212.08</td>\n",
       "      <td>212.08</td>\n",
       "      <td>212.08</td>\n",
       "      <td>False</td>\n",
       "      <td>59.24</td>\n",
       "    </tr>\n",
       "  </tbody>\n",
       "</table>\n",
       "</div>"
      ],
      "text/plain": [
       "   BusinessYear StateCode  IssuerId SourceName           ImportDate  \\\n",
       "0          2020        AK     21989       HIOS  2019-08-09 03:20:19   \n",
       "1          2020        AK     21989       HIOS  2019-08-09 03:20:19   \n",
       "2          2020        AK     21989       HIOS  2019-08-09 03:20:19   \n",
       "3          2020        AK     21989       HIOS  2019-08-09 03:20:19   \n",
       "4          2020        AK     21989       HIOS  2019-08-09 03:20:19   \n",
       "\n",
       "   FederalTIN RateEffectiveDate RateExpirationDate          PlanId  \\\n",
       "0  93-0438772        2020-01-01         2020-03-31  21989AK0080001   \n",
       "1  93-0438772        2020-01-01         2020-03-31  21989AK0080001   \n",
       "2  93-0438772        2020-01-01         2020-03-31  21989AK0080001   \n",
       "3  93-0438772        2020-01-01         2020-03-31  21989AK0080002   \n",
       "4  93-0438772        2020-01-01         2020-03-31  21989AK0080002   \n",
       "\n",
       "    RatingAreaId Tobacco            Age  IndividualRate  \\\n",
       "0  Rating Area 1     NaN  Family Option           51.23   \n",
       "1  Rating Area 2     NaN  Family Option           51.23   \n",
       "2  Rating Area 3     NaN  Family Option           51.23   \n",
       "3  Rating Area 1     NaN  Family Option           59.24   \n",
       "4  Rating Area 2     NaN  Family Option           59.24   \n",
       "\n",
       "   IndividualTobaccoRate  Couple  PrimarySubscriberAndOneDependent  \\\n",
       "0                    NaN  106.56                            122.95   \n",
       "1                    NaN  106.56                            122.95   \n",
       "2                    NaN  106.56                            122.95   \n",
       "3                    NaN  123.22                            142.18   \n",
       "4                    NaN  123.22                            142.18   \n",
       "\n",
       "   PrimarySubscriberAndTwoDependents  \\\n",
       "0                             122.95   \n",
       "1                             122.95   \n",
       "2                             122.95   \n",
       "3                             142.18   \n",
       "4                             142.18   \n",
       "\n",
       "   PrimarySubscriberAndThreeOrMoreDependents  CoupleAndOneDependent  \\\n",
       "0                                     122.95                 183.41   \n",
       "1                                     122.95                 183.41   \n",
       "2                                     122.95                 183.41   \n",
       "3                                     142.18                 212.08   \n",
       "4                                     142.18                 212.08   \n",
       "\n",
       "   CoupleAndTwoDependents  CoupleAndThreeOrMoreDependents  Is_tobacco_user  \\\n",
       "0                  183.41                          183.41            False   \n",
       "1                  183.41                          183.41            False   \n",
       "2                  183.41                          183.41            False   \n",
       "3                  212.08                          212.08            False   \n",
       "4                  212.08                          212.08            False   \n",
       "\n",
       "   IndividualRate_actual  \n",
       "0                  51.23  \n",
       "1                  51.23  \n",
       "2                  51.23  \n",
       "3                  59.24  \n",
       "4                  59.24  "
      ]
     },
     "metadata": {},
     "output_type": "display_data"
    }
   ],
   "source": [
    "#View a few rows of updated rate DF.\n",
    "\n",
    "display(rate.head())"
   ]
  },
  {
   "cell_type": "code",
   "execution_count": 38,
   "metadata": {},
   "outputs": [
    {
     "data": {
      "image/png": "[encoded data removed]",
      "text/plain": [
       "<Figure size 576x432 with 2 Axes>"
      ]
     },
     "metadata": {
      "needs_background": "light"
     },
     "output_type": "display_data"
    }
   ],
   "source": [
    "#Use heatmap to view correlated variables in Rate DF.\n",
    "\n",
    "plt.figure(figsize = (8,6));\n",
    "sns.heatmap(rate.corr());\n",
    "plt.title('Heatmap of Rate DF', fontsize = 18);\n",
    "\n",
    "#Positive correlation between Is_tobacco_user and (IndividualRate, IndividualTobaccoRate, IndividualRate_actual)."
   ]
  },
  {
   "cell_type": "markdown",
   "metadata": {},
   "source": [
    "### Merge Benefits Cost Sharing and Rate DFs."
   ]
  },
  {
   "cell_type": "code",
   "execution_count": 39,
   "metadata": {},
   "outputs": [
    {
     "name": "stdout",
     "output_type": "stream",
     "text": [
      "430\n"
     ]
    }
   ],
   "source": [
    "#View number of unique Issuer ids in rate DF.\n",
    "\n",
    "#IssuerId is Five-digit numeric code that identifies the issuer organization in the Health Insurance Oversight System (HIOS).\n",
    "\n",
    "print(rate.IssuerId.nunique())"
   ]
  },
  {
   "cell_type": "code",
   "execution_count": 40,
   "metadata": {
    "scrolled": true
   },
   "outputs": [
    {
     "data": {
      "text/plain": [
       "array(['\"Periradicular Surgical Procedures\\t\"\\t',\n",
       "       'Abortion for Which Public Funding is Prohibited',\n",
       "       'Accidental Dental', 'Accidental Dental - Child',\n",
       "       'Accidental Dental Adult', 'Active & Fit', 'Acupuncture',\n",
       "       'Adult Frames and Lenses', 'Adult Optical (hardware)',\n",
       "       'Adult Vision Frames or Lenses'], dtype=object)"
      ]
     },
     "metadata": {},
     "output_type": "display_data"
    }
   ],
   "source": [
    "#View first 10 unique benefit names in DF.\n",
    "\n",
    "display(benefitscostsharing.BenefitName.sort_values().unique()[:10])"
   ]
  },
  {
   "cell_type": "code",
   "execution_count": 41,
   "metadata": {},
   "outputs": [
    {
     "data": {
      "text/html": [
       "<div>\n",
       "<style scoped>\n",
       "    .dataframe tbody tr th:only-of-type {\n",
       "        vertical-align: middle;\n",
       "    }\n",
       "\n",
       "    .dataframe tbody tr th {\n",
       "        vertical-align: top;\n",
       "    }\n",
       "\n",
       "    .dataframe thead th {\n",
       "        text-align: right;\n",
       "    }\n",
       "</style>\n",
       "<table border=\"1\" class=\"dataframe\">\n",
       "  <thead>\n",
       "    <tr style=\"text-align: right;\">\n",
       "      <th></th>\n",
       "      <th>IssuerId</th>\n",
       "      <th>BenefitName</th>\n",
       "    </tr>\n",
       "  </thead>\n",
       "  <tbody>\n",
       "    <tr>\n",
       "      <th>0</th>\n",
       "      <td>21989</td>\n",
       "      <td>Routine Dental Services (Adult)</td>\n",
       "    </tr>\n",
       "    <tr>\n",
       "      <th>1</th>\n",
       "      <td>21989</td>\n",
       "      <td>Dental Check-Up for Children</td>\n",
       "    </tr>\n",
       "    <tr>\n",
       "      <th>2</th>\n",
       "      <td>21989</td>\n",
       "      <td>Basic Dental Care - Child</td>\n",
       "    </tr>\n",
       "    <tr>\n",
       "      <th>3</th>\n",
       "      <td>21989</td>\n",
       "      <td>Orthodontia - Child</td>\n",
       "    </tr>\n",
       "    <tr>\n",
       "      <th>4</th>\n",
       "      <td>21989</td>\n",
       "      <td>Major Dental Care - Child</td>\n",
       "    </tr>\n",
       "  </tbody>\n",
       "</table>\n",
       "</div>"
      ],
      "text/plain": [
       "   IssuerId                      BenefitName\n",
       "0     21989  Routine Dental Services (Adult)\n",
       "1     21989     Dental Check-Up for Children\n",
       "2     21989        Basic Dental Care - Child\n",
       "3     21989              Orthodontia - Child\n",
       "4     21989        Major Dental Care - Child"
      ]
     },
     "metadata": {},
     "output_type": "display_data"
    }
   ],
   "source": [
    "#Create new DF with only IssuerId and BenefitName columns (for join with rate DF), and view first few rows.\n",
    "\n",
    "benefits_issueridandname = benefitscostsharing[['IssuerId','BenefitName']];\n",
    "display(benefits_issueridandname.head())"
   ]
  },
  {
   "cell_type": "code",
   "execution_count": 42,
   "metadata": {},
   "outputs": [
    {
     "data": {
      "text/plain": [
       "IssuerId\n",
       "10046     9\n",
       "10091    67\n",
       "10207    67\n",
       "11083     9\n",
       "11269    67\n",
       "         ..\n",
       "99708     9\n",
       "99723    68\n",
       "99734     9\n",
       "99787     9\n",
       "99969    67\n",
       "Name: BenefitName, Length: 430, dtype: int64"
      ]
     },
     "metadata": {},
     "output_type": "display_data"
    }
   ],
   "source": [
    "#Find number of unique benefits provided per each IssuerId in entire DF.\n",
    "\n",
    "display(benefits_issueridandname.groupby('IssuerId').BenefitName.nunique())"
   ]
  },
  {
   "cell_type": "code",
   "execution_count": 43,
   "metadata": {},
   "outputs": [
    {
     "name": "stdout",
     "output_type": "stream",
     "text": [
      "Benefits_issueridandname: (1182666, 2)\n",
      "Rate: (1886351, 23)\n"
     ]
    }
   ],
   "source": [
    "#View shape for both benefits_issueridandname and rate DFs.\n",
    "\n",
    "print(f'Benefits_issueridandname: {benefits_issueridandname.shape}')\n",
    "print(f'Rate: {rate.shape}')"
   ]
  },
  {
   "cell_type": "code",
   "execution_count": 44,
   "metadata": {
    "scrolled": true
   },
   "outputs": [
    {
     "data": {
      "text/plain": [
       "StateCode\n",
       "AK     4\n",
       "AL     9\n",
       "AR     7\n",
       "AZ    18\n",
       "DE     4\n",
       "      ..\n",
       "UT    13\n",
       "VA    18\n",
       "WI    21\n",
       "WV     5\n",
       "WY     4\n",
       "Name: IssuerId, Length: 38, dtype: int64"
      ]
     },
     "metadata": {},
     "output_type": "display_data"
    }
   ],
   "source": [
    "#Find count of distinct IssuerIds per state.\n",
    "\n",
    "display(rate.groupby('StateCode').IssuerId.nunique())"
   ]
  },
  {
   "cell_type": "code",
   "execution_count": 45,
   "metadata": {
    "scrolled": true
   },
   "outputs": [
    {
     "data": {
      "text/plain": [
       "StateCode\n",
       "AK                         [21989, 38344, 74819, 77963]\n",
       "AL    [12538, 18239, 18756, 28725, 44580, 46944, 600...\n",
       "AR    [26904, 28348, 37903, 60559, 62141, 70525, 75293]\n",
       "AZ    [12303, 13877, 17100, 17454, 24106, 30045, 338...\n",
       "DE                         [26018, 60359, 67775, 76168]\n",
       "Name: IssuerId, dtype: object"
      ]
     },
     "metadata": {},
     "output_type": "display_data"
    }
   ],
   "source": [
    "#Save all unique IssuerIds from each state (for use with prediction), and view IssuerIds from top few states.\n",
    "\n",
    "uniqueissuersperstate = rate.groupby('StateCode').IssuerId.unique();   # list of distinct ids per state\n",
    "\n",
    "display(uniqueissuersperstate.head())\n"
   ]
  },
  {
   "cell_type": "code",
   "execution_count": 46,
   "metadata": {},
   "outputs": [],
   "source": [
    "#Look at distinct benefits for distinct issuers.\n",
    "\n",
    "#Group both issuers and benefit names (creates a multiindex) and save into Series.\n",
    "\n",
    "distinct_issuersandbenefits = benefits_issueridandname.groupby(by = ['IssuerId','BenefitName']).count();\n"
   ]
  },
  {
   "cell_type": "code",
   "execution_count": 47,
   "metadata": {
    "scrolled": false
   },
   "outputs": [
    {
     "data": {
      "text/plain": [
       "MultiIndex([(10046,                               'Accidental Dental'),\n",
       "            (10046,                       'Basic Dental Care - Adult'),\n",
       "            (10046,                       'Basic Dental Care - Child'),\n",
       "            (10046,                    'Dental Check-Up for Children'),\n",
       "            (10046,                       'Major Dental Care - Adult'),\n",
       "            (10046,                       'Major Dental Care - Child'),\n",
       "            (10046,                             'Orthodontia - Adult'),\n",
       "            (10046,                             'Orthodontia - Child'),\n",
       "            (10046,                 'Routine Dental Services (Adult)'),\n",
       "            (10091, 'Abortion for Which Public Funding is Prohibited'),\n",
       "            ...\n",
       "            (99969,                                'Specialist Visit'),\n",
       "            (99969,                                 'Specialty Drugs'),\n",
       "            (99969,     'Substance Abuse Disorder Inpatient Services'),\n",
       "            (99969,    'Substance Abuse Disorder Outpatient Services'),\n",
       "            (99969,                                      'Transplant'),\n",
       "            (99969, 'Treatment for Temporomandibular Joint Disorders'),\n",
       "            (99969,               'Urgent Care Centers or Facilities'),\n",
       "            (99969,                            'Weight Loss Programs'),\n",
       "            (99969,                       'Well Baby Visits and Care'),\n",
       "            (99969,                   'X-rays and Diagnostic Imaging')],\n",
       "           names=['IssuerId', 'BenefitName'], length=14772)"
      ]
     },
     "metadata": {},
     "output_type": "display_data"
    }
   ],
   "source": [
    "#View the multi-index in distinct_issuersandbenefits Series.\n",
    "\n",
    "display(distinct_issuersandbenefits.index)"
   ]
  },
  {
   "cell_type": "code",
   "execution_count": 48,
   "metadata": {},
   "outputs": [
    {
     "data": {
      "text/html": [
       "<div>\n",
       "<style scoped>\n",
       "    .dataframe tbody tr th:only-of-type {\n",
       "        vertical-align: middle;\n",
       "    }\n",
       "\n",
       "    .dataframe tbody tr th {\n",
       "        vertical-align: top;\n",
       "    }\n",
       "\n",
       "    .dataframe thead th {\n",
       "        text-align: right;\n",
       "    }\n",
       "</style>\n",
       "<table border=\"1\" class=\"dataframe\">\n",
       "  <thead>\n",
       "    <tr style=\"text-align: right;\">\n",
       "      <th></th>\n",
       "      <th>IssuerId</th>\n",
       "      <th>BenefitName</th>\n",
       "    </tr>\n",
       "  </thead>\n",
       "  <tbody>\n",
       "    <tr>\n",
       "      <th>0</th>\n",
       "      <td>10046</td>\n",
       "      <td>Accidental Dental</td>\n",
       "    </tr>\n",
       "    <tr>\n",
       "      <th>1</th>\n",
       "      <td>10046</td>\n",
       "      <td>Basic Dental Care - Adult</td>\n",
       "    </tr>\n",
       "    <tr>\n",
       "      <th>2</th>\n",
       "      <td>10046</td>\n",
       "      <td>Basic Dental Care - Child</td>\n",
       "    </tr>\n",
       "    <tr>\n",
       "      <th>3</th>\n",
       "      <td>10046</td>\n",
       "      <td>Dental Check-Up for Children</td>\n",
       "    </tr>\n",
       "    <tr>\n",
       "      <th>4</th>\n",
       "      <td>10046</td>\n",
       "      <td>Major Dental Care - Adult</td>\n",
       "    </tr>\n",
       "  </tbody>\n",
       "</table>\n",
       "</div>"
      ],
      "text/plain": [
       "   IssuerId                   BenefitName\n",
       "0     10046             Accidental Dental\n",
       "1     10046     Basic Dental Care - Adult\n",
       "2     10046     Basic Dental Care - Child\n",
       "3     10046  Dental Check-Up for Children\n",
       "4     10046     Major Dental Care - Adult"
      ]
     },
     "metadata": {},
     "output_type": "display_data"
    }
   ],
   "source": [
    "#Use reset_index() to turn multi indexes into columns (and adds new index column). The Series is now a DF.\n",
    "\n",
    "distinct_issuersandbenefits.reset_index(inplace = True);  \n",
    "display(distinct_issuersandbenefits.head());\n"
   ]
  },
  {
   "cell_type": "code",
   "execution_count": 49,
   "metadata": {},
   "outputs": [
    {
     "name": "stdout",
     "output_type": "stream",
     "text": [
      "(14772, 2)\n"
     ]
    }
   ],
   "source": [
    "#View shape of distinct_issuersandbenefits DF.\n",
    "\n",
    "print(distinct_issuersandbenefits.shape)"
   ]
  },
  {
   "cell_type": "markdown",
   "metadata": {},
   "source": [
    "### Save Rate DF subset with relevant columns (issuer-level) to merge with distinct_issuersandbenefits DF.\n",
    "Columns needed: \"StateCode\", \"IndividualRate_mean\" (average of \"IndividualRate_actual\" across all plans for Issuer)"
   ]
  },
  {
   "cell_type": "code",
   "execution_count": 50,
   "metadata": {},
   "outputs": [
    {
     "name": "stdout",
     "output_type": "stream",
     "text": [
      "(1886351, 23)\n"
     ]
    },
    {
     "data": {
      "text/html": [
       "<div>\n",
       "<style scoped>\n",
       "    .dataframe tbody tr th:only-of-type {\n",
       "        vertical-align: middle;\n",
       "    }\n",
       "\n",
       "    .dataframe tbody tr th {\n",
       "        vertical-align: top;\n",
       "    }\n",
       "\n",
       "    .dataframe thead th {\n",
       "        text-align: right;\n",
       "    }\n",
       "</style>\n",
       "<table border=\"1\" class=\"dataframe\">\n",
       "  <thead>\n",
       "    <tr style=\"text-align: right;\">\n",
       "      <th></th>\n",
       "      <th>BusinessYear</th>\n",
       "      <th>StateCode</th>\n",
       "      <th>IssuerId</th>\n",
       "      <th>SourceName</th>\n",
       "      <th>ImportDate</th>\n",
       "      <th>FederalTIN</th>\n",
       "      <th>RateEffectiveDate</th>\n",
       "      <th>RateExpirationDate</th>\n",
       "      <th>PlanId</th>\n",
       "      <th>RatingAreaId</th>\n",
       "      <th>Tobacco</th>\n",
       "      <th>Age</th>\n",
       "      <th>IndividualRate</th>\n",
       "      <th>IndividualTobaccoRate</th>\n",
       "      <th>Couple</th>\n",
       "      <th>PrimarySubscriberAndOneDependent</th>\n",
       "      <th>PrimarySubscriberAndTwoDependents</th>\n",
       "      <th>PrimarySubscriberAndThreeOrMoreDependents</th>\n",
       "      <th>CoupleAndOneDependent</th>\n",
       "      <th>CoupleAndTwoDependents</th>\n",
       "      <th>CoupleAndThreeOrMoreDependents</th>\n",
       "      <th>Is_tobacco_user</th>\n",
       "      <th>IndividualRate_actual</th>\n",
       "    </tr>\n",
       "  </thead>\n",
       "  <tbody>\n",
       "    <tr>\n",
       "      <th>0</th>\n",
       "      <td>2020</td>\n",
       "      <td>AK</td>\n",
       "      <td>21989</td>\n",
       "      <td>HIOS</td>\n",
       "      <td>2019-08-09 03:20:19</td>\n",
       "      <td>93-0438772</td>\n",
       "      <td>2020-01-01</td>\n",
       "      <td>2020-03-31</td>\n",
       "      <td>21989AK0080001</td>\n",
       "      <td>Rating Area 1</td>\n",
       "      <td>NaN</td>\n",
       "      <td>Family Option</td>\n",
       "      <td>51.23</td>\n",
       "      <td>NaN</td>\n",
       "      <td>106.56</td>\n",
       "      <td>122.95</td>\n",
       "      <td>122.95</td>\n",
       "      <td>122.95</td>\n",
       "      <td>183.41</td>\n",
       "      <td>183.41</td>\n",
       "      <td>183.41</td>\n",
       "      <td>False</td>\n",
       "      <td>51.23</td>\n",
       "    </tr>\n",
       "    <tr>\n",
       "      <th>1</th>\n",
       "      <td>2020</td>\n",
       "      <td>AK</td>\n",
       "      <td>21989</td>\n",
       "      <td>HIOS</td>\n",
       "      <td>2019-08-09 03:20:19</td>\n",
       "      <td>93-0438772</td>\n",
       "      <td>2020-01-01</td>\n",
       "      <td>2020-03-31</td>\n",
       "      <td>21989AK0080001</td>\n",
       "      <td>Rating Area 2</td>\n",
       "      <td>NaN</td>\n",
       "      <td>Family Option</td>\n",
       "      <td>51.23</td>\n",
       "      <td>NaN</td>\n",
       "      <td>106.56</td>\n",
       "      <td>122.95</td>\n",
       "      <td>122.95</td>\n",
       "      <td>122.95</td>\n",
       "      <td>183.41</td>\n",
       "      <td>183.41</td>\n",
       "      <td>183.41</td>\n",
       "      <td>False</td>\n",
       "      <td>51.23</td>\n",
       "    </tr>\n",
       "    <tr>\n",
       "      <th>2</th>\n",
       "      <td>2020</td>\n",
       "      <td>AK</td>\n",
       "      <td>21989</td>\n",
       "      <td>HIOS</td>\n",
       "      <td>2019-08-09 03:20:19</td>\n",
       "      <td>93-0438772</td>\n",
       "      <td>2020-01-01</td>\n",
       "      <td>2020-03-31</td>\n",
       "      <td>21989AK0080001</td>\n",
       "      <td>Rating Area 3</td>\n",
       "      <td>NaN</td>\n",
       "      <td>Family Option</td>\n",
       "      <td>51.23</td>\n",
       "      <td>NaN</td>\n",
       "      <td>106.56</td>\n",
       "      <td>122.95</td>\n",
       "      <td>122.95</td>\n",
       "      <td>122.95</td>\n",
       "      <td>183.41</td>\n",
       "      <td>183.41</td>\n",
       "      <td>183.41</td>\n",
       "      <td>False</td>\n",
       "      <td>51.23</td>\n",
       "    </tr>\n",
       "    <tr>\n",
       "      <th>3</th>\n",
       "      <td>2020</td>\n",
       "      <td>AK</td>\n",
       "      <td>21989</td>\n",
       "      <td>HIOS</td>\n",
       "      <td>2019-08-09 03:20:19</td>\n",
       "      <td>93-0438772</td>\n",
       "      <td>2020-01-01</td>\n",
       "      <td>2020-03-31</td>\n",
       "      <td>21989AK0080002</td>\n",
       "      <td>Rating Area 1</td>\n",
       "      <td>NaN</td>\n",
       "      <td>Family Option</td>\n",
       "      <td>59.24</td>\n",
       "      <td>NaN</td>\n",
       "      <td>123.22</td>\n",
       "      <td>142.18</td>\n",
       "      <td>142.18</td>\n",
       "      <td>142.18</td>\n",
       "      <td>212.08</td>\n",
       "      <td>212.08</td>\n",
       "      <td>212.08</td>\n",
       "      <td>False</td>\n",
       "      <td>59.24</td>\n",
       "    </tr>\n",
       "    <tr>\n",
       "      <th>4</th>\n",
       "      <td>2020</td>\n",
       "      <td>AK</td>\n",
       "      <td>21989</td>\n",
       "      <td>HIOS</td>\n",
       "      <td>2019-08-09 03:20:19</td>\n",
       "      <td>93-0438772</td>\n",
       "      <td>2020-01-01</td>\n",
       "      <td>2020-03-31</td>\n",
       "      <td>21989AK0080002</td>\n",
       "      <td>Rating Area 2</td>\n",
       "      <td>NaN</td>\n",
       "      <td>Family Option</td>\n",
       "      <td>59.24</td>\n",
       "      <td>NaN</td>\n",
       "      <td>123.22</td>\n",
       "      <td>142.18</td>\n",
       "      <td>142.18</td>\n",
       "      <td>142.18</td>\n",
       "      <td>212.08</td>\n",
       "      <td>212.08</td>\n",
       "      <td>212.08</td>\n",
       "      <td>False</td>\n",
       "      <td>59.24</td>\n",
       "    </tr>\n",
       "  </tbody>\n",
       "</table>\n",
       "</div>"
      ],
      "text/plain": [
       "   BusinessYear StateCode  IssuerId SourceName           ImportDate  \\\n",
       "0          2020        AK     21989       HIOS  2019-08-09 03:20:19   \n",
       "1          2020        AK     21989       HIOS  2019-08-09 03:20:19   \n",
       "2          2020        AK     21989       HIOS  2019-08-09 03:20:19   \n",
       "3          2020        AK     21989       HIOS  2019-08-09 03:20:19   \n",
       "4          2020        AK     21989       HIOS  2019-08-09 03:20:19   \n",
       "\n",
       "   FederalTIN RateEffectiveDate RateExpirationDate          PlanId  \\\n",
       "0  93-0438772        2020-01-01         2020-03-31  21989AK0080001   \n",
       "1  93-0438772        2020-01-01         2020-03-31  21989AK0080001   \n",
       "2  93-0438772        2020-01-01         2020-03-31  21989AK0080001   \n",
       "3  93-0438772        2020-01-01         2020-03-31  21989AK0080002   \n",
       "4  93-0438772        2020-01-01         2020-03-31  21989AK0080002   \n",
       "\n",
       "    RatingAreaId Tobacco            Age  IndividualRate  \\\n",
       "0  Rating Area 1     NaN  Family Option           51.23   \n",
       "1  Rating Area 2     NaN  Family Option           51.23   \n",
       "2  Rating Area 3     NaN  Family Option           51.23   \n",
       "3  Rating Area 1     NaN  Family Option           59.24   \n",
       "4  Rating Area 2     NaN  Family Option           59.24   \n",
       "\n",
       "   IndividualTobaccoRate  Couple  PrimarySubscriberAndOneDependent  \\\n",
       "0                    NaN  106.56                            122.95   \n",
       "1                    NaN  106.56                            122.95   \n",
       "2                    NaN  106.56                            122.95   \n",
       "3                    NaN  123.22                            142.18   \n",
       "4                    NaN  123.22                            142.18   \n",
       "\n",
       "   PrimarySubscriberAndTwoDependents  \\\n",
       "0                             122.95   \n",
       "1                             122.95   \n",
       "2                             122.95   \n",
       "3                             142.18   \n",
       "4                             142.18   \n",
       "\n",
       "   PrimarySubscriberAndThreeOrMoreDependents  CoupleAndOneDependent  \\\n",
       "0                                     122.95                 183.41   \n",
       "1                                     122.95                 183.41   \n",
       "2                                     122.95                 183.41   \n",
       "3                                     142.18                 212.08   \n",
       "4                                     142.18                 212.08   \n",
       "\n",
       "   CoupleAndTwoDependents  CoupleAndThreeOrMoreDependents  Is_tobacco_user  \\\n",
       "0                  183.41                          183.41            False   \n",
       "1                  183.41                          183.41            False   \n",
       "2                  183.41                          183.41            False   \n",
       "3                  212.08                          212.08            False   \n",
       "4                  212.08                          212.08            False   \n",
       "\n",
       "   IndividualRate_actual  \n",
       "0                  51.23  \n",
       "1                  51.23  \n",
       "2                  51.23  \n",
       "3                  59.24  \n",
       "4                  59.24  "
      ]
     },
     "metadata": {},
     "output_type": "display_data"
    }
   ],
   "source": [
    "#View shape and first few rows of rate DF.\n",
    "\n",
    "print(rate.shape)\n",
    "display(rate.head())"
   ]
  },
  {
   "cell_type": "code",
   "execution_count": 51,
   "metadata": {},
   "outputs": [],
   "source": [
    "#Group rate DF on IssuerId and take mean of IndividualRate_actual (to create IndividualRate_mean column).\n",
    "\n",
    "rate_groupedonissuer = rate.groupby('IssuerId').mean().round(2); #round to 2 decimal places"
   ]
  },
  {
   "cell_type": "code",
   "execution_count": 52,
   "metadata": {},
   "outputs": [],
   "source": [
    "#Save new DF for only IssuerId and IndividualRate_mean.\n",
    "\n",
    "rate_issuermean = rate_groupedonissuer[['IndividualRate_actual']];\n",
    "rate_issuermean = rate_issuermean.rename(columns = {'IndividualRate_actual':'IndividualRate_mean'}); #rename columns"
   ]
  },
  {
   "cell_type": "code",
   "execution_count": 53,
   "metadata": {},
   "outputs": [
    {
     "data": {
      "text/html": [
       "<div>\n",
       "<style scoped>\n",
       "    .dataframe tbody tr th:only-of-type {\n",
       "        vertical-align: middle;\n",
       "    }\n",
       "\n",
       "    .dataframe tbody tr th {\n",
       "        vertical-align: top;\n",
       "    }\n",
       "\n",
       "    .dataframe thead th {\n",
       "        text-align: right;\n",
       "    }\n",
       "</style>\n",
       "<table border=\"1\" class=\"dataframe\">\n",
       "  <thead>\n",
       "    <tr style=\"text-align: right;\">\n",
       "      <th></th>\n",
       "      <th>IndividualRate_mean</th>\n",
       "    </tr>\n",
       "    <tr>\n",
       "      <th>IssuerId</th>\n",
       "      <th></th>\n",
       "    </tr>\n",
       "  </thead>\n",
       "  <tbody>\n",
       "    <tr>\n",
       "      <th>10046</th>\n",
       "      <td>36.16</td>\n",
       "    </tr>\n",
       "    <tr>\n",
       "      <th>10091</th>\n",
       "      <td>383.93</td>\n",
       "    </tr>\n",
       "    <tr>\n",
       "      <th>10207</th>\n",
       "      <td>559.12</td>\n",
       "    </tr>\n",
       "    <tr>\n",
       "      <th>11083</th>\n",
       "      <td>941.56</td>\n",
       "    </tr>\n",
       "    <tr>\n",
       "      <th>11269</th>\n",
       "      <td>1111.19</td>\n",
       "    </tr>\n",
       "  </tbody>\n",
       "</table>\n",
       "</div>"
      ],
      "text/plain": [
       "          IndividualRate_mean\n",
       "IssuerId                     \n",
       "10046                   36.16\n",
       "10091                  383.93\n",
       "10207                  559.12\n",
       "11083                  941.56\n",
       "11269                 1111.19"
      ]
     },
     "metadata": {},
     "output_type": "display_data"
    }
   ],
   "source": [
    "#View first few rows of rate_issuermean DF.\n",
    "\n",
    "display(rate_issuermean.head())"
   ]
  },
  {
   "cell_type": "code",
   "execution_count": 54,
   "metadata": {},
   "outputs": [],
   "source": [
    "#Save IssuerId and StateCode into rate_issuersandstates DF.\n",
    "\n",
    "rate_issuersandstates = rate[['IssuerId','StateCode']];"
   ]
  },
  {
   "cell_type": "code",
   "execution_count": 55,
   "metadata": {},
   "outputs": [],
   "source": [
    "#Group rate_issuersandstates DF on columns IssuerId and StateCode to get distinct count of issuers per state.\n",
    "\n",
    "distinct_issuersandstates = rate_issuersandstates.groupby(by = ['IssuerId','StateCode']).count();"
   ]
  },
  {
   "cell_type": "code",
   "execution_count": 56,
   "metadata": {},
   "outputs": [
    {
     "data": {
      "text/html": [
       "<div>\n",
       "<style scoped>\n",
       "    .dataframe tbody tr th:only-of-type {\n",
       "        vertical-align: middle;\n",
       "    }\n",
       "\n",
       "    .dataframe tbody tr th {\n",
       "        vertical-align: top;\n",
       "    }\n",
       "\n",
       "    .dataframe thead th {\n",
       "        text-align: right;\n",
       "    }\n",
       "</style>\n",
       "<table border=\"1\" class=\"dataframe\">\n",
       "  <thead>\n",
       "    <tr style=\"text-align: right;\">\n",
       "      <th></th>\n",
       "      <th>IssuerId</th>\n",
       "      <th>StateCode</th>\n",
       "    </tr>\n",
       "  </thead>\n",
       "  <tbody>\n",
       "    <tr>\n",
       "      <th>0</th>\n",
       "      <td>10046</td>\n",
       "      <td>HI</td>\n",
       "    </tr>\n",
       "    <tr>\n",
       "      <th>1</th>\n",
       "      <td>10091</td>\n",
       "      <td>OR</td>\n",
       "    </tr>\n",
       "    <tr>\n",
       "      <th>2</th>\n",
       "      <td>10207</td>\n",
       "      <td>VA</td>\n",
       "    </tr>\n",
       "    <tr>\n",
       "      <th>3</th>\n",
       "      <td>11083</td>\n",
       "      <td>MI</td>\n",
       "    </tr>\n",
       "    <tr>\n",
       "      <th>4</th>\n",
       "      <td>11269</td>\n",
       "      <td>WY</td>\n",
       "    </tr>\n",
       "  </tbody>\n",
       "</table>\n",
       "</div>"
      ],
      "text/plain": [
       "   IssuerId StateCode\n",
       "0     10046        HI\n",
       "1     10091        OR\n",
       "2     10207        VA\n",
       "3     11083        MI\n",
       "4     11269        WY"
      ]
     },
     "metadata": {},
     "output_type": "display_data"
    }
   ],
   "source": [
    "#Use reset_index() to turn multi indexes into columns (and adds new index column), and view first few rows.\n",
    "\n",
    "distinct_issuersandstates.reset_index(inplace = True);  \n",
    "display(distinct_issuersandstates.head())"
   ]
  },
  {
   "cell_type": "code",
   "execution_count": 57,
   "metadata": {
    "scrolled": false
   },
   "outputs": [
    {
     "name": "stdout",
     "output_type": "stream",
     "text": [
      "Count of all issuers and their states grouped: 430\n",
      "Count of all distinct issuers: 430\n"
     ]
    }
   ],
   "source": [
    "#Confirm each IssuerId is only in one state.\n",
    "\n",
    "print(f\"Count of all issuers and their states grouped: {len(distinct_issuersandstates.groupby(by = ['IssuerId','StateCode']).count()) }\" )\n",
    "\n",
    "print(f'Count of all distinct issuers: {distinct_issuersandstates.IssuerId.nunique()}')"
   ]
  },
  {
   "cell_type": "code",
   "execution_count": 58,
   "metadata": {},
   "outputs": [],
   "source": [
    "#Merge distinct_issuersandbenefits and distinct_issuersandstate DFs on IssuerId.\n",
    "\n",
    "distinct_issuers_states_benefits = pd.merge(distinct_issuersandstates,\n",
    "                                                   distinct_issuersandbenefits, on = 'IssuerId');"
   ]
  },
  {
   "cell_type": "code",
   "execution_count": 59,
   "metadata": {},
   "outputs": [
    {
     "name": "stdout",
     "output_type": "stream",
     "text": [
      "(14772, 3)\n"
     ]
    }
   ],
   "source": [
    "#View shape of distinct_issuers_states_benefits DF.\n",
    "\n",
    "print(distinct_issuers_states_benefits.shape)"
   ]
  },
  {
   "cell_type": "markdown",
   "metadata": {},
   "source": [
    "### Add \"IndividualRate_mean\" column."
   ]
  },
  {
   "cell_type": "code",
   "execution_count": 60,
   "metadata": {},
   "outputs": [],
   "source": [
    "#Merge distinct_issuers_states_benefits and rate_issuermean DFs on IssuerId.\n",
    "\n",
    "distinct_issuers_relevantinfo = pd.merge(distinct_issuers_states_benefits, \n",
    "                                                rate_issuermean, left_on = 'IssuerId', right_index = True);"
   ]
  },
  {
   "cell_type": "code",
   "execution_count": 61,
   "metadata": {
    "scrolled": true
   },
   "outputs": [
    {
     "name": "stdout",
     "output_type": "stream",
     "text": [
      "(14772, 4)\n"
     ]
    },
    {
     "data": {
      "text/html": [
       "<div>\n",
       "<style scoped>\n",
       "    .dataframe tbody tr th:only-of-type {\n",
       "        vertical-align: middle;\n",
       "    }\n",
       "\n",
       "    .dataframe tbody tr th {\n",
       "        vertical-align: top;\n",
       "    }\n",
       "\n",
       "    .dataframe thead th {\n",
       "        text-align: right;\n",
       "    }\n",
       "</style>\n",
       "<table border=\"1\" class=\"dataframe\">\n",
       "  <thead>\n",
       "    <tr style=\"text-align: right;\">\n",
       "      <th></th>\n",
       "      <th>IssuerId</th>\n",
       "      <th>StateCode</th>\n",
       "      <th>BenefitName</th>\n",
       "      <th>IndividualRate_mean</th>\n",
       "    </tr>\n",
       "  </thead>\n",
       "  <tbody>\n",
       "    <tr>\n",
       "      <th>0</th>\n",
       "      <td>10046</td>\n",
       "      <td>HI</td>\n",
       "      <td>Accidental Dental</td>\n",
       "      <td>36.16</td>\n",
       "    </tr>\n",
       "    <tr>\n",
       "      <th>1</th>\n",
       "      <td>10046</td>\n",
       "      <td>HI</td>\n",
       "      <td>Basic Dental Care - Adult</td>\n",
       "      <td>36.16</td>\n",
       "    </tr>\n",
       "    <tr>\n",
       "      <th>2</th>\n",
       "      <td>10046</td>\n",
       "      <td>HI</td>\n",
       "      <td>Basic Dental Care - Child</td>\n",
       "      <td>36.16</td>\n",
       "    </tr>\n",
       "    <tr>\n",
       "      <th>3</th>\n",
       "      <td>10046</td>\n",
       "      <td>HI</td>\n",
       "      <td>Dental Check-Up for Children</td>\n",
       "      <td>36.16</td>\n",
       "    </tr>\n",
       "    <tr>\n",
       "      <th>4</th>\n",
       "      <td>10046</td>\n",
       "      <td>HI</td>\n",
       "      <td>Major Dental Care - Adult</td>\n",
       "      <td>36.16</td>\n",
       "    </tr>\n",
       "  </tbody>\n",
       "</table>\n",
       "</div>"
      ],
      "text/plain": [
       "   IssuerId StateCode                   BenefitName  IndividualRate_mean\n",
       "0     10046        HI             Accidental Dental                36.16\n",
       "1     10046        HI     Basic Dental Care - Adult                36.16\n",
       "2     10046        HI     Basic Dental Care - Child                36.16\n",
       "3     10046        HI  Dental Check-Up for Children                36.16\n",
       "4     10046        HI     Major Dental Care - Adult                36.16"
      ]
     },
     "metadata": {},
     "output_type": "display_data"
    }
   ],
   "source": [
    "#View shape and first few rows of distinct_issuers_relevantinfo DF.\n",
    "\n",
    "print(distinct_issuers_relevantinfo.shape)\n",
    "display(distinct_issuers_relevantinfo.head())"
   ]
  },
  {
   "cell_type": "markdown",
   "metadata": {},
   "source": [
    "### Create and add \"num_relevant_benefits\" column."
   ]
  },
  {
   "cell_type": "code",
   "execution_count": 62,
   "metadata": {},
   "outputs": [
    {
     "data": {
      "text/html": [
       "<div>\n",
       "<style scoped>\n",
       "    .dataframe tbody tr th:only-of-type {\n",
       "        vertical-align: middle;\n",
       "    }\n",
       "\n",
       "    .dataframe tbody tr th {\n",
       "        vertical-align: top;\n",
       "    }\n",
       "\n",
       "    .dataframe thead th {\n",
       "        text-align: right;\n",
       "    }\n",
       "</style>\n",
       "<table border=\"1\" class=\"dataframe\">\n",
       "  <thead>\n",
       "    <tr style=\"text-align: right;\">\n",
       "      <th></th>\n",
       "      <th>IssuerId</th>\n",
       "      <th>BenefitName</th>\n",
       "    </tr>\n",
       "  </thead>\n",
       "  <tbody>\n",
       "    <tr>\n",
       "      <th>0</th>\n",
       "      <td>10046</td>\n",
       "      <td>Accidental Dental</td>\n",
       "    </tr>\n",
       "    <tr>\n",
       "      <th>1</th>\n",
       "      <td>10046</td>\n",
       "      <td>Basic Dental Care - Adult</td>\n",
       "    </tr>\n",
       "    <tr>\n",
       "      <th>2</th>\n",
       "      <td>10046</td>\n",
       "      <td>Basic Dental Care - Child</td>\n",
       "    </tr>\n",
       "    <tr>\n",
       "      <th>3</th>\n",
       "      <td>10046</td>\n",
       "      <td>Dental Check-Up for Children</td>\n",
       "    </tr>\n",
       "    <tr>\n",
       "      <th>4</th>\n",
       "      <td>10046</td>\n",
       "      <td>Major Dental Care - Adult</td>\n",
       "    </tr>\n",
       "  </tbody>\n",
       "</table>\n",
       "</div>"
      ],
      "text/plain": [
       "   IssuerId                   BenefitName\n",
       "0     10046             Accidental Dental\n",
       "1     10046     Basic Dental Care - Adult\n",
       "2     10046     Basic Dental Care - Child\n",
       "3     10046  Dental Check-Up for Children\n",
       "4     10046     Major Dental Care - Adult"
      ]
     },
     "execution_count": 62,
     "metadata": {},
     "output_type": "execute_result"
    }
   ],
   "source": [
    "distinct_issuersandbenefits.head()"
   ]
  },
  {
   "cell_type": "code",
   "execution_count": 63,
   "metadata": {},
   "outputs": [],
   "source": [
    "#Save all unique IssuerIds (430) into a list.\n",
    "\n",
    "all_issuers_list = distinct_issuersandbenefits.IssuerId.unique();"
   ]
  },
  {
   "cell_type": "code",
   "execution_count": 64,
   "metadata": {},
   "outputs": [],
   "source": [
    "#Use distinct_issuersandbenefits DF and count number of relevant benefits per IssuerId.\n",
    "\n",
    "#Relevant benefits were decided by manual inspection of all unique benefits in the DF.\n",
    "\n",
    "rb_count_list = list(); #list to hold nested lists of [IssuerId, count of relevant benefits]\n",
    "\n",
    "#My selected relevant benefits (9 total).\n",
    "relevant_benefits = ['Routine Dental Services (Adult)' \n",
    ",'Imaging (CT/PET Scans, MRIs)' \n",
    ",'Anesthetics'\n",
    ",'Cardiovascular Disease'\n",
    ",'Contraceptive Services'\n",
    ",'Emergency Room Services'\n",
    ",'Primary Care E-Visit'\n",
    ",'Infusion Therapy'\n",
    ",'Transplant'\n",
    "];  \n",
    "\n",
    "#Iterate through distinct IssuerIds in all_issuers_list.\n",
    "\n",
    "for idx, r in enumerate(all_issuers_list):\n",
    "    #Initialize relevant benefit counter for each issuer\n",
    "    counter = 0; \n",
    "    \n",
    "    #Save unique benefits per issuer.\n",
    "    listofbenefits_forissuer = distinct_issuersandbenefits[distinct_issuersandbenefits.IssuerId == r].BenefitName.unique(); \n",
    "    \n",
    "    for b in listofbenefits_forissuer:  #iterate through benefits for current issuer\n",
    "        if b in relevant_benefits:   #if benefit is relevant, add 1 to the counter.\n",
    "            counter += 1 \n",
    "    \n",
    "    rb_count_list.append([r, counter]) #append sublist of [IssuerId, counter] to rb_count_list \n",
    "    "
   ]
  },
  {
   "cell_type": "code",
   "execution_count": 65,
   "metadata": {},
   "outputs": [
    {
     "data": {
      "text/html": [
       "<div>\n",
       "<style scoped>\n",
       "    .dataframe tbody tr th:only-of-type {\n",
       "        vertical-align: middle;\n",
       "    }\n",
       "\n",
       "    .dataframe tbody tr th {\n",
       "        vertical-align: top;\n",
       "    }\n",
       "\n",
       "    .dataframe thead th {\n",
       "        text-align: right;\n",
       "    }\n",
       "</style>\n",
       "<table border=\"1\" class=\"dataframe\">\n",
       "  <thead>\n",
       "    <tr style=\"text-align: right;\">\n",
       "      <th></th>\n",
       "      <th>IssuerId</th>\n",
       "      <th>num_relevant_benefits</th>\n",
       "    </tr>\n",
       "  </thead>\n",
       "  <tbody>\n",
       "    <tr>\n",
       "      <th>0</th>\n",
       "      <td>10046</td>\n",
       "      <td>1</td>\n",
       "    </tr>\n",
       "    <tr>\n",
       "      <th>1</th>\n",
       "      <td>10091</td>\n",
       "      <td>5</td>\n",
       "    </tr>\n",
       "    <tr>\n",
       "      <th>2</th>\n",
       "      <td>10207</td>\n",
       "      <td>5</td>\n",
       "    </tr>\n",
       "    <tr>\n",
       "      <th>3</th>\n",
       "      <td>11083</td>\n",
       "      <td>1</td>\n",
       "    </tr>\n",
       "    <tr>\n",
       "      <th>4</th>\n",
       "      <td>11269</td>\n",
       "      <td>5</td>\n",
       "    </tr>\n",
       "  </tbody>\n",
       "</table>\n",
       "</div>"
      ],
      "text/plain": [
       "   IssuerId  num_relevant_benefits\n",
       "0     10046                      1\n",
       "1     10091                      5\n",
       "2     10207                      5\n",
       "3     11083                      1\n",
       "4     11269                      5"
      ]
     },
     "metadata": {},
     "output_type": "display_data"
    }
   ],
   "source": [
    "#Create rb_count_DF.\n",
    "rb_count_DF = pd.DataFrame(rb_count_list);   #list of lists\n",
    "\n",
    "#Rename columns.\n",
    "rb_count_DF.columns = ['IssuerId','num_relevant_benefits']; #rename columns\n",
    "\n",
    "#View top few rows.\n",
    "display(rb_count_DF.head())"
   ]
  },
  {
   "cell_type": "code",
   "execution_count": 66,
   "metadata": {},
   "outputs": [
    {
     "data": {
      "text/html": [
       "<div>\n",
       "<style scoped>\n",
       "    .dataframe tbody tr th:only-of-type {\n",
       "        vertical-align: middle;\n",
       "    }\n",
       "\n",
       "    .dataframe tbody tr th {\n",
       "        vertical-align: top;\n",
       "    }\n",
       "\n",
       "    .dataframe thead th {\n",
       "        text-align: right;\n",
       "    }\n",
       "</style>\n",
       "<table border=\"1\" class=\"dataframe\">\n",
       "  <thead>\n",
       "    <tr style=\"text-align: right;\">\n",
       "      <th></th>\n",
       "      <th>IssuerId</th>\n",
       "      <th>StateCode</th>\n",
       "      <th>IndividualRate_mean</th>\n",
       "    </tr>\n",
       "  </thead>\n",
       "  <tbody>\n",
       "    <tr>\n",
       "      <th>0</th>\n",
       "      <td>10046</td>\n",
       "      <td>HI</td>\n",
       "      <td>36.16</td>\n",
       "    </tr>\n",
       "    <tr>\n",
       "      <th>1</th>\n",
       "      <td>10046</td>\n",
       "      <td>HI</td>\n",
       "      <td>36.16</td>\n",
       "    </tr>\n",
       "    <tr>\n",
       "      <th>2</th>\n",
       "      <td>10046</td>\n",
       "      <td>HI</td>\n",
       "      <td>36.16</td>\n",
       "    </tr>\n",
       "    <tr>\n",
       "      <th>3</th>\n",
       "      <td>10046</td>\n",
       "      <td>HI</td>\n",
       "      <td>36.16</td>\n",
       "    </tr>\n",
       "    <tr>\n",
       "      <th>4</th>\n",
       "      <td>10046</td>\n",
       "      <td>HI</td>\n",
       "      <td>36.16</td>\n",
       "    </tr>\n",
       "  </tbody>\n",
       "</table>\n",
       "</div>"
      ],
      "text/plain": [
       "   IssuerId StateCode  IndividualRate_mean\n",
       "0     10046        HI                36.16\n",
       "1     10046        HI                36.16\n",
       "2     10046        HI                36.16\n",
       "3     10046        HI                36.16\n",
       "4     10046        HI                36.16"
      ]
     },
     "metadata": {},
     "output_type": "display_data"
    }
   ],
   "source": [
    "#Drop the BenefitName column from distinct_issuers_relevantinfo DF, and view first few rows of updated DF (has duplicates).\n",
    "\n",
    "distinct_issuers_relevantinfo.drop('BenefitName', axis = 1, inplace = True);\n",
    "display(distinct_issuers_relevantinfo.head())"
   ]
  },
  {
   "cell_type": "code",
   "execution_count": 67,
   "metadata": {},
   "outputs": [],
   "source": [
    "#Create \"QualityOfCare\" column and add to rb_count_DF.\n",
    "\n",
    "# Low: 1-3 relevant benefits provided by Issuer\n",
    "# Medium: 4-6 relevant benefits provided by Issuer\n",
    "# High: 7-9 relevant benefits provided by Issuer\n",
    "\n",
    "#Write function to input a row from DF and output the QualityOfCare based on num_relevant_benefits. \n",
    "\n",
    "def predict_QOC(df):\n",
    "    preds = [];\n",
    "    for ind, row in df.iterrows():   #iterate through each row of the DF        \n",
    "        if row.num_relevant_benefits < 4:\n",
    "            prediction = 'Low';\n",
    "        elif row.num_relevant_benefits < 7:\n",
    "            prediction = 'Medium';\n",
    "        else:\n",
    "            prediction = 'High';\n",
    "        preds.append(prediction);\n",
    "    \n",
    "    df['QualityOfCare'] = preds;   #save all predictions into new column \n",
    "    \n",
    "predict_QOC(rb_count_DF)  #add column to DF \n"
   ]
  },
  {
   "cell_type": "code",
   "execution_count": 68,
   "metadata": {},
   "outputs": [
    {
     "data": {
      "text/html": [
       "<div>\n",
       "<style scoped>\n",
       "    .dataframe tbody tr th:only-of-type {\n",
       "        vertical-align: middle;\n",
       "    }\n",
       "\n",
       "    .dataframe tbody tr th {\n",
       "        vertical-align: top;\n",
       "    }\n",
       "\n",
       "    .dataframe thead th {\n",
       "        text-align: right;\n",
       "    }\n",
       "</style>\n",
       "<table border=\"1\" class=\"dataframe\">\n",
       "  <thead>\n",
       "    <tr style=\"text-align: right;\">\n",
       "      <th></th>\n",
       "      <th>IssuerId</th>\n",
       "      <th>num_relevant_benefits</th>\n",
       "      <th>QualityOfCare</th>\n",
       "    </tr>\n",
       "  </thead>\n",
       "  <tbody>\n",
       "    <tr>\n",
       "      <th>0</th>\n",
       "      <td>10046</td>\n",
       "      <td>1</td>\n",
       "      <td>Low</td>\n",
       "    </tr>\n",
       "    <tr>\n",
       "      <th>1</th>\n",
       "      <td>10091</td>\n",
       "      <td>5</td>\n",
       "      <td>Medium</td>\n",
       "    </tr>\n",
       "    <tr>\n",
       "      <th>2</th>\n",
       "      <td>10207</td>\n",
       "      <td>5</td>\n",
       "      <td>Medium</td>\n",
       "    </tr>\n",
       "    <tr>\n",
       "      <th>3</th>\n",
       "      <td>11083</td>\n",
       "      <td>1</td>\n",
       "      <td>Low</td>\n",
       "    </tr>\n",
       "    <tr>\n",
       "      <th>4</th>\n",
       "      <td>11269</td>\n",
       "      <td>5</td>\n",
       "      <td>Medium</td>\n",
       "    </tr>\n",
       "  </tbody>\n",
       "</table>\n",
       "</div>"
      ],
      "text/plain": [
       "   IssuerId  num_relevant_benefits QualityOfCare\n",
       "0     10046                      1           Low\n",
       "1     10091                      5        Medium\n",
       "2     10207                      5        Medium\n",
       "3     11083                      1           Low\n",
       "4     11269                      5        Medium"
      ]
     },
     "metadata": {},
     "output_type": "display_data"
    }
   ],
   "source": [
    "#View first few rows of the updated rb_count_DF.\n",
    "\n",
    "display(rb_count_DF.head())"
   ]
  },
  {
   "cell_type": "code",
   "execution_count": 69,
   "metadata": {},
   "outputs": [
    {
     "name": "stdout",
     "output_type": "stream",
     "text": [
      "Low       255\n",
      "Medium    174\n",
      "High        1\n",
      "Name: QualityOfCare, dtype: int64\n"
     ]
    }
   ],
   "source": [
    "#View value counts for \"QualityOfCare\" from rb_count_DF. \n",
    "\n",
    "print(rb_count_DF.QualityOfCare.value_counts())"
   ]
  },
  {
   "cell_type": "markdown",
   "metadata": {},
   "source": [
    "### Create and add dummy columns for each state."
   ]
  },
  {
   "cell_type": "code",
   "execution_count": 70,
   "metadata": {},
   "outputs": [
    {
     "data": {
      "text/html": [
       "<div>\n",
       "<style scoped>\n",
       "    .dataframe tbody tr th:only-of-type {\n",
       "        vertical-align: middle;\n",
       "    }\n",
       "\n",
       "    .dataframe tbody tr th {\n",
       "        vertical-align: top;\n",
       "    }\n",
       "\n",
       "    .dataframe thead th {\n",
       "        text-align: right;\n",
       "    }\n",
       "</style>\n",
       "<table border=\"1\" class=\"dataframe\">\n",
       "  <thead>\n",
       "    <tr style=\"text-align: right;\">\n",
       "      <th></th>\n",
       "      <th>IssuerId</th>\n",
       "      <th>StateCode</th>\n",
       "      <th>IndividualRate_mean</th>\n",
       "    </tr>\n",
       "  </thead>\n",
       "  <tbody>\n",
       "    <tr>\n",
       "      <th>0</th>\n",
       "      <td>10046</td>\n",
       "      <td>HI</td>\n",
       "      <td>36.16</td>\n",
       "    </tr>\n",
       "    <tr>\n",
       "      <th>1</th>\n",
       "      <td>10046</td>\n",
       "      <td>HI</td>\n",
       "      <td>36.16</td>\n",
       "    </tr>\n",
       "    <tr>\n",
       "      <th>2</th>\n",
       "      <td>10046</td>\n",
       "      <td>HI</td>\n",
       "      <td>36.16</td>\n",
       "    </tr>\n",
       "    <tr>\n",
       "      <th>3</th>\n",
       "      <td>10046</td>\n",
       "      <td>HI</td>\n",
       "      <td>36.16</td>\n",
       "    </tr>\n",
       "    <tr>\n",
       "      <th>4</th>\n",
       "      <td>10046</td>\n",
       "      <td>HI</td>\n",
       "      <td>36.16</td>\n",
       "    </tr>\n",
       "  </tbody>\n",
       "</table>\n",
       "</div>"
      ],
      "text/plain": [
       "   IssuerId StateCode  IndividualRate_mean\n",
       "0     10046        HI                36.16\n",
       "1     10046        HI                36.16\n",
       "2     10046        HI                36.16\n",
       "3     10046        HI                36.16\n",
       "4     10046        HI                36.16"
      ]
     },
     "metadata": {},
     "output_type": "display_data"
    }
   ],
   "source": [
    "#View top few rows of distinct_issuers_relevantinfo DF (has duplicates).\n",
    "\n",
    "display(distinct_issuers_relevantinfo.head())"
   ]
  },
  {
   "cell_type": "code",
   "execution_count": 71,
   "metadata": {},
   "outputs": [],
   "source": [
    "#Group distinct_issuers_random_relevantinfo by all columns to have one distinct IssuerId on each row (creates a multi-index).\n",
    "\n",
    "distinct_issuers_relevantinfo = distinct_issuers_relevantinfo.groupby(by = ['IssuerId','StateCode','IndividualRate_mean']).count()"
   ]
  },
  {
   "cell_type": "code",
   "execution_count": 72,
   "metadata": {},
   "outputs": [
    {
     "data": {
      "text/html": [
       "<div>\n",
       "<style scoped>\n",
       "    .dataframe tbody tr th:only-of-type {\n",
       "        vertical-align: middle;\n",
       "    }\n",
       "\n",
       "    .dataframe tbody tr th {\n",
       "        vertical-align: top;\n",
       "    }\n",
       "\n",
       "    .dataframe thead th {\n",
       "        text-align: right;\n",
       "    }\n",
       "</style>\n",
       "<table border=\"1\" class=\"dataframe\">\n",
       "  <thead>\n",
       "    <tr style=\"text-align: right;\">\n",
       "      <th></th>\n",
       "      <th></th>\n",
       "      <th></th>\n",
       "    </tr>\n",
       "    <tr>\n",
       "      <th>IssuerId</th>\n",
       "      <th>StateCode</th>\n",
       "      <th>IndividualRate_mean</th>\n",
       "    </tr>\n",
       "  </thead>\n",
       "  <tbody>\n",
       "    <tr>\n",
       "      <th>10046</th>\n",
       "      <th>HI</th>\n",
       "      <th>36.16</th>\n",
       "    </tr>\n",
       "    <tr>\n",
       "      <th>10091</th>\n",
       "      <th>OR</th>\n",
       "      <th>383.93</th>\n",
       "    </tr>\n",
       "    <tr>\n",
       "      <th>10207</th>\n",
       "      <th>VA</th>\n",
       "      <th>559.12</th>\n",
       "    </tr>\n",
       "    <tr>\n",
       "      <th>11083</th>\n",
       "      <th>MI</th>\n",
       "      <th>941.56</th>\n",
       "    </tr>\n",
       "    <tr>\n",
       "      <th>11269</th>\n",
       "      <th>WY</th>\n",
       "      <th>1111.19</th>\n",
       "    </tr>\n",
       "  </tbody>\n",
       "</table>\n",
       "</div>"
      ],
      "text/plain": [
       "Empty DataFrame\n",
       "Columns: []\n",
       "Index: [(10046, HI, 36.16), (10091, OR, 383.93), (10207, VA, 559.12), (11083, MI, 941.56), (11269, WY, 1111.19)]"
      ]
     },
     "metadata": {},
     "output_type": "display_data"
    }
   ],
   "source": [
    "#View top few rows of distinct_issuers_relevantinfo DF (duplicates now removed).\n",
    "\n",
    "display(distinct_issuers_relevantinfo.head())"
   ]
  },
  {
   "cell_type": "code",
   "execution_count": 73,
   "metadata": {},
   "outputs": [],
   "source": [
    "#Use reset_index() to turn multi-index into separate columns (and adds new index column).\n",
    "\n",
    "distinct_issuers_relevantinfo.reset_index(inplace = True);  "
   ]
  },
  {
   "cell_type": "code",
   "execution_count": 74,
   "metadata": {},
   "outputs": [
    {
     "data": {
      "text/html": [
       "<div>\n",
       "<style scoped>\n",
       "    .dataframe tbody tr th:only-of-type {\n",
       "        vertical-align: middle;\n",
       "    }\n",
       "\n",
       "    .dataframe tbody tr th {\n",
       "        vertical-align: top;\n",
       "    }\n",
       "\n",
       "    .dataframe thead th {\n",
       "        text-align: right;\n",
       "    }\n",
       "</style>\n",
       "<table border=\"1\" class=\"dataframe\">\n",
       "  <thead>\n",
       "    <tr style=\"text-align: right;\">\n",
       "      <th></th>\n",
       "      <th>IssuerId</th>\n",
       "      <th>StateCode</th>\n",
       "      <th>IndividualRate_mean</th>\n",
       "    </tr>\n",
       "  </thead>\n",
       "  <tbody>\n",
       "    <tr>\n",
       "      <th>0</th>\n",
       "      <td>10046</td>\n",
       "      <td>HI</td>\n",
       "      <td>36.16</td>\n",
       "    </tr>\n",
       "    <tr>\n",
       "      <th>1</th>\n",
       "      <td>10091</td>\n",
       "      <td>OR</td>\n",
       "      <td>383.93</td>\n",
       "    </tr>\n",
       "    <tr>\n",
       "      <th>2</th>\n",
       "      <td>10207</td>\n",
       "      <td>VA</td>\n",
       "      <td>559.12</td>\n",
       "    </tr>\n",
       "    <tr>\n",
       "      <th>3</th>\n",
       "      <td>11083</td>\n",
       "      <td>MI</td>\n",
       "      <td>941.56</td>\n",
       "    </tr>\n",
       "    <tr>\n",
       "      <th>4</th>\n",
       "      <td>11269</td>\n",
       "      <td>WY</td>\n",
       "      <td>1111.19</td>\n",
       "    </tr>\n",
       "  </tbody>\n",
       "</table>\n",
       "</div>"
      ],
      "text/plain": [
       "   IssuerId StateCode  IndividualRate_mean\n",
       "0     10046        HI                36.16\n",
       "1     10091        OR               383.93\n",
       "2     10207        VA               559.12\n",
       "3     11083        MI               941.56\n",
       "4     11269        WY              1111.19"
      ]
     },
     "metadata": {},
     "output_type": "display_data"
    }
   ],
   "source": [
    "#View top few rows of distinct_issuers_relevantinfo DF (has 3 new columns).\n",
    "\n",
    "display(distinct_issuers_relevantinfo.head())"
   ]
  },
  {
   "cell_type": "code",
   "execution_count": 75,
   "metadata": {},
   "outputs": [],
   "source": [
    "#Merge distinct_issuers_random_relevantinfo and rb_count_DF.\n",
    "\n",
    "distinct_issuers_relevantinfo = pd.merge(distinct_issuers_relevantinfo\n",
    "                                                , rb_count_DF, left_on='IssuerId', right_on= 'IssuerId');"
   ]
  },
  {
   "cell_type": "code",
   "execution_count": 76,
   "metadata": {},
   "outputs": [
    {
     "data": {
      "text/html": [
       "<div>\n",
       "<style scoped>\n",
       "    .dataframe tbody tr th:only-of-type {\n",
       "        vertical-align: middle;\n",
       "    }\n",
       "\n",
       "    .dataframe tbody tr th {\n",
       "        vertical-align: top;\n",
       "    }\n",
       "\n",
       "    .dataframe thead th {\n",
       "        text-align: right;\n",
       "    }\n",
       "</style>\n",
       "<table border=\"1\" class=\"dataframe\">\n",
       "  <thead>\n",
       "    <tr style=\"text-align: right;\">\n",
       "      <th></th>\n",
       "      <th>IssuerId</th>\n",
       "      <th>StateCode</th>\n",
       "      <th>IndividualRate_mean</th>\n",
       "      <th>num_relevant_benefits</th>\n",
       "      <th>QualityOfCare</th>\n",
       "    </tr>\n",
       "  </thead>\n",
       "  <tbody>\n",
       "    <tr>\n",
       "      <th>0</th>\n",
       "      <td>10046</td>\n",
       "      <td>HI</td>\n",
       "      <td>36.16</td>\n",
       "      <td>1</td>\n",
       "      <td>Low</td>\n",
       "    </tr>\n",
       "    <tr>\n",
       "      <th>1</th>\n",
       "      <td>10091</td>\n",
       "      <td>OR</td>\n",
       "      <td>383.93</td>\n",
       "      <td>5</td>\n",
       "      <td>Medium</td>\n",
       "    </tr>\n",
       "    <tr>\n",
       "      <th>2</th>\n",
       "      <td>10207</td>\n",
       "      <td>VA</td>\n",
       "      <td>559.12</td>\n",
       "      <td>5</td>\n",
       "      <td>Medium</td>\n",
       "    </tr>\n",
       "    <tr>\n",
       "      <th>3</th>\n",
       "      <td>11083</td>\n",
       "      <td>MI</td>\n",
       "      <td>941.56</td>\n",
       "      <td>1</td>\n",
       "      <td>Low</td>\n",
       "    </tr>\n",
       "    <tr>\n",
       "      <th>4</th>\n",
       "      <td>11269</td>\n",
       "      <td>WY</td>\n",
       "      <td>1111.19</td>\n",
       "      <td>5</td>\n",
       "      <td>Medium</td>\n",
       "    </tr>\n",
       "  </tbody>\n",
       "</table>\n",
       "</div>"
      ],
      "text/plain": [
       "   IssuerId StateCode  IndividualRate_mean  num_relevant_benefits  \\\n",
       "0     10046        HI                36.16                      1   \n",
       "1     10091        OR               383.93                      5   \n",
       "2     10207        VA               559.12                      5   \n",
       "3     11083        MI               941.56                      1   \n",
       "4     11269        WY              1111.19                      5   \n",
       "\n",
       "  QualityOfCare  \n",
       "0           Low  \n",
       "1        Medium  \n",
       "2        Medium  \n",
       "3           Low  \n",
       "4        Medium  "
      ]
     },
     "metadata": {},
     "output_type": "display_data"
    }
   ],
   "source": [
    "#View top few rows of distinct_issuers_relevantinfo DF.\n",
    "\n",
    "display(distinct_issuers_relevantinfo.head())"
   ]
  },
  {
   "cell_type": "code",
   "execution_count": 77,
   "metadata": {},
   "outputs": [],
   "source": [
    "#Create state dummy columns from distinct_issuers_relevantinfo DF. There is one indicator column for each state.\n",
    "\n",
    "state_dummies = pd.get_dummies(distinct_issuers_relevantinfo.StateCode); #create dummy columns (integer type)\n",
    "distinct_issuers_relevantinfo.drop('StateCode', axis = 1, inplace = True); #drop existing StateCode column since categorical"
   ]
  },
  {
   "cell_type": "code",
   "execution_count": 78,
   "metadata": {},
   "outputs": [],
   "source": [
    "#Join state dummies to DF.\n",
    "\n",
    "distinct_issuers_relevantinfo = distinct_issuers_relevantinfo.join(state_dummies);\n"
   ]
  },
  {
   "cell_type": "code",
   "execution_count": 79,
   "metadata": {},
   "outputs": [
    {
     "name": "stdout",
     "output_type": "stream",
     "text": [
      "(430, 42)\n"
     ]
    },
    {
     "data": {
      "text/html": [
       "<div>\n",
       "<style scoped>\n",
       "    .dataframe tbody tr th:only-of-type {\n",
       "        vertical-align: middle;\n",
       "    }\n",
       "\n",
       "    .dataframe tbody tr th {\n",
       "        vertical-align: top;\n",
       "    }\n",
       "\n",
       "    .dataframe thead th {\n",
       "        text-align: right;\n",
       "    }\n",
       "</style>\n",
       "<table border=\"1\" class=\"dataframe\">\n",
       "  <thead>\n",
       "    <tr style=\"text-align: right;\">\n",
       "      <th></th>\n",
       "      <th>IssuerId</th>\n",
       "      <th>IndividualRate_mean</th>\n",
       "      <th>num_relevant_benefits</th>\n",
       "      <th>QualityOfCare</th>\n",
       "      <th>AK</th>\n",
       "      <th>AL</th>\n",
       "      <th>AR</th>\n",
       "      <th>AZ</th>\n",
       "      <th>DE</th>\n",
       "      <th>FL</th>\n",
       "      <th>GA</th>\n",
       "      <th>HI</th>\n",
       "      <th>IA</th>\n",
       "      <th>IL</th>\n",
       "      <th>IN</th>\n",
       "      <th>...</th>\n",
       "      <th>NJ</th>\n",
       "      <th>NM</th>\n",
       "      <th>OH</th>\n",
       "      <th>OK</th>\n",
       "      <th>OR</th>\n",
       "      <th>PA</th>\n",
       "      <th>SC</th>\n",
       "      <th>SD</th>\n",
       "      <th>TN</th>\n",
       "      <th>TX</th>\n",
       "      <th>UT</th>\n",
       "      <th>VA</th>\n",
       "      <th>WI</th>\n",
       "      <th>WV</th>\n",
       "      <th>WY</th>\n",
       "    </tr>\n",
       "  </thead>\n",
       "  <tbody>\n",
       "    <tr>\n",
       "      <th>0</th>\n",
       "      <td>10046</td>\n",
       "      <td>36.16</td>\n",
       "      <td>1</td>\n",
       "      <td>Low</td>\n",
       "      <td>0</td>\n",
       "      <td>0</td>\n",
       "      <td>0</td>\n",
       "      <td>0</td>\n",
       "      <td>0</td>\n",
       "      <td>0</td>\n",
       "      <td>0</td>\n",
       "      <td>1</td>\n",
       "      <td>0</td>\n",
       "      <td>0</td>\n",
       "      <td>0</td>\n",
       "      <td>...</td>\n",
       "      <td>0</td>\n",
       "      <td>0</td>\n",
       "      <td>0</td>\n",
       "      <td>0</td>\n",
       "      <td>0</td>\n",
       "      <td>0</td>\n",
       "      <td>0</td>\n",
       "      <td>0</td>\n",
       "      <td>0</td>\n",
       "      <td>0</td>\n",
       "      <td>0</td>\n",
       "      <td>0</td>\n",
       "      <td>0</td>\n",
       "      <td>0</td>\n",
       "      <td>0</td>\n",
       "    </tr>\n",
       "    <tr>\n",
       "      <th>1</th>\n",
       "      <td>10091</td>\n",
       "      <td>383.93</td>\n",
       "      <td>5</td>\n",
       "      <td>Medium</td>\n",
       "      <td>0</td>\n",
       "      <td>0</td>\n",
       "      <td>0</td>\n",
       "      <td>0</td>\n",
       "      <td>0</td>\n",
       "      <td>0</td>\n",
       "      <td>0</td>\n",
       "      <td>0</td>\n",
       "      <td>0</td>\n",
       "      <td>0</td>\n",
       "      <td>0</td>\n",
       "      <td>...</td>\n",
       "      <td>0</td>\n",
       "      <td>0</td>\n",
       "      <td>0</td>\n",
       "      <td>0</td>\n",
       "      <td>1</td>\n",
       "      <td>0</td>\n",
       "      <td>0</td>\n",
       "      <td>0</td>\n",
       "      <td>0</td>\n",
       "      <td>0</td>\n",
       "      <td>0</td>\n",
       "      <td>0</td>\n",
       "      <td>0</td>\n",
       "      <td>0</td>\n",
       "      <td>0</td>\n",
       "    </tr>\n",
       "    <tr>\n",
       "      <th>2</th>\n",
       "      <td>10207</td>\n",
       "      <td>559.12</td>\n",
       "      <td>5</td>\n",
       "      <td>Medium</td>\n",
       "      <td>0</td>\n",
       "      <td>0</td>\n",
       "      <td>0</td>\n",
       "      <td>0</td>\n",
       "      <td>0</td>\n",
       "      <td>0</td>\n",
       "      <td>0</td>\n",
       "      <td>0</td>\n",
       "      <td>0</td>\n",
       "      <td>0</td>\n",
       "      <td>0</td>\n",
       "      <td>...</td>\n",
       "      <td>0</td>\n",
       "      <td>0</td>\n",
       "      <td>0</td>\n",
       "      <td>0</td>\n",
       "      <td>0</td>\n",
       "      <td>0</td>\n",
       "      <td>0</td>\n",
       "      <td>0</td>\n",
       "      <td>0</td>\n",
       "      <td>0</td>\n",
       "      <td>0</td>\n",
       "      <td>1</td>\n",
       "      <td>0</td>\n",
       "      <td>0</td>\n",
       "      <td>0</td>\n",
       "    </tr>\n",
       "    <tr>\n",
       "      <th>3</th>\n",
       "      <td>11083</td>\n",
       "      <td>941.56</td>\n",
       "      <td>1</td>\n",
       "      <td>Low</td>\n",
       "      <td>0</td>\n",
       "      <td>0</td>\n",
       "      <td>0</td>\n",
       "      <td>0</td>\n",
       "      <td>0</td>\n",
       "      <td>0</td>\n",
       "      <td>0</td>\n",
       "      <td>0</td>\n",
       "      <td>0</td>\n",
       "      <td>0</td>\n",
       "      <td>0</td>\n",
       "      <td>...</td>\n",
       "      <td>0</td>\n",
       "      <td>0</td>\n",
       "      <td>0</td>\n",
       "      <td>0</td>\n",
       "      <td>0</td>\n",
       "      <td>0</td>\n",
       "      <td>0</td>\n",
       "      <td>0</td>\n",
       "      <td>0</td>\n",
       "      <td>0</td>\n",
       "      <td>0</td>\n",
       "      <td>0</td>\n",
       "      <td>0</td>\n",
       "      <td>0</td>\n",
       "      <td>0</td>\n",
       "    </tr>\n",
       "    <tr>\n",
       "      <th>4</th>\n",
       "      <td>11269</td>\n",
       "      <td>1111.19</td>\n",
       "      <td>5</td>\n",
       "      <td>Medium</td>\n",
       "      <td>0</td>\n",
       "      <td>0</td>\n",
       "      <td>0</td>\n",
       "      <td>0</td>\n",
       "      <td>0</td>\n",
       "      <td>0</td>\n",
       "      <td>0</td>\n",
       "      <td>0</td>\n",
       "      <td>0</td>\n",
       "      <td>0</td>\n",
       "      <td>0</td>\n",
       "      <td>...</td>\n",
       "      <td>0</td>\n",
       "      <td>0</td>\n",
       "      <td>0</td>\n",
       "      <td>0</td>\n",
       "      <td>0</td>\n",
       "      <td>0</td>\n",
       "      <td>0</td>\n",
       "      <td>0</td>\n",
       "      <td>0</td>\n",
       "      <td>0</td>\n",
       "      <td>0</td>\n",
       "      <td>0</td>\n",
       "      <td>0</td>\n",
       "      <td>0</td>\n",
       "      <td>1</td>\n",
       "    </tr>\n",
       "  </tbody>\n",
       "</table>\n",
       "<p>5 rows × 42 columns</p>\n",
       "</div>"
      ],
      "text/plain": [
       "   IssuerId  IndividualRate_mean  num_relevant_benefits QualityOfCare  AK  AL  \\\n",
       "0     10046                36.16                      1           Low   0   0   \n",
       "1     10091               383.93                      5        Medium   0   0   \n",
       "2     10207               559.12                      5        Medium   0   0   \n",
       "3     11083               941.56                      1           Low   0   0   \n",
       "4     11269              1111.19                      5        Medium   0   0   \n",
       "\n",
       "   AR  AZ  DE  FL  GA  HI  IA  IL  IN  ...  NJ  NM  OH  OK  OR  PA  SC  SD  \\\n",
       "0   0   0   0   0   0   1   0   0   0  ...   0   0   0   0   0   0   0   0   \n",
       "1   0   0   0   0   0   0   0   0   0  ...   0   0   0   0   1   0   0   0   \n",
       "2   0   0   0   0   0   0   0   0   0  ...   0   0   0   0   0   0   0   0   \n",
       "3   0   0   0   0   0   0   0   0   0  ...   0   0   0   0   0   0   0   0   \n",
       "4   0   0   0   0   0   0   0   0   0  ...   0   0   0   0   0   0   0   0   \n",
       "\n",
       "   TN  TX  UT  VA  WI  WV  WY  \n",
       "0   0   0   0   0   0   0   0  \n",
       "1   0   0   0   0   0   0   0  \n",
       "2   0   0   0   1   0   0   0  \n",
       "3   0   0   0   0   0   0   0  \n",
       "4   0   0   0   0   0   0   1  \n",
       "\n",
       "[5 rows x 42 columns]"
      ]
     },
     "metadata": {},
     "output_type": "display_data"
    }
   ],
   "source": [
    "#View shape and first few rows of distinct_issuers_relevantinfo DF.\n",
    "\n",
    "print(distinct_issuers_relevantinfo.shape)\n",
    "display(distinct_issuers_relevantinfo.head())"
   ]
  },
  {
   "cell_type": "code",
   "execution_count": 80,
   "metadata": {},
   "outputs": [
    {
     "data": {
      "image/png": "[encoded data removed]",
      "text/plain": [
       "<Figure size 720x576 with 2 Axes>"
      ]
     },
     "metadata": {
      "needs_background": "light"
     },
     "output_type": "display_data"
    }
   ],
   "source": [
    "#View heatmap of distinct_issuers_relevantinfo DF to determine which features to use.\n",
    "\n",
    "plt.figure(figsize = (10,8));\n",
    "sns.heatmap(distinct_issuers_relevantinfo.corr());\n",
    "plt.title('Heatmap of distinct_issuers_relevantinfo DF', fontsize = 18);"
   ]
  },
  {
   "cell_type": "markdown",
   "metadata": {},
   "source": [
    "### Pair-Wise Correlations in Heatmap:"
   ]
  },
  {
   "cell_type": "markdown",
   "metadata": {},
   "source": [
    "IndividualRate_mean has a positive correlation with QualityOfCare_num. \n",
    "IndividualRate_mean has a positive correlation with num_relevant benefits.\n",
    "QualityOfCare_num has a strong positive correlation with num_relevant_benefits (because they are directly related).\n",
    "The state dummy columns each have little to no correlation at all with QualityOfCare_num.\n",
    "\n",
    "Therefore I choose to use IndividualRate_mean and the 38 state dummy columns as my features for prediction.\n",
    "Although the state dummy columns each have little to no correlation to QualityOfCare_num, the minimal weighting of each column could improve the accuracy of the models due to the small sample size of issuers in the dataset (although this introduces increased model complexity). Also, I cannot use the num_relevant_benefits column because it is used to create the QualityOfCare column (from which the QualityOfCare_num column is derived from)."
   ]
  },
  {
   "cell_type": "markdown",
   "metadata": {},
   "source": [
    "## Section 3: Predictive KNN Classifier Models and Analysis \n",
    "### Predicting Quality Of Care of an Issuer using KNN Classification."
   ]
  },
  {
   "cell_type": "code",
   "execution_count": 81,
   "metadata": {},
   "outputs": [],
   "source": [
    "#Import relevant modules for prediction/classification.\n",
    "\n",
    "from sklearn.neighbors import KNeighborsClassifier\n",
    "from sklearn.model_selection import train_test_split\n",
    "from sklearn import metrics\n",
    "from sklearn.model_selection import KFold"
   ]
  },
  {
   "cell_type": "code",
   "execution_count": 82,
   "metadata": {},
   "outputs": [],
   "source": [
    "#Map QualityOfCare values to numbers (create/map new column based on existing column), and add new column to DF.\n",
    "\n",
    "distinct_issuers_relevantinfo['QualityOfCare_num'] = distinct_issuers_relevantinfo.QualityOfCare.map({'Low':0\n",
    "                                                                                                     , 'Medium':1, 'High':2});"
   ]
  },
  {
   "cell_type": "code",
   "execution_count": 83,
   "metadata": {},
   "outputs": [
    {
     "data": {
      "text/html": [
       "<div>\n",
       "<style scoped>\n",
       "    .dataframe tbody tr th:only-of-type {\n",
       "        vertical-align: middle;\n",
       "    }\n",
       "\n",
       "    .dataframe tbody tr th {\n",
       "        vertical-align: top;\n",
       "    }\n",
       "\n",
       "    .dataframe thead th {\n",
       "        text-align: right;\n",
       "    }\n",
       "</style>\n",
       "<table border=\"1\" class=\"dataframe\">\n",
       "  <thead>\n",
       "    <tr style=\"text-align: right;\">\n",
       "      <th></th>\n",
       "      <th>IssuerId</th>\n",
       "      <th>IndividualRate_mean</th>\n",
       "      <th>num_relevant_benefits</th>\n",
       "      <th>QualityOfCare</th>\n",
       "      <th>AK</th>\n",
       "      <th>AL</th>\n",
       "      <th>AR</th>\n",
       "      <th>AZ</th>\n",
       "      <th>DE</th>\n",
       "      <th>FL</th>\n",
       "      <th>GA</th>\n",
       "      <th>HI</th>\n",
       "      <th>IA</th>\n",
       "      <th>IL</th>\n",
       "      <th>IN</th>\n",
       "      <th>...</th>\n",
       "      <th>NM</th>\n",
       "      <th>OH</th>\n",
       "      <th>OK</th>\n",
       "      <th>OR</th>\n",
       "      <th>PA</th>\n",
       "      <th>SC</th>\n",
       "      <th>SD</th>\n",
       "      <th>TN</th>\n",
       "      <th>TX</th>\n",
       "      <th>UT</th>\n",
       "      <th>VA</th>\n",
       "      <th>WI</th>\n",
       "      <th>WV</th>\n",
       "      <th>WY</th>\n",
       "      <th>QualityOfCare_num</th>\n",
       "    </tr>\n",
       "  </thead>\n",
       "  <tbody>\n",
       "    <tr>\n",
       "      <th>0</th>\n",
       "      <td>10046</td>\n",
       "      <td>36.16</td>\n",
       "      <td>1</td>\n",
       "      <td>Low</td>\n",
       "      <td>0</td>\n",
       "      <td>0</td>\n",
       "      <td>0</td>\n",
       "      <td>0</td>\n",
       "      <td>0</td>\n",
       "      <td>0</td>\n",
       "      <td>0</td>\n",
       "      <td>1</td>\n",
       "      <td>0</td>\n",
       "      <td>0</td>\n",
       "      <td>0</td>\n",
       "      <td>...</td>\n",
       "      <td>0</td>\n",
       "      <td>0</td>\n",
       "      <td>0</td>\n",
       "      <td>0</td>\n",
       "      <td>0</td>\n",
       "      <td>0</td>\n",
       "      <td>0</td>\n",
       "      <td>0</td>\n",
       "      <td>0</td>\n",
       "      <td>0</td>\n",
       "      <td>0</td>\n",
       "      <td>0</td>\n",
       "      <td>0</td>\n",
       "      <td>0</td>\n",
       "      <td>0</td>\n",
       "    </tr>\n",
       "    <tr>\n",
       "      <th>1</th>\n",
       "      <td>10091</td>\n",
       "      <td>383.93</td>\n",
       "      <td>5</td>\n",
       "      <td>Medium</td>\n",
       "      <td>0</td>\n",
       "      <td>0</td>\n",
       "      <td>0</td>\n",
       "      <td>0</td>\n",
       "      <td>0</td>\n",
       "      <td>0</td>\n",
       "      <td>0</td>\n",
       "      <td>0</td>\n",
       "      <td>0</td>\n",
       "      <td>0</td>\n",
       "      <td>0</td>\n",
       "      <td>...</td>\n",
       "      <td>0</td>\n",
       "      <td>0</td>\n",
       "      <td>0</td>\n",
       "      <td>1</td>\n",
       "      <td>0</td>\n",
       "      <td>0</td>\n",
       "      <td>0</td>\n",
       "      <td>0</td>\n",
       "      <td>0</td>\n",
       "      <td>0</td>\n",
       "      <td>0</td>\n",
       "      <td>0</td>\n",
       "      <td>0</td>\n",
       "      <td>0</td>\n",
       "      <td>1</td>\n",
       "    </tr>\n",
       "    <tr>\n",
       "      <th>2</th>\n",
       "      <td>10207</td>\n",
       "      <td>559.12</td>\n",
       "      <td>5</td>\n",
       "      <td>Medium</td>\n",
       "      <td>0</td>\n",
       "      <td>0</td>\n",
       "      <td>0</td>\n",
       "      <td>0</td>\n",
       "      <td>0</td>\n",
       "      <td>0</td>\n",
       "      <td>0</td>\n",
       "      <td>0</td>\n",
       "      <td>0</td>\n",
       "      <td>0</td>\n",
       "      <td>0</td>\n",
       "      <td>...</td>\n",
       "      <td>0</td>\n",
       "      <td>0</td>\n",
       "      <td>0</td>\n",
       "      <td>0</td>\n",
       "      <td>0</td>\n",
       "      <td>0</td>\n",
       "      <td>0</td>\n",
       "      <td>0</td>\n",
       "      <td>0</td>\n",
       "      <td>0</td>\n",
       "      <td>1</td>\n",
       "      <td>0</td>\n",
       "      <td>0</td>\n",
       "      <td>0</td>\n",
       "      <td>1</td>\n",
       "    </tr>\n",
       "    <tr>\n",
       "      <th>3</th>\n",
       "      <td>11083</td>\n",
       "      <td>941.56</td>\n",
       "      <td>1</td>\n",
       "      <td>Low</td>\n",
       "      <td>0</td>\n",
       "      <td>0</td>\n",
       "      <td>0</td>\n",
       "      <td>0</td>\n",
       "      <td>0</td>\n",
       "      <td>0</td>\n",
       "      <td>0</td>\n",
       "      <td>0</td>\n",
       "      <td>0</td>\n",
       "      <td>0</td>\n",
       "      <td>0</td>\n",
       "      <td>...</td>\n",
       "      <td>0</td>\n",
       "      <td>0</td>\n",
       "      <td>0</td>\n",
       "      <td>0</td>\n",
       "      <td>0</td>\n",
       "      <td>0</td>\n",
       "      <td>0</td>\n",
       "      <td>0</td>\n",
       "      <td>0</td>\n",
       "      <td>0</td>\n",
       "      <td>0</td>\n",
       "      <td>0</td>\n",
       "      <td>0</td>\n",
       "      <td>0</td>\n",
       "      <td>0</td>\n",
       "    </tr>\n",
       "    <tr>\n",
       "      <th>4</th>\n",
       "      <td>11269</td>\n",
       "      <td>1111.19</td>\n",
       "      <td>5</td>\n",
       "      <td>Medium</td>\n",
       "      <td>0</td>\n",
       "      <td>0</td>\n",
       "      <td>0</td>\n",
       "      <td>0</td>\n",
       "      <td>0</td>\n",
       "      <td>0</td>\n",
       "      <td>0</td>\n",
       "      <td>0</td>\n",
       "      <td>0</td>\n",
       "      <td>0</td>\n",
       "      <td>0</td>\n",
       "      <td>...</td>\n",
       "      <td>0</td>\n",
       "      <td>0</td>\n",
       "      <td>0</td>\n",
       "      <td>0</td>\n",
       "      <td>0</td>\n",
       "      <td>0</td>\n",
       "      <td>0</td>\n",
       "      <td>0</td>\n",
       "      <td>0</td>\n",
       "      <td>0</td>\n",
       "      <td>0</td>\n",
       "      <td>0</td>\n",
       "      <td>0</td>\n",
       "      <td>1</td>\n",
       "      <td>1</td>\n",
       "    </tr>\n",
       "  </tbody>\n",
       "</table>\n",
       "<p>5 rows × 43 columns</p>\n",
       "</div>"
      ],
      "text/plain": [
       "   IssuerId  IndividualRate_mean  num_relevant_benefits QualityOfCare  AK  AL  \\\n",
       "0     10046                36.16                      1           Low   0   0   \n",
       "1     10091               383.93                      5        Medium   0   0   \n",
       "2     10207               559.12                      5        Medium   0   0   \n",
       "3     11083               941.56                      1           Low   0   0   \n",
       "4     11269              1111.19                      5        Medium   0   0   \n",
       "\n",
       "   AR  AZ  DE  FL  GA  HI  IA  IL  IN  ...  NM  OH  OK  OR  PA  SC  SD  TN  \\\n",
       "0   0   0   0   0   0   1   0   0   0  ...   0   0   0   0   0   0   0   0   \n",
       "1   0   0   0   0   0   0   0   0   0  ...   0   0   0   1   0   0   0   0   \n",
       "2   0   0   0   0   0   0   0   0   0  ...   0   0   0   0   0   0   0   0   \n",
       "3   0   0   0   0   0   0   0   0   0  ...   0   0   0   0   0   0   0   0   \n",
       "4   0   0   0   0   0   0   0   0   0  ...   0   0   0   0   0   0   0   0   \n",
       "\n",
       "   TX  UT  VA  WI  WV  WY  QualityOfCare_num  \n",
       "0   0   0   0   0   0   0                  0  \n",
       "1   0   0   0   0   0   0                  1  \n",
       "2   0   0   1   0   0   0                  1  \n",
       "3   0   0   0   0   0   0                  0  \n",
       "4   0   0   0   0   0   1                  1  \n",
       "\n",
       "[5 rows x 43 columns]"
      ]
     },
     "metadata": {},
     "output_type": "display_data"
    }
   ],
   "source": [
    "#View top few rows of DF (now has QualityOfCare_num column).\n",
    "\n",
    "display(distinct_issuers_relevantinfo.head())"
   ]
  },
  {
   "cell_type": "code",
   "execution_count": 84,
   "metadata": {},
   "outputs": [],
   "source": [
    "#Create feature matrix (X) from columns in distinct_issuers_relevantinfo DF.\n",
    "#Use IndividualRate_mean and the 38 state columns as 39 total features.\n",
    "\n",
    "features = ['IndividualRate_mean','AK', 'AL', 'AR', 'AZ', 'DE', 'FL', 'GA', 'HI', 'IA', 'IL', 'IN', 'KS',\n",
    "       'KY', 'LA', 'ME', 'MI', 'MO', 'MS', 'MT', 'NC', 'ND', 'NE', 'NH', 'NJ',\n",
    "       'NM', 'OH', 'OK', 'OR', 'PA', 'SC', 'SD', 'TN', 'TX', 'UT', 'VA', 'WI',\n",
    "       'WV', 'WY'];\n",
    "\n",
    "X = distinct_issuers_relevantinfo[features];"
   ]
  },
  {
   "cell_type": "code",
   "execution_count": 85,
   "metadata": {},
   "outputs": [
    {
     "name": "stdout",
     "output_type": "stream",
     "text": [
      "Shape of X matrix: (430, 39)\n",
      "Number of features: 39\n"
     ]
    }
   ],
   "source": [
    "#View shape and number of features in X.\n",
    "\n",
    "print(f'Shape of X matrix: {X.shape}')\n",
    "print(f'Number of features: {len(features)}')"
   ]
  },
  {
   "cell_type": "code",
   "execution_count": 86,
   "metadata": {},
   "outputs": [],
   "source": [
    "#Create response vector (y) for target value QualityOfCare_num.\n",
    "\n",
    "y = distinct_issuers_relevantinfo['QualityOfCare_num']; "
   ]
  },
  {
   "cell_type": "code",
   "execution_count": 87,
   "metadata": {},
   "outputs": [
    {
     "name": "stdout",
     "output_type": "stream",
     "text": [
      "Length of y vector: 430\n"
     ]
    }
   ],
   "source": [
    "#View length of y vector.\n",
    "\n",
    "print(f'Length of y vector: {len(y)}')"
   ]
  },
  {
   "cell_type": "markdown",
   "metadata": {},
   "source": [
    "### Create, train, and test a KNN Classifier model for k = 1."
   ]
  },
  {
   "cell_type": "code",
   "execution_count": 88,
   "metadata": {},
   "outputs": [],
   "source": [
    "#Split X and y into training and testing sets, and use random seed for reproducibility.\n",
    "\n",
    "X_train, X_test, y_train, y_test = train_test_split(X, y, train_size = 0.7, random_state = 42) #use 70% of data for train set"
   ]
  },
  {
   "cell_type": "code",
   "execution_count": 89,
   "metadata": {},
   "outputs": [
    {
     "name": "stdout",
     "output_type": "stream",
     "text": [
      "X_train shape: (301, 39), y_train shape: (301,)\n",
      "X_test shape: (129, 39), y_test shape: (129,)\n"
     ]
    }
   ],
   "source": [
    "#View shapes of train and test sets.\n",
    "\n",
    "print(f'X_train shape: {X_train.shape}, y_train shape: {y_train.shape}')\n",
    "print(f'X_test shape: {X_test.shape}, y_test shape: {y_test.shape}')"
   ]
  },
  {
   "cell_type": "code",
   "execution_count": 90,
   "metadata": {},
   "outputs": [],
   "source": [
    "#Train model with train set using k = 1 (number of neighbors).\n",
    "\n",
    "k = 1; #number of neighbors\n",
    "knn = KNeighborsClassifier(n_neighbors = k);\n",
    "knn.fit(X_train, y_train); #fit the model"
   ]
  },
  {
   "cell_type": "code",
   "execution_count": 91,
   "metadata": {},
   "outputs": [
    {
     "name": "stdout",
     "output_type": "stream",
     "text": [
      "Testing accuracy for k=1: 0.9844961240310077\n"
     ]
    }
   ],
   "source": [
    "#Use KNN model to predict QualityOfCare_num values for Test set and check Testing accuracy.\n",
    "\n",
    "y_pred = knn.predict(X_test);  #predict based on test split\n",
    "testacc = metrics.accuracy_score(y_test, y_pred); #testing accuracy\n",
    "print(f'Testing accuracy for k={k}: {testacc}')"
   ]
  },
  {
   "cell_type": "markdown",
   "metadata": {},
   "source": [
    "### Determine Null accuracy (baseline) to compare to Testing accuracy.\n",
    "Null accuracy is the accuracy that can be achieved by always predicting the most frequent class."
   ]
  },
  {
   "cell_type": "code",
   "execution_count": 92,
   "metadata": {},
   "outputs": [
    {
     "name": "stdout",
     "output_type": "stream",
     "text": [
      "0    180\n",
      "1    120\n",
      "2      1\n",
      "Name: QualityOfCare_num, dtype: int64\n",
      "\n",
      "Most frequent class: 0\n"
     ]
    }
   ],
   "source": [
    "#Determine the most frequent class in the target vector (y).\n",
    "#Mapped values: Low is 0, Medium is 1, High is 2.\n",
    "\n",
    "most_freq_class = y_train.value_counts().index[0];\n",
    "\n",
    "print(y_train.value_counts())  #value counts from train set\n",
    "print(f'\\nMost frequent class: {most_freq_class}')\n",
    "\n",
    "#180 issuers have 'Low' quality of care.\n",
    "#120 issuers have 'Medium' quality of care.\n",
    "#1 issuer has 'High' quality of care."
   ]
  },
  {
   "cell_type": "code",
   "execution_count": 93,
   "metadata": {},
   "outputs": [
    {
     "name": "stdout",
     "output_type": "stream",
     "text": [
      "Null accuracy: 0.5813953488372093\n"
     ]
    }
   ],
   "source": [
    "#Compute the Null accuracy of the testing set.\n",
    "\n",
    "nullacc = ( y_test.value_counts()[most_freq_class] / len(y_test)  );\n",
    "print(f'Null accuracy: {nullacc}')\n"
   ]
  },
  {
   "cell_type": "code",
   "execution_count": 94,
   "metadata": {
    "scrolled": false
   },
   "outputs": [
    {
     "name": "stdout",
     "output_type": "stream",
     "text": [
      "The KNN model with k=1 has Testing accuracy = 0.9844961240310077 and Null accuracy = 0.5813953488372093.\n",
      "Therefore the KNN-1 model has an accuracy improvement of 40.31% over the baseline model.\n"
     ]
    }
   ],
   "source": [
    "print(f'The KNN model with k={k} has Testing accuracy = {testacc} and Null accuracy = {nullacc}.')\n",
    "print(f'Therefore the KNN-{k} model has an accuracy improvement of {round(100*(testacc - nullacc),3)}% over the baseline model.')"
   ]
  },
  {
   "cell_type": "markdown",
   "metadata": {},
   "source": [
    "### Find optimal K number of neighbors for best KNN Classifier model accuracy."
   ]
  },
  {
   "cell_type": "code",
   "execution_count": 95,
   "metadata": {},
   "outputs": [],
   "source": [
    "#View accuracy of training set for models trained upon k's 1 to 50.\n",
    "\n",
    "scores = []; #initialize list to save sublists of [k, score]\n",
    "\n",
    "#Iterates through k's 1 to 50\n",
    "for k in range(1,50):\n",
    "    knn = KNeighborsClassifier(n_neighbors=k);\n",
    "    knn.fit(X_train,y_train);\n",
    "    pred = knn.predict(X_train);\n",
    "    score = float(sum(pred == y_train)) / len(y_train);   #pred and y_train need to be same length\n",
    "    scores.append([k, score]);\n"
   ]
  },
  {
   "cell_type": "code",
   "execution_count": 96,
   "metadata": {},
   "outputs": [
    {
     "data": {
      "image/png": "[encoded data removed]",
      "text/plain": [
       "<Figure size 576x432 with 1 Axes>"
      ]
     },
     "metadata": {
      "needs_background": "light"
     },
     "output_type": "display_data"
    }
   ],
   "source": [
    "#Line plot of k's from 1 to 50.\n",
    "\n",
    "k_score_DF = pd.DataFrame(scores,columns=['k','score']);  #create DF from scores list\n",
    "k_score_DF.plot(kind = 'line', x='k', y='score', c = 'forestgreen', figsize = (8,6), legend = False);\n",
    "plt.title(\"Testing accuracy for K values 1 to 50\", fontsize = 18);\n",
    "plt.xlabel('K value', fontsize = 14);\n",
    "plt.ylabel('Testing accuracy', fontsize = 14);"
   ]
  },
  {
   "cell_type": "code",
   "execution_count": 97,
   "metadata": {},
   "outputs": [],
   "source": [
    "#Find the best k value (optimal).\n",
    "\n",
    "#Calculate training and testing error for k's 1 to 50.\n",
    "\n",
    "k_range = list(range(1, 51));\n",
    "training_error = [];\n",
    "testing_error = [];\n",
    "\n",
    "#Find test accuracy for all values of k between 1 and 50 (inclusive).\n",
    "for k in k_range:\n",
    "\n",
    "    #Instantiate the model with the current K value.\n",
    "    knn = KNeighborsClassifier(n_neighbors = k);\n",
    "    knn.fit(X_train, y_train);\n",
    "    \n",
    "    #Calculate training error (error = 1 - accuracy).\n",
    "    y_pred_class = knn.predict(X_train);\n",
    "    training_accuracy = metrics.accuracy_score(y_train, y_pred_class);\n",
    "    training_error.append(1 - training_accuracy); #error and accuracy are inverse\n",
    "    \n",
    "    #Calculate testing error.\n",
    "    y_pred_class = knn.predict(X_test);\n",
    "    testing_accuracy = metrics.accuracy_score(y_test, y_pred_class);\n",
    "    testing_error.append(1 - testing_accuracy); #error and accuracy are inverse\n"
   ]
  },
  {
   "cell_type": "code",
   "execution_count": 98,
   "metadata": {},
   "outputs": [
    {
     "data": {
      "text/html": [
       "<div>\n",
       "<style scoped>\n",
       "    .dataframe tbody tr th:only-of-type {\n",
       "        vertical-align: middle;\n",
       "    }\n",
       "\n",
       "    .dataframe tbody tr th {\n",
       "        vertical-align: top;\n",
       "    }\n",
       "\n",
       "    .dataframe thead th {\n",
       "        text-align: right;\n",
       "    }\n",
       "</style>\n",
       "<table border=\"1\" class=\"dataframe\">\n",
       "  <thead>\n",
       "    <tr style=\"text-align: right;\">\n",
       "      <th></th>\n",
       "      <th>training error</th>\n",
       "      <th>testing error</th>\n",
       "    </tr>\n",
       "    <tr>\n",
       "      <th>K</th>\n",
       "      <th></th>\n",
       "      <th></th>\n",
       "    </tr>\n",
       "  </thead>\n",
       "  <tbody>\n",
       "    <tr>\n",
       "      <th>1</th>\n",
       "      <td>0.000000</td>\n",
       "      <td>0.015504</td>\n",
       "    </tr>\n",
       "    <tr>\n",
       "      <th>2</th>\n",
       "      <td>0.023256</td>\n",
       "      <td>0.023256</td>\n",
       "    </tr>\n",
       "    <tr>\n",
       "      <th>3</th>\n",
       "      <td>0.019934</td>\n",
       "      <td>0.023256</td>\n",
       "    </tr>\n",
       "    <tr>\n",
       "      <th>4</th>\n",
       "      <td>0.026578</td>\n",
       "      <td>0.031008</td>\n",
       "    </tr>\n",
       "    <tr>\n",
       "      <th>5</th>\n",
       "      <td>0.026578</td>\n",
       "      <td>0.031008</td>\n",
       "    </tr>\n",
       "  </tbody>\n",
       "</table>\n",
       "</div>"
      ],
      "text/plain": [
       "   training error  testing error\n",
       "K                               \n",
       "1        0.000000       0.015504\n",
       "2        0.023256       0.023256\n",
       "3        0.019934       0.023256\n",
       "4        0.026578       0.031008\n",
       "5        0.026578       0.031008"
      ]
     },
     "metadata": {},
     "output_type": "display_data"
    }
   ],
   "source": [
    "#Create a DataFrame of k, training error, and testing error.\n",
    "\n",
    "k_errors_dict = {'K': k_range, 'training error':training_error, 'testing error':testing_error};\n",
    "k_errors_df = pd.DataFrame(k_errors_dict).set_index('K').sort_index(ascending=True); #set index to k and sort values \n",
    "display(k_errors_df.head(5))"
   ]
  },
  {
   "cell_type": "code",
   "execution_count": 99,
   "metadata": {},
   "outputs": [
    {
     "data": {
      "image/png": "[encoded data removed]",
      "text/plain": [
       "<Figure size 576x432 with 1 Axes>"
      ]
     },
     "metadata": {
      "needs_background": "light"
     },
     "output_type": "display_data"
    }
   ],
   "source": [
    "#Plot the relationship between k and testing error (lower is better).\n",
    "\n",
    "k_errors_df.plot(y='testing error', figsize = (8,6), c = 'firebrick', legend = False); #hide legend\n",
    "plt.xlabel('K value', fontsize = 14);\n",
    "plt.ylabel('Testing error', fontsize = 14);\n",
    "plt.title('K value versus Testing error', fontsize = 18);"
   ]
  },
  {
   "cell_type": "code",
   "execution_count": 100,
   "metadata": {},
   "outputs": [
    {
     "data": {
      "text/html": [
       "<div>\n",
       "<style scoped>\n",
       "    .dataframe tbody tr th:only-of-type {\n",
       "        vertical-align: middle;\n",
       "    }\n",
       "\n",
       "    .dataframe tbody tr th {\n",
       "        vertical-align: top;\n",
       "    }\n",
       "\n",
       "    .dataframe thead th {\n",
       "        text-align: right;\n",
       "    }\n",
       "</style>\n",
       "<table border=\"1\" class=\"dataframe\">\n",
       "  <thead>\n",
       "    <tr style=\"text-align: right;\">\n",
       "      <th></th>\n",
       "      <th>training error</th>\n",
       "      <th>testing error</th>\n",
       "    </tr>\n",
       "    <tr>\n",
       "      <th>K</th>\n",
       "      <th></th>\n",
       "      <th></th>\n",
       "    </tr>\n",
       "  </thead>\n",
       "  <tbody>\n",
       "    <tr>\n",
       "      <th>1</th>\n",
       "      <td>0.000000</td>\n",
       "      <td>0.015504</td>\n",
       "    </tr>\n",
       "    <tr>\n",
       "      <th>2</th>\n",
       "      <td>0.023256</td>\n",
       "      <td>0.023256</td>\n",
       "    </tr>\n",
       "    <tr>\n",
       "      <th>3</th>\n",
       "      <td>0.019934</td>\n",
       "      <td>0.023256</td>\n",
       "    </tr>\n",
       "    <tr>\n",
       "      <th>7</th>\n",
       "      <td>0.033223</td>\n",
       "      <td>0.023256</td>\n",
       "    </tr>\n",
       "    <tr>\n",
       "      <th>8</th>\n",
       "      <td>0.033223</td>\n",
       "      <td>0.023256</td>\n",
       "    </tr>\n",
       "    <tr>\n",
       "      <th>9</th>\n",
       "      <td>0.033223</td>\n",
       "      <td>0.023256</td>\n",
       "    </tr>\n",
       "    <tr>\n",
       "      <th>10</th>\n",
       "      <td>0.033223</td>\n",
       "      <td>0.023256</td>\n",
       "    </tr>\n",
       "    <tr>\n",
       "      <th>11</th>\n",
       "      <td>0.033223</td>\n",
       "      <td>0.023256</td>\n",
       "    </tr>\n",
       "    <tr>\n",
       "      <th>23</th>\n",
       "      <td>0.033223</td>\n",
       "      <td>0.031008</td>\n",
       "    </tr>\n",
       "    <tr>\n",
       "      <th>22</th>\n",
       "      <td>0.033223</td>\n",
       "      <td>0.031008</td>\n",
       "    </tr>\n",
       "  </tbody>\n",
       "</table>\n",
       "</div>"
      ],
      "text/plain": [
       "    training error  testing error\n",
       "K                                \n",
       "1         0.000000       0.015504\n",
       "2         0.023256       0.023256\n",
       "3         0.019934       0.023256\n",
       "7         0.033223       0.023256\n",
       "8         0.033223       0.023256\n",
       "9         0.033223       0.023256\n",
       "10        0.033223       0.023256\n",
       "11        0.033223       0.023256\n",
       "23        0.033223       0.031008\n",
       "22        0.033223       0.031008"
      ]
     },
     "metadata": {},
     "output_type": "display_data"
    }
   ],
   "source": [
    "#Find the minimum testing error and the associated K value.\n",
    "\n",
    "#View top 10 rows of k_errors_df sorted by testing error.\n",
    "\n",
    "k_errors_sorted = k_errors_df.sort_values('testing error');\n",
    "display(k_errors_sorted.head(10))"
   ]
  },
  {
   "cell_type": "code",
   "execution_count": 101,
   "metadata": {},
   "outputs": [
    {
     "name": "stdout",
     "output_type": "stream",
     "text": [
      "The KNN model with k = 1 has optimal model complexity because it has the lowest testing error of 0.0155.\n"
     ]
    },
    {
     "data": {
      "image/png": "[encoded data removed]",
      "text/plain": [
       "<Figure size 720x576 with 1 Axes>"
      ]
     },
     "metadata": {
      "needs_background": "light"
     },
     "output_type": "display_data"
    }
   ],
   "source": [
    "#Plot the relationship between k and both training and testing error.\n",
    "\n",
    "k_errors_df.plot(figsize = (10,8));\n",
    "plt.xlabel('Value of K for KNN', fontsize = 14);\n",
    "plt.ylabel('Error', fontsize = 14);\n",
    "plt.title('K values 1 to 50 versus Training and Testing error', fontsize = 18);\n",
    "\n",
    "#Print out the model with optimal complexity (lowest testing error).\n",
    "\n",
    "print(f'The KNN model with k = {k_errors_sorted.index[0]} has optimal model complexity because it has the lowest testing error of {round(k_errors_sorted.values[0][1],5)}.')"
   ]
  },
  {
   "cell_type": "markdown",
   "metadata": {},
   "source": [
    "### Optimal K Analysis:\n",
    "\n",
    "Although k = 1 appears to the most optimal value because of training error = 0 and testing error = 0.0155, these amazing results are a symptom of overtraining. A KNN model with k=1 estimates the probability of a value based on the closest sample (which would be itself in the case no other samples match). In reality, this model would be very sensitive to outliers and noise with a larger out-of-sample dataset.\n",
    "\n",
    "It is better to use a higher k value to have a more robust model that is not as sensitive to outliers and noisy data, but not too high as to introduce more testing error. Therefore the optimal value is actually k = 11, which has training error = 0.03322 and testing error = 0.02326. Both of these error values remain the same from k's 7 through 11, but testing error increases at k = 12, so it is best to choose k = 11 actually."
   ]
  },
  {
   "cell_type": "markdown",
   "metadata": {},
   "source": [
    "### 5-Fold Cross Validation of optimal KNN model (k = 11)."
   ]
  },
  {
   "cell_type": "code",
   "execution_count": 102,
   "metadata": {},
   "outputs": [
    {
     "name": "stdout",
     "output_type": "stream",
     "text": [
      "KFold(n_splits=5, random_state=42, shuffle=True)\n"
     ]
    }
   ],
   "source": [
    "#Create KFold cross-validator object with desired number of folds.\n",
    "\n",
    "kf = KFold(n_splits=5, shuffle = True, random_state = 42);  #shuffle the data and use random seed for reproducibility\n",
    "kf.get_n_splits(X); #returns number of splitting iterations in the cross-validator\n",
    "print(kf)  #look at kf parameters"
   ]
  },
  {
   "cell_type": "code",
   "execution_count": 103,
   "metadata": {},
   "outputs": [
    {
     "name": "stdout",
     "output_type": "stream",
     "text": [
      "(344, 39) (344,) (86, 39) (86,)\n",
      "(344, 39) (344,) (86, 39) (86,)\n",
      "(344, 39) (344,) (86, 39) (86,)\n",
      "(344, 39) (344,) (86, 39) (86,)\n",
      "(344, 39) (344,) (86, 39) (86,)\n"
     ]
    }
   ],
   "source": [
    "#Iterate through each K-fold and train/test separate KNN models using the optimal k-nearest neighbors (determined above).\n",
    "\n",
    "scores = []; #initialize list to hold accuracy scores for all folds\n",
    "\n",
    "for train_index, test_index in kf.split(X):\n",
    "    \n",
    "    #Create train and test sets using the split indices.\n",
    "    X_train, X_test = X.iloc[train_index], X.iloc[test_index]; \n",
    "    y_train, y_test = y[train_index], y[test_index];\n",
    "    \n",
    "    print(X_train.shape, y_train.shape, X_test.shape, y_test.shape)\n",
    "    \n",
    "    #Train model with train set using k = 11 (optimal number of neighbors).\n",
    "    knn = KNeighborsClassifier(n_neighbors = 11);\n",
    "    knn.fit(X_train, y_train);\n",
    "    \n",
    "    #Use KNN model to predict values for test set and check Testing accuracy.\n",
    "    y_pred = knn.predict(X_test);  #predict Quality of care based on test set\n",
    "    acc = metrics.accuracy_score(y_test, y_pred); #calculate accuracy score of current fold\n",
    "    scores.append(round(acc,5)); #append rounded score to the scores list\n",
    "    "
   ]
  },
  {
   "cell_type": "code",
   "execution_count": 104,
   "metadata": {},
   "outputs": [
    {
     "name": "stdout",
     "output_type": "stream",
     "text": [
      "Testing accuracy of each fold: [0.97674, 0.96512, 0.97674, 0.95349, 0.95349]\n",
      "Overall testing accuracy: 0.965\n"
     ]
    }
   ],
   "source": [
    "#View accuracy of each individual fold and the overall testing accuracy.\n",
    "\n",
    "print(f'Testing accuracy of each fold: {scores}')\n",
    "overalltestingacc = round(np.mean(scores),3);\n",
    "print(f'Overall testing accuracy: {overalltestingacc}')"
   ]
  },
  {
   "cell_type": "code",
   "execution_count": 105,
   "metadata": {},
   "outputs": [
    {
     "name": "stdout",
     "output_type": "stream",
     "text": [
      "Standard Deviation of the individual fold scores: 0.01\n"
     ]
    }
   ],
   "source": [
    "#View the standard deviation of the individual fold scores.\n",
    "\n",
    "print(f'Standard Deviation of the individual fold scores: {round(np.std(scores),3)}')"
   ]
  },
  {
   "cell_type": "markdown",
   "metadata": {},
   "source": [
    "### Determine Null accuracy (baseline) of optimal model to compare to Overall (mean) testing accuracy.\n",
    "Null accuracy is the accuracy that can be achieved by always predicting the most frequent class."
   ]
  },
  {
   "cell_type": "code",
   "execution_count": 106,
   "metadata": {},
   "outputs": [
    {
     "name": "stdout",
     "output_type": "stream",
     "text": [
      "0    198\n",
      "1    145\n",
      "2      1\n",
      "Name: QualityOfCare_num, dtype: int64\n",
      "\n",
      "Most frequent class: 0\n"
     ]
    }
   ],
   "source": [
    "#Determine the most frequent class in the target vector (y).\n",
    "#Mapped values: Low is 0, Medium is 1, High is 2.\n",
    "\n",
    "most_freq_class = y_train.value_counts().index[0]; #last fold from cross-validation\n",
    "\n",
    "print(y_train.value_counts())  #value counts from train set\n",
    "print(f'\\nMost frequent class: {most_freq_class}')\n",
    "\n",
    "#198 issuers have 'Low' quality of care.\n",
    "#145 issuers have 'Medium' quality of care.\n",
    "#1 issuer has 'High' quality of care."
   ]
  },
  {
   "cell_type": "code",
   "execution_count": 107,
   "metadata": {},
   "outputs": [
    {
     "name": "stdout",
     "output_type": "stream",
     "text": [
      "Null accuracy: 0.6627906976744186\n"
     ]
    }
   ],
   "source": [
    "#Compute the Null accuracy of the testing set.\n",
    "\n",
    "nullacc = (y_test.value_counts()[most_freq_class] / len(y_test)  );\n",
    "print(f'Null accuracy: {nullacc}')\n"
   ]
  },
  {
   "cell_type": "code",
   "execution_count": 108,
   "metadata": {},
   "outputs": [
    {
     "name": "stdout",
     "output_type": "stream",
     "text": [
      "The optimal KNN-11 model has an overall testing accuracy of 0.965, which is an improvement of 45.596% over the baseline.\n"
     ]
    }
   ],
   "source": [
    "#View the improvement of the overall (mean) testing accuracy of the optimal model compared to the baseline model.\n",
    "\n",
    "percentimprovement = round( ((overalltestingacc - nullacc)/nullacc)*100 ,3);\n",
    "print(f'The optimal KNN-11 model has an overall testing accuracy of {overalltestingacc}, which is an improvement of {percentimprovement}% over the baseline.')"
   ]
  },
  {
   "cell_type": "markdown",
   "metadata": {},
   "source": [
    "### Predictive Modeling Analysis:"
   ]
  },
  {
   "cell_type": "markdown",
   "metadata": {},
   "source": [
    "This working model to predict the quality of care of a US Health Insurance Provider (issuer) would allow customers (individuals and small businesses) to view how good their current insurance is based on the types of benefits that they currently receive, as well as view how their current individual premium rate stacks up against issuers in other states. In this way, existing customers can determine if they should find another Health Insurance Provider with better quality of care, and new customers can determine which states have the best quality of care for their price range. Other stakeholders include the issuers (e.g. Meridian Choice, Blue Cross), which can compare the quality of care they offer to customers against competitors in the same state or across the country, and perhaps offer better premium rates/more benefits in the future.\n",
    "\n",
    "The 'QualityOfCare' engineered column is based on the number of relevant benefits offered by a unique issuer (430 total issuers). The relevant benefits (9 total) were selected based on my personal opinion regarding which benefits would be most valued by a typical customer seeking a good Health Insurance Provider. The issuer receives a value of \"Low\" if it provides 1-3 relevant benefits, \"Medium\" if it provides 4-6 relevant benefits, or \"High\" if it provides 7-9 relevant benefits. The 'QualityOfCare_num' column is the target variable that contains the values of (0,1,2) which map to values ('Low', 'Medium', 'High') from the 'QualityOfCare' column.\n",
    "\n",
    "I decided to use 39 total features (independent variables) to train the KNN Classifier models: 'IndividualRate_mean' and 38 state dummy columns (one for each state provided in the dataset). The state dummy columns have boolean functionality, where 1 means the issuer is located in that state, and 0 means the issuer is not located there. 'IndividualRate_mean' is the most logical choice to use because it has a positive correlation to 'QualityOfCare_num' (target variable) according to the heatmap of distinct_issuers_relevantinfo DF. All the state dummy columns have little to no positive correlation to 'QualityOfCare_num', however I decided to use them all because the number of issuers available per state in the dataset is not consistent. For future work, I will look to reduce model complexity by narrowing down the amount of state columns used as features.\n",
    "\n",
    "The optimal KNN Classifier model uses k = 11 because it has the next lowest testing error after k = 1, and is the highest k value out of k's with the same testing error (which I reviewed earlier in the Optimal K Analysis section). Using k = 11 leads to a more robust model than using k = 1 because it can handle outliers much better in practical application with out-of-sample data. Finally, I evaluated the optimal model using 5-Fold Cross Validation. For this the data is shuffled and partitioned into 5 unique batches, in which 4 batches are using as training data and 1 batch is used as testing data for each KNN-11 model.\n",
    "The KNN-11 Classifier has an overall (mean) testing accuracy of 0.965, which is an improvement of 45% over the baseline model (for which all predictions are the most frequent value of 'QualityOfCare_num' in the testing set). \n",
    "\n",
    "**Conclusion: This KNN-11 Classifier model is useable for predicting the Quality of Care of a Health Insurance Provider.**"
   ]
  },
  {
   "cell_type": "markdown",
   "metadata": {},
   "source": [
    "## Section 4: References"
   ]
  },
  {
   "cell_type": "markdown",
   "metadata": {},
   "source": [
    "1) \"Health Insurance Exchange Public Use Files (Exchange PUFs)\", Accessed from https://www.cms.gov/cciio/resources/data-resources/marketplace-puf.\n",
    "\n",
    "2) \"Explore health and dental plans data in the US Health Insurance Marketplace\", Accessed from https://www.kaggle.com/hhs/health-insurance-marketplace.\n",
    "\n",
    "3) \"Tobacco Users & Health Insurance Premiums\", Accessed from https://www.americanexchange.com/tobacco-users-health-insurance-premiums/.\n",
    "\n",
    "4) \"What Smokers Should Know About Buying Life Insurance\", Accessed from #https://www.forbes.com/advisor/life-insurance/smokers/.\n",
    "\n"
   ]
  }
 ],
 "metadata": {
  "kernelspec": {
   "display_name": "Python 3",
   "language": "python",
   "name": "python3"
  },
  "language_info": {
   "codemirror_mode": {
    "name": "ipython",
    "version": 3
   },
   "file_extension": ".py",
   "mimetype": "text/x-python",
   "name": "python",
   "nbconvert_exporter": "python",
   "pygments_lexer": "ipython3",
   "version": "3.7.6"
  }
 },
 "nbformat": 4,
 "nbformat_minor": 4
}
